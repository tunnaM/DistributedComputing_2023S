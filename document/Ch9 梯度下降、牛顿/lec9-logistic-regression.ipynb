{
 "cells": [
  {
   "cell_type": "markdown",
   "id": "294f54c3",
   "metadata": {},
   "source": [
    "# 分布式 Logistic 回归模型"
   ]
  },
  {
   "cell_type": "markdown",
   "id": "dd303e5e",
   "metadata": {},
   "source": [
    "### 1. 准备工作"
   ]
  },
  {
   "cell_type": "markdown",
   "id": "4330a894",
   "metadata": {},
   "source": [
    "配置和启动 PySpark："
   ]
  },
  {
   "cell_type": "code",
   "execution_count": 1,
   "id": "54d9bba0",
   "metadata": {},
   "outputs": [
    {
     "name": "stdout",
     "output_type": "stream",
     "text": [
      "<pyspark.sql.session.SparkSession object at 0x000002278E3B71C0>\n",
      "<SparkContext master=local[*] appName=Logistic Regression>\n"
     ]
    }
   ],
   "source": [
    "import findspark\n",
    "findspark.init()\n",
    "\n",
    "from pyspark.sql import SparkSession\n",
    "# 本地模式\n",
    "spark = SparkSession.builder.\\\n",
    "    master(\"local[*]\").\\\n",
    "    appName(\"Logistic Regression\").\\\n",
    "    getOrCreate()\n",
    "sc = spark.sparkContext\n",
    "# sc.setLogLevel(\"ERROR\")\n",
    "print(spark)\n",
    "print(sc)"
   ]
  },
  {
   "cell_type": "markdown",
   "id": "b67ee1cd",
   "metadata": {},
   "source": [
    "假设 $n\\gg p$，利用 Numpy 生成模拟数据，并写入文件。"
   ]
  },
  {
   "cell_type": "code",
   "execution_count": 2,
   "id": "cc36a5cc",
   "metadata": {},
   "outputs": [],
   "source": [
    "import os\n",
    "import numpy as np\n",
    "from scipy.special import expit, logit\n",
    "np.set_printoptions(linewidth=100)\n",
    "\n",
    "np.random.seed(123)\n",
    "n = 100000\n",
    "p = 100\n",
    "x = np.random.normal(size=(n, p))\n",
    "beta = np.random.normal(size=p)\n",
    "prob = expit(x.dot(beta))  # p = 1 / (1 + exp(-x * beta))\n",
    "y = np.random.binomial(1, prob, size=n)\n",
    "dat = np.hstack((y.reshape(n, 1), x))\n",
    "if not os.path.exists(\"data\"):\n",
    "    os.makedirs(\"data\", exist_ok=True)\n",
    "np.savetxt(\"data/logistic.txt\", dat, fmt=\"%f\", delimiter=\"\\t\")"
   ]
  },
  {
   "cell_type": "markdown",
   "id": "0814eb19",
   "metadata": {},
   "source": [
    "其中 `expit()` 即 Sigmoid 函数，表达式为 $\\rho(x)=1/(1+e^{-x})$。 "
   ]
  },
  {
   "cell_type": "markdown",
   "id": "8b44965a",
   "metadata": {},
   "source": [
    "PySpark 读取文件并进行一些简单操作："
   ]
  },
  {
   "cell_type": "code",
   "execution_count": 3,
   "id": "4dfebd79",
   "metadata": {
    "scrolled": true
   },
   "outputs": [
    {
     "name": "stdout",
     "output_type": "stream",
     "text": [
      "100000\n",
      "\n",
      "0.000000\t-1.085631\t0.997345\t0.282978\t-1.506295\t-0.578600\t1.651437\t-2.4...\n",
      "1.000000\t0.642055\t-1.977888\t0.712265\t2.598304\t-0.024626\t0.034142\t0.179...\n",
      "0.000000\t0.703310\t-0.598105\t2.200702\t0.688297\t-0.006307\t-0.206662\t-0.0...\n",
      "1.000000\t0.765055\t-0.828989\t-0.659151\t0.611124\t-0.144013\t1.316606\t-0.7...\n",
      "0.000000\t1.534090\t-0.529914\t-0.490972\t-1.309165\t-0.008660\t0.976813\t-1....\n"
     ]
    }
   ],
   "source": [
    "file = sc.textFile(\"data/logistic.txt\")  # 注意查看数据，然后看一下如何分隔，可以通过打印第一行\n",
    "\n",
    "# 打印矩阵行数\n",
    "print(file.count())\n",
    "\n",
    "# 空行\n",
    "print()\n",
    "\n",
    "# 打印前5行，并将每行字符串截尾\n",
    "text = file.map(lambda x: x[:70] + \"...\").take(5)\n",
    "print(*text, sep=\"\\n\")"
   ]
  },
  {
   "cell_type": "markdown",
   "id": "96ca1b07",
   "metadata": {},
   "source": [
    "### 2. 牛顿法迭代"
   ]
  },
  {
   "cell_type": "markdown",
   "id": "cc4a0ff4",
   "metadata": {},
   "source": [
    "Logistic 回归的系数估计没有显式解，但可以利用牛顿法迭代。参见 [https://online.stat.psu.edu/stat508/lesson/9/9.1/9.1.2](https://online.stat.psu.edu/stat508/lesson/9/9.1/9.1.2)。"
   ]
  },
  {
   "cell_type": "markdown",
   "id": "5c735d6e",
   "metadata": {},
   "source": [
    "迭代公式为 $\\beta^{new}=(X'WX)^{-1}X'Wz$，其中 $z=X\\beta^{old}+W^{-1}(y-prob)$，$prob$ 是 $\\rho(X\\beta^{old})$ 组成的向量，$W$ 是以 $prob\\cdot (1-prob)$ 为对角线元素的对角矩阵。"
   ]
  },
  {
   "cell_type": "markdown",
   "id": "9bf28dac",
   "metadata": {},
   "source": [
    "当 $n\\gg p$ 且 $p$ 不太大时，$X'WX$ 为 $p\\times p$ 矩阵，$X'Wz$ 为 $p\\times 1$ 向量，均可放入内存。因此，此时问题的核心在于计算 $X'WX$ 与 $X'Wz$。"
   ]
  },
  {
   "cell_type": "markdown",
   "id": "414e77bd",
   "metadata": {},
   "source": [
    "首先进行分区映射："
   ]
  },
  {
   "cell_type": "code",
   "execution_count": 4,
   "id": "b3e21ee5",
   "metadata": {},
   "outputs": [
    {
     "name": "stdout",
     "output_type": "stream",
     "text": [
      "3\n"
     ]
    }
   ],
   "source": [
    "# file = file.repartition(10)\n",
    "print(file.getNumPartitions())"
   ]
  },
  {
   "cell_type": "code",
   "execution_count": 5,
   "id": "3d75ea38",
   "metadata": {},
   "outputs": [],
   "source": [
    "# str => np.array\n",
    "def str_to_vec(line):\n",
    "    # 分割字符串\n",
    "    str_vec = line.split(\"\\t\")\n",
    "    # 将每一个元素从字符串变成数值型\n",
    "    num_vec = map(lambda s: float(s), str_vec)\n",
    "    # 创建 Numpy 向量\n",
    "    return np.fromiter(num_vec, dtype=float)\n",
    "\n",
    "# Iter[str] => Iter[matrix]\n",
    "def part_to_mat(iterator):\n",
    "    # Iter[str] => Iter[np.array]\n",
    "    iter_arr = map(str_to_vec, iterator)\n",
    "\n",
    "    # Iter[np.array] => list(np.array)\n",
    "    dat = list(iter_arr)\n",
    "\n",
    "    # list(np.array) => matrix\n",
    "    if len(dat) < 1:  # Test zero iterator\n",
    "        mat = np.array([])\n",
    "    else:\n",
    "        mat = np.vstack(dat)\n",
    "\n",
    "    # matrix => Iter[matrix]\n",
    "    yield mat"
   ]
  },
  {
   "cell_type": "code",
   "execution_count": 6,
   "id": "d437358b",
   "metadata": {},
   "outputs": [
    {
     "name": "stdout",
     "output_type": "stream",
     "text": [
      "3\n"
     ]
    },
    {
     "data": {
      "text/plain": [
       "PythonRDD[5] at RDD at PythonRDD.scala:53"
      ]
     },
     "execution_count": 6,
     "metadata": {},
     "output_type": "execute_result"
    }
   ],
   "source": [
    "dat = file.mapPartitions(part_to_mat).filter(lambda x: x.shape[0] > 0)\n",
    "print(dat.count())\n",
    "dat.cache()"
   ]
  },
  {
   "cell_type": "code",
   "execution_count": 7,
   "id": "eb2cd1b8",
   "metadata": {},
   "outputs": [
    {
     "data": {
      "text/plain": [
       "array([[ 0.      , -1.085631,  0.997345, ..., -1.363472,  0.379401, -0.379176],\n",
       "       [ 1.      ,  0.642055, -1.977888, ..., -0.110851, -0.341262, -0.217946],\n",
       "       [ 0.      ,  0.70331 , -0.598105, ...,  0.415695,  0.160544,  0.819761],\n",
       "       ...,\n",
       "       [ 0.      ,  0.348678, -2.078281, ..., -1.108426, -1.385233, -0.173929],\n",
       "       [ 0.      , -1.716787,  0.370369, ..., -0.125681, -0.398374, -0.987013],\n",
       "       [ 0.      ,  0.86831 , -0.9381  , ...,  0.023153, -0.897204,  0.535759]])"
      ]
     },
     "execution_count": 7,
     "metadata": {},
     "output_type": "execute_result"
    }
   ],
   "source": [
    "dat.first()"
   ]
  },
  {
   "cell_type": "markdown",
   "id": "d05681c4",
   "metadata": {},
   "source": [
    "注意此时每个分区上的数据同时包含了因变量 $y$ 和自变量 $X$。给定当前估计 $\\beta^{old}$，计算每个分区上的统计量 $X'WX$ 和 $X'Wz$："
   ]
  },
  {
   "cell_type": "code",
   "execution_count": 8,
   "id": "c5bee37a",
   "metadata": {
    "scrolled": false
   },
   "outputs": [],
   "source": [
    "def compute_stats(part_mat, beta_old):\n",
    "    # 提取 X 和 y\n",
    "    y = part_mat[:, 0]\n",
    "    x = part_mat[:, 1:]\n",
    "    # X * beta\n",
    "    xb = x.dot(beta_old)\n",
    "    # rho(X * beta)\n",
    "    prob = expit(xb)\n",
    "    # W 的对角线元素\n",
    "    w = prob * (1.0 - prob) + 1e-6\n",
    "    # X'W，数组广播操作，避免生成完整的 W\n",
    "    xtw = x.transpose() * w\n",
    "    # X'WX\n",
    "    xtwx = xtw.dot(x)\n",
    "    # X'Wz\n",
    "    z = xb + (y - prob) / w\n",
    "    xtwz = xtw.dot(z)\n",
    "    # 目标函数：sum(y * log(prob) + (1 - y) * log(1 - prob))\n",
    "    objfn = -np.sum(y * np.log(prob + 1e-8) + (1.0 - y) * np.log(1.0 - prob + 1e-8))\n",
    "    return xtwx, xtwz, objfn"
   ]
  },
  {
   "cell_type": "markdown",
   "id": "fc090087",
   "metadata": {},
   "source": [
    "主循环："
   ]
  },
  {
   "cell_type": "code",
   "execution_count": 9,
   "id": "55a52b11",
   "metadata": {},
   "outputs": [
    {
     "name": "stdout",
     "output_type": "stream",
     "text": [
      "Iteration 0, objfn = 69314.71605599453, resid = 1.570403743898301\n",
      "Iteration 1, objfn = 32637.520394548366, resid = 1.3912432651305593\n",
      "Iteration 2, objfn = 21628.54319311961, resid = 1.7393341248434806\n",
      "Iteration 3, objfn = 16007.123573787421, resid = 2.0827596366952865\n",
      "Iteration 4, objfn = 13331.196934357777, resid = 2.063670753391924\n",
      "Iteration 5, objfn = 12380.364067131337, resid = 1.320062748258974\n",
      "Iteration 6, objfn = 12209.479535070568, resid = 0.351657288363309\n",
      "Iteration 7, objfn = 12201.993763468883, resid = 0.01883251942906698\n",
      "Iteration 8, objfn = 12201.974858771522, resid = 6.669254092120501e-05\n",
      "Iteration 9, objfn = 12201.97485851805, resid = 6.386264232949389e-08\n",
      "\n",
      "finished in 80.42024254798889 seconds\n"
     ]
    }
   ],
   "source": [
    "import time\n",
    "\n",
    "# 根据数据动态获取维度，不要使用之前模拟时的变量\n",
    "p = dat.first().shape[1] - 1\n",
    "# beta 初始化为 0 向量\n",
    "beta_hat = np.zeros(p)\n",
    "# 记录目标函数值\n",
    "objvals = []\n",
    "\n",
    "# 最大迭代次数\n",
    "maxit = 30\n",
    "# 收敛条件\n",
    "eps = 1e-6\n",
    "\n",
    "t1 = time.time()\n",
    "for i in range(maxit):\n",
    "    # 完整数据的 X'WX 和 X'Wz 是各分区的加和\n",
    "    xtwx, xtwz, objfn = dat.map(lambda part: compute_stats(part, beta_hat)).\\\n",
    "        reduce(lambda x, y: (x[0] + y[0], x[1] + y[1], x[2] + y[2]))\n",
    "    # 计算新 beta\n",
    "    beta_new = np.linalg.solve(xtwx, xtwz)\n",
    "    # 计算 beta 的变化\n",
    "    resid = np.linalg.norm(beta_new - beta_hat)\n",
    "    print(f\"Iteration {i}, objfn = {objfn}, resid = {resid}\")\n",
    "    objvals.append(objfn) # 存下来后续查看函数变化，帮助debug\n",
    "    # 如果 beta 几乎不再变化，退出循环\n",
    "    if resid < eps:\n",
    "        break\n",
    "    # 更新 beta\n",
    "    beta_hat = beta_new\n",
    "t2 = time.time()\n",
    "print(f\"\\nfinished in {t2 - t1} seconds\")"
   ]
  },
  {
   "cell_type": "markdown",
   "id": "29f2463c",
   "metadata": {},
   "source": [
    "绘制目标函数变化曲线："
   ]
  },
  {
   "cell_type": "code",
   "execution_count": 10,
   "id": "f2fa877f",
   "metadata": {},
   "outputs": [
    {
     "data": {
      "text/plain": [
       "[<matplotlib.lines.Line2D at 0x227a42f8a60>]"
      ]
     },
     "execution_count": 10,
     "metadata": {},
     "output_type": "execute_result"
    },
    {
     "data": {
      "image/png": "[encoded data removed]",
      "text/plain": [
       "<Figure size 432x288 with 1 Axes>"
      ]
     },
     "metadata": {
      "needs_background": "light"
     },
     "output_type": "display_data"
    }
   ],
   "source": [
    "import matplotlib.pyplot as plt\n",
    "plt.plot(objvals)"
   ]
  },
  {
   "cell_type": "code",
   "execution_count": 11,
   "id": "6a44382d",
   "metadata": {},
   "outputs": [
    {
     "data": {
      "text/plain": [
       "array([-0.60081137, -1.11699943,  1.18280741,  0.67081184,  0.66972214, -1.7050926 ,  0.87667438,\n",
       "       -0.69162028,  1.22498276, -0.19295167, -0.57348698,  0.4438535 ,  1.58654734,  0.95466432,\n",
       "        0.35391181, -0.64090597, -0.17474585,  1.02542448,  0.97981925, -0.21859861,  0.24757379,\n",
       "       -1.95900962,  0.95583415, -0.46660488, -1.31970033, -1.07853375, -0.96233439, -0.49092673,\n",
       "       -0.3885543 ,  0.11810773,  0.73827597,  0.41778154,  0.77903403,  0.14037218, -0.20613105,\n",
       "        1.33428288, -0.83007447, -1.58758058, -0.04096082,  0.0541461 , -0.00642397, -0.33036421,\n",
       "       -1.77087006, -1.35171751, -1.5966188 , -1.29920738,  0.97837832,  0.94548003, -0.84784072,\n",
       "       -1.07477454, -0.65768838, -1.52644047, -1.44272699, -1.41389125,  0.07668639, -2.07684364,\n",
       "        0.23669264, -1.45794974, -0.4810764 , -1.11145764,  1.22263435,  0.71045908,  0.45432555,\n",
       "       -0.20531513,  1.18659728, -0.16870397,  0.41973803,  0.47919672, -0.27444064, -0.92214026,\n",
       "       -2.52772108,  1.22723675, -0.42598365,  0.40072802,  0.75623853,  1.60377197, -0.3722838 ,\n",
       "        0.40608403, -1.41559872, -0.48177148, -0.29070555, -1.65141506,  1.17015611,  0.44435796,\n",
       "        0.21493992, -0.59912131,  1.16463415, -2.22811656, -0.50241883, -1.11147313,  1.60793224,\n",
       "       -1.32742954, -0.05349037,  2.20936195,  1.46316333,  0.54528273, -0.72404971,  0.47847074,\n",
       "        2.16549095,  1.6497254 ])"
      ]
     },
     "execution_count": 11,
     "metadata": {},
     "output_type": "execute_result"
    }
   ],
   "source": [
    "beta_hat"
   ]
  },
  {
   "cell_type": "code",
   "execution_count": 12,
   "id": "5997548c",
   "metadata": {},
   "outputs": [
    {
     "data": {
      "text/plain": [
       "array([-0.58441387, -1.11534971,  1.15570434,  0.68635474,  0.64559564, -1.70989894,  0.87296263,\n",
       "       -0.69061605,  1.21015702, -0.17972039, -0.59593691,  0.45252029,  1.55835773,  0.93393225,\n",
       "        0.33544231, -0.62751865, -0.16601382,  1.03999001,  0.99253053, -0.22189606,  0.26883567,\n",
       "       -1.95555529,  0.93138627, -0.47006585, -1.30103516, -1.0852571 , -0.92710125, -0.46948194,\n",
       "       -0.41250335,  0.09711287,  0.73781056,  0.43563306,  0.78146188,  0.09794209, -0.20673932,\n",
       "        1.3563857 , -0.84334031, -1.57440936, -0.02785942,  0.04491426, -0.00378645, -0.32005209,\n",
       "       -1.73699327, -1.35755085, -1.61153494, -1.29018054,  0.92198227,  0.92329806, -0.87182087,\n",
       "       -1.11109253, -0.64117813, -1.54063266, -1.47551246, -1.40012474,  0.05626203, -2.06673395,\n",
       "        0.24069911, -1.45962908, -0.49910593, -1.08548   ,  1.22895895,  0.71943325,  0.47494861,\n",
       "       -0.21579343,  1.19116701, -0.19017216,  0.4216233 ,  0.48972018, -0.2864368 , -0.92757763,\n",
       "       -2.54487881,  1.2137159 , -0.40262445,  0.40946857,  0.74671794,  1.59476786, -0.36007466,\n",
       "        0.41427829, -1.43588821, -0.47424149, -0.27699872, -1.66246218,  1.15732258,  0.42792354,\n",
       "        0.22067973, -0.59542409,  1.16612341, -2.23575698, -0.49771051, -1.10650178,  1.60199211,\n",
       "       -1.32128632, -0.05640532,  2.21514038,  1.46662192,  0.54730866, -0.7372505 ,  0.44819396,\n",
       "        2.14210279,  1.67452645])"
      ]
     },
     "execution_count": 12,
     "metadata": {},
     "output_type": "execute_result"
    }
   ],
   "source": [
    "beta"
   ]
  },
  {
   "cell_type": "markdown",
   "id": "e5a28ade",
   "metadata": {},
   "source": [
    "### 3. 梯度下降法迭代"
   ]
  },
  {
   "cell_type": "markdown",
   "id": "ec2c982a",
   "metadata": {},
   "source": [
    "迭代公式为 $\\beta^{new}=\\beta^{old}-\\alpha\\cdot n^{-1}X'(prob-y)$，其中 $prob$ 是 $\\rho(X\\beta^{old})$ 组成的向量。"
   ]
  },
  {
   "cell_type": "code",
   "execution_count": 13,
   "id": "75993d43",
   "metadata": {},
   "outputs": [],
   "source": [
    "def compute_obj_grad(part_mat, beta_old):\n",
    "    # 提取 X 和 y\n",
    "    y = part_mat[:, 0]\n",
    "    x = part_mat[:, 1:]\n",
    "    # X * beta\n",
    "    xb = x.dot(beta_old)\n",
    "    # rho(X * beta)\n",
    "    prob = expit(xb)\n",
    "    # 目标函数：sum(y * log(prob) + (1 - y) * log(1 - prob)) 取log所以防止接近0\n",
    "    obj = -np.sum(y * np.log(prob + 1e-8) + (1.0 - y) * np.log(1.0 - prob + 1e-8))\n",
    "    # 梯度：X'(prob - y)\n",
    "    grad = x.transpose().dot(prob - y)\n",
    "    # 该分块的样本量\n",
    "    ni = x.shape[0]\n",
    "    return ni, obj, grad"
   ]
  },
  {
   "cell_type": "markdown",
   "id": "91de3cb2",
   "metadata": {},
   "source": [
    "主循环："
   ]
  },
  {
   "cell_type": "code",
   "execution_count": 14,
   "id": "2316ce32",
   "metadata": {
    "scrolled": true
   },
   "outputs": [
    {
     "name": "stdout",
     "output_type": "stream",
     "text": [
      "Iteration 0, objfn = 0.6931471605599453, grad_norm = 0.3936737955731282, beta_norm = 0.0\n",
      "Iteration 1, objfn = 0.17950616436038194, grad_norm = 0.031619931547791455, beta_norm = 3.936737955731282\n",
      "Iteration 2, objfn = 0.1707471024683261, grad_norm = 0.025383527519615347, beta_norm = 4.229491074256976\n",
      "Iteration 3, objfn = 0.16469381927034402, grad_norm = 0.022392841191143965, beta_norm = 4.483061356681379\n",
      "Iteration 4, objfn = 0.15994191805009847, grad_norm = 0.020095697896829853, beta_norm = 4.7069573090021795\n",
      "Iteration 5, objfn = 0.1560914605394923, grad_norm = 0.018258205753545906, beta_norm = 4.907896894608809\n",
      "Iteration 6, objfn = 0.152897837488854, grad_norm = 0.016748376887099004, beta_norm = 5.090465232475998\n",
      "Iteration 7, objfn = 0.1502003244937587, grad_norm = 0.015481630776221285, beta_norm = 5.257937245323649\n",
      "Iteration 8, objfn = 0.14788823548439792, grad_norm = 0.014400867947102373, beta_norm = 5.412743195401856\n",
      "Iteration 9, objfn = 0.14588247717072558, grad_norm = 0.013465993183607724, beta_norm = 5.556742613138677\n",
      "Iteration 10, objfn = 0.14412480971842243, grad_norm = 0.012647938122615896, beta_norm = 5.691394177422893\n",
      "Iteration 11, objfn = 0.14257126682057134, grad_norm = 0.011925062170741834, beta_norm = 5.817865937443336\n",
      "Iteration 12, objfn = 0.1411879521826045, grad_norm = 0.011280889333472271, beta_norm = 5.937109570948278\n",
      "Iteration 13, objfn = 0.13994825854141418, grad_norm = 0.010702632504312599, beta_norm = 6.049912019790597\n",
      "Iteration 14, objfn = 0.13883097223518998, grad_norm = 0.010180201043249668, beta_norm = 6.156932372321495\n",
      "Iteration 15, objfn = 0.13781894778048367, grad_norm = 0.009705515359357654, beta_norm = 6.25872882369962\n",
      "Iteration 16, objfn = 0.13689816010194886, grad_norm = 0.009272022409833214, beta_norm = 6.355778783321509\n",
      "Iteration 17, objfn = 0.13605701336545797, grad_norm = 0.00887434615447452, beta_norm = 6.448494138086995\n",
      "Iteration 18, objfn = 0.135285828086233, grad_norm = 0.008508030764485124, beta_norm = 6.5372330207845835\n",
      "Iteration 19, objfn = 0.1345764545648474, grad_norm = 0.008169348894986737, beta_norm = 6.622309010968415\n",
      "Iteration 20, objfn = 0.13392197743700873, grad_norm = 0.00785515643838058, beta_norm = 6.703998418850022\n",
      "Iteration 21, objfn = 0.1333164869928753, grad_norm = 0.007562781033686115, beta_norm = 6.782546116935563\n",
      "Iteration 22, objfn = 0.13275490013571217, grad_norm = 0.007289935458333011, beta_norm = 6.858170256913878\n",
      "Iteration 23, objfn = 0.13223281873103665, grad_norm = 0.007034649611633403, beta_norm = 6.931066120581165\n",
      "Iteration 24, objfn = 0.13174641645887447, grad_norm = 0.006795216562626027, beta_norm = 7.0014092906910035\n",
      "Iteration 25, objfn = 0.13129234763395733, grad_norm = 0.006570149358979504, beta_norm = 7.069358282352835\n",
      "Iteration 26, objfn = 0.1308676731290005, grad_norm = 0.006358146156071961, beta_norm = 7.1350567425741245\n",
      "Iteration 27, objfn = 0.13046979973838996, grad_norm = 0.006158061841497278, beta_norm = 7.198635301136423\n",
      "Iteration 28, objfn = 0.1300964301957204, grad_norm = 0.005968884776077151, beta_norm = 7.260213137750762\n",
      "Iteration 29, objfn = 0.12974552170449705, grad_norm = 0.005789717598891612, beta_norm = 7.31989931665069\n",
      "Iteration 30, objfn = 0.1294152513225752, grad_norm = 0.0056197612854906875, beta_norm = 7.377793929257837\n",
      "Iteration 31, objfn = 0.12910398690310299, grad_norm = 0.005458301829174562, beta_norm = 7.43398907744772\n",
      "Iteration 32, objfn = 0.12881026256986186, grad_norm = 0.00530469905168498, beta_norm = 7.488569723643183\n",
      "Iteration 33, objfn = 0.12853275791571542, grad_norm = 0.005158377153604571, beta_norm = 7.541614429027028\n",
      "Iteration 34, objfn = 0.12827028027573967, grad_norm = 0.0050188166946202855, beta_norm = 7.593195997268795\n",
      "Iteration 35, objfn = 0.1280217495533896, grad_norm = 0.0048855477556413035, beta_norm = 7.643382038062671\n",
      "Iteration 36, objfn = 0.1277861851774676, grad_norm = 0.0047581440829951825, beta_norm = 7.692235462293708\n",
      "Iteration 37, objfn = 0.12756269484613764, grad_norm = 0.004636218052813881, beta_norm = 7.73981491865201\n",
      "Iteration 38, objfn = 0.12735046477658493, grad_norm = 0.004519416323679728, beta_norm = 7.786175179895874\n",
      "Iteration 39, objfn = 0.12714875122876557, grad_norm = 0.004407416069438546, beta_norm = 7.831367485645722\n",
      "Iteration 40, objfn = 0.1269568731117669, grad_norm = 0.0042999217031660176, beta_norm = 7.87543984750987\n",
      "Iteration 41, objfn = 0.12677420551369728, grad_norm = 0.004196662018630233, beta_norm = 7.918437321453148\n",
      "Iteration 42, objfn = 0.12660017402235005, grad_norm = 0.004097387688020212, beta_norm = 7.960402251582864\n",
      "Iteration 43, objfn = 0.12643424972538803, grad_norm = 0.004001869064817464, beta_norm = 8.001374488914445\n",
      "Iteration 44, objfn = 0.12627594479643414, grad_norm = 0.003909894248948146, beta_norm = 8.041391588167828\n",
      "Iteration 45, objfn = 0.12612480858799444, grad_norm = 0.0038212673781358635, beta_norm = 8.080488985217173\n",
      "Iteration 46, objfn = 0.12598042416417365, grad_norm = 0.0037358071149685822, beta_norm = 8.11870015745565\n",
      "Iteration 47, objfn = 0.12584240521614753, grad_norm = 0.0036533453038256006, beta_norm = 8.15605676903229\n",
      "Iteration 48, objfn = 0.1257103933117009, grad_norm = 0.0035737257756625275, beta_norm = 8.192588802659262\n",
      "Iteration 49, objfn = 0.1255840554371324, grad_norm = 0.003496803281867679, beta_norm = 8.228324679468106\n",
      "Iteration 50, objfn = 0.12546308179570206, grad_norm = 0.003422442541097454, beta_norm = 8.263291368205424\n",
      "Iteration 51, objfn = 0.12534718383175386, grad_norm = 0.003350517385263492, beta_norm = 8.297514484897777\n",
      "Iteration 52, objfn = 0.12523609245384146, grad_norm = 0.003280909992755737, beta_norm = 8.331018383977161\n",
      "Iteration 53, objfn = 0.1251295564337437, grad_norm = 0.0032135101986033466, beta_norm = 8.363826241739408\n",
      "Iteration 54, objfn = 0.12502734096129228, grad_norm = 0.003148214872649254, beta_norm = 8.395960132904719\n",
      "Iteration 55, objfn = 0.12492922633752078, grad_norm = 0.0030849273579843482, beta_norm = 8.427441100960513\n",
      "Iteration 56, objfn = 0.12483500679086647, grad_norm = 0.0030235569628867995, beta_norm = 8.458289222889059\n",
      "Iteration 57, objfn = 0.12474448940305792, grad_norm = 0.0029640185003684673, beta_norm = 8.488523668814915\n",
      "Iteration 58, objfn = 0.12465749313296645, grad_norm = 0.00290623187016584, beta_norm = 8.518162757048227\n",
      "Iteration 59, objfn = 0.12457384792811323, grad_norm = 0.0028501216786465068, beta_norm = 8.54722400494824\n",
      "Iteration 60, objfn = 0.12449339391475166, grad_norm = 0.002795616892649201, beta_norm = 8.57572417598622\n",
      "Iteration 61, objfn = 0.12441598065850838, grad_norm = 0.0027426505237489168, beta_norm = 8.603679323347011\n",
      "Iteration 62, objfn = 0.12434146648849106, grad_norm = 0.002691159339849386, beta_norm = 8.631104830373525\n",
      "Iteration 63, objfn = 0.1242697178785775, grad_norm = 0.0026410836013625104, beta_norm = 8.658015448127356\n",
      "Iteration 64, objfn = 0.12420060888030499, grad_norm = 0.0025923668195456315, beta_norm = 8.68442533031142\n",
      "Iteration 65, objfn = 0.12413402060239499, grad_norm = 0.0025449555348395253, beta_norm = 8.710348065776119\n",
      "Iteration 66, objfn = 0.12406984073248886, grad_norm = 0.002498799113287991, beta_norm = 8.735796708809094\n",
      "Iteration 67, objfn = 0.12400796309714504, grad_norm = 0.0024538495593286864, beta_norm = 8.760783807389293\n",
      "Iteration 68, objfn = 0.12394828725656666, grad_norm = 0.0024100613434283173, beta_norm = 8.785321429569125\n",
      "Iteration 69, objfn = 0.12389071813089733, grad_norm = 0.002367391243196749, beta_norm = 8.809421188133046\n",
      "Iteration 70, objfn = 0.12383516565524808, grad_norm = 0.0023257981967571106, beta_norm = 8.83309426366746\n",
      "Iteration 71, objfn = 0.12378154446090804, grad_norm = 0.0022852431672748304, beta_norm = 8.856351426164386\n",
      "Iteration 72, objfn = 0.1237297735804463, grad_norm = 0.0022456890176599637, beta_norm = 8.87920305527054\n",
      "Iteration 73, objfn = 0.12367977617463996, grad_norm = 0.0022071003945559773, beta_norm = 8.90165915928352\n",
      "Iteration 74, objfn = 0.1236314792793652, grad_norm = 0.002169443620815913, beta_norm = 8.923729392987962\n",
      "Iteration 75, objfn = 0.12358481357076832, grad_norm = 0.0021326865957448995, beta_norm = 8.945423074416546\n",
      "Iteration 76, objfn = 0.12353971314719503, grad_norm = 0.002096798702457542, beta_norm = 8.966749200613487\n"
     ]
    },
    {
     "name": "stdout",
     "output_type": "stream",
     "text": [
      "Iteration 77, objfn = 0.12349611532649797, grad_norm = 0.00206175072176077, beta_norm = 8.987716462471678\n",
      "Iteration 78, objfn = 0.12345396045747288, grad_norm = 0.002027514752028183, beta_norm = 9.008333258708701\n",
      "Iteration 79, objfn = 0.12341319174428828, grad_norm = 0.0019940641345815714, beta_norm = 9.028607709041665\n",
      "Iteration 80, objfn = 0.12337375508287568, grad_norm = 0.0019613733841397645, beta_norm = 9.048547666615898\n",
      "Iteration 81, objfn = 0.12333559890834206, grad_norm = 0.0019294181239348587, beta_norm = 9.06816072973816\n",
      "Iteration 82, objfn = 0.12329867405254823, grad_norm = 0.0018981750251317927, beta_norm = 9.087454252961106\n",
      "Iteration 83, objfn = 0.12326293361107299, grad_norm = 0.001867621750219452, beta_norm = 9.106435357561931\n",
      "Iteration 84, objfn = 0.12322833281885032, grad_norm = 0.0018377369000706061, beta_norm = 9.12511094145502\n",
      "Iteration 85, objfn = 0.12319482893382788, grad_norm = 0.0018084999643941987, beta_norm = 9.143487688575183\n",
      "Iteration 86, objfn = 0.12316238112805124, grad_norm = 0.0017798912753271944, beta_norm = 9.161572077765491\n",
      "Iteration 87, objfn = 0.12313095038562766, grad_norm = 0.0017518919639346153, beta_norm = 9.17937039120103\n",
      "Iteration 88, objfn = 0.12310049940706919, grad_norm = 0.0017244839194057754, beta_norm = 9.196888722377691\n",
      "Iteration 89, objfn = 0.12307099251955554, grad_norm = 0.0016976497507523248, beta_norm = 9.21413298369297\n",
      "Iteration 90, objfn = 0.12304239559269532, grad_norm = 0.0016713727508296237, beta_norm = 9.231108913643741\n",
      "Iteration 91, objfn = 0.12301467595939744, grad_norm = 0.0016456368625174804, beta_norm = 9.247822083664296\n",
      "Iteration 92, objfn = 0.12298780234149607, grad_norm = 0.0016204266469094205, beta_norm = 9.264277904626196\n",
      "Iteration 93, objfn = 0.12296174477980065, grad_norm = 0.001595727253371695, beta_norm = 9.280481633020043\n",
      "Iteration 94, objfn = 0.12293647456826749, grad_norm = 0.0015715243913440842, beta_norm = 9.296438376837855\n",
      "Iteration 95, objfn = 0.12291196419201436, grad_norm = 0.0015478043037645468, beta_norm = 9.312153101173484\n",
      "Iteration 96, objfn = 0.12288818726891935, grad_norm = 0.001524553742008914, beta_norm = 9.327630633557273\n",
      "Iteration 97, objfn = 0.12286511849456569, grad_norm = 0.0015017599422449803, beta_norm = 9.342875669040147\n",
      "Iteration 98, objfn = 0.1228427335903126, grad_norm = 0.0014794106031081238, beta_norm = 9.357892775041249\n",
      "Iteration 99, objfn = 0.12282100925428764, grad_norm = 0.0014574938646124001, beta_norm = 9.372686395972353\n",
      "\n",
      "finished in 760.5360913276672 seconds\n"
     ]
    }
   ],
   "source": [
    "import time\n",
    "\n",
    "# 根据数据动态获取维度，不要使用之前模拟时的变量\n",
    "p = dat.first().shape[1] - 1\n",
    "# beta 初始化为 0 向量\n",
    "beta_hat2 = np.zeros(p)\n",
    "# 记录目标函数值\n",
    "objvals = []\n",
    "\n",
    "# 最大迭代次数\n",
    "maxit = 100\n",
    "# 步长\n",
    "step_size = 10.0\n",
    "# 收敛条件\n",
    "eps = 1e-5\n",
    "\n",
    "t1 = time.time()\n",
    "for i in range(maxit):\n",
    "    # 完整数据的样本量和梯度是各分区的加和\n",
    "    n, objfn, grad = dat.map(lambda part: compute_obj_grad(part, beta_hat2)).\\\n",
    "        reduce(lambda x, y: (x[0] + y[0], x[1] + y[1], x[2] + y[2]))\n",
    "    objfn /= n\n",
    "    grad /= n\n",
    "    # 计算新 beta\n",
    "    beta_new = beta_hat2 - step_size * grad\n",
    "    # 计算梯度的变化\n",
    "    grad_norm = np.linalg.norm(grad)\n",
    "    beta_norm = np.linalg.norm(beta_hat2)\n",
    "    print(f\"Iteration {i}, objfn = {objfn}, grad_norm = {grad_norm}, beta_norm = {beta_norm}\")\n",
    "    objvals.append(objfn)\n",
    "    # 如果梯度值较小，退出循环\n",
    "    if grad_norm < eps or grad_norm < eps * beta_norm:\n",
    "        break\n",
    "    # 更新 beta\n",
    "    beta_hat2 = beta_new\n",
    "t2 = time.time()\n",
    "print(f\"\\nfinished in {t2 - t1} seconds\")"
   ]
  },
  {
   "cell_type": "markdown",
   "id": "843aa143",
   "metadata": {},
   "source": [
    "绘制目标函数变化曲线："
   ]
  },
  {
   "cell_type": "code",
   "execution_count": 15,
   "id": "eca3d382",
   "metadata": {},
   "outputs": [
    {
     "data": {
      "text/plain": [
       "[<matplotlib.lines.Line2D at 0x227a43fdf70>]"
      ]
     },
     "execution_count": 15,
     "metadata": {},
     "output_type": "execute_result"
    },
    {
     "data": {
      "image/png": "[encoded data removed]",
      "text/plain": [
       "<Figure size 432x288 with 1 Axes>"
      ]
     },
     "metadata": {
      "needs_background": "light"
     },
     "output_type": "display_data"
    }
   ],
   "source": [
    "import matplotlib.pyplot as plt\n",
    "plt.plot(objvals)"
   ]
  },
  {
   "cell_type": "code",
   "execution_count": 16,
   "id": "cc31df34",
   "metadata": {},
   "outputs": [
    {
     "data": {
      "text/plain": [
       "[<matplotlib.lines.Line2D at 0x227a4472460>]"
      ]
     },
     "execution_count": 16,
     "metadata": {},
     "output_type": "execute_result"
    },
    {
     "data": {
      "image/png": "[encoded data removed]",
      "text/plain": [
       "<Figure size 432x288 with 1 Axes>"
      ]
     },
     "metadata": {
      "needs_background": "light"
     },
     "output_type": "display_data"
    }
   ],
   "source": [
    "plt.plot(objvals[10:])"
   ]
  },
  {
   "cell_type": "code",
   "execution_count": 17,
   "id": "c9a4bf75",
   "metadata": {},
   "outputs": [
    {
     "data": {
      "text/plain": [
       "array([-0.60081137, -1.11699943,  1.18280741,  0.67081184,  0.66972214, -1.7050926 ,  0.87667438,\n",
       "       -0.69162028,  1.22498276, -0.19295167])"
      ]
     },
     "execution_count": 17,
     "metadata": {},
     "output_type": "execute_result"
    }
   ],
   "source": [
    "beta_hat[:10]"
   ]
  },
  {
   "cell_type": "code",
   "execution_count": null,
   "id": "cd2f4ec3",
   "metadata": {},
   "outputs": [],
   "source": [
    "beta_hat2[:10]"
   ]
  },
  {
   "cell_type": "markdown",
   "id": "68d375e8",
   "metadata": {},
   "source": [
    "关闭 Spark 连接："
   ]
  },
  {
   "cell_type": "code",
   "execution_count": null,
   "id": "c6e9f36e",
   "metadata": {},
   "outputs": [],
   "source": [
    "sc.stop()"
   ]
  }
 ],
 "metadata": {
  "kernelspec": {
   "display_name": "Python 3 (ipykernel)",
   "language": "python",
   "name": "python3"
  },
  "language_info": {
   "codemirror_mode": {
    "name": "ipython",
    "version": 3
   },
   "file_extension": ".py",
   "mimetype": "text/x-python",
   "name": "python",
   "nbconvert_exporter": "python",
   "pygments_lexer": "ipython3",
   "version": "3.8.5"
  }
 },
 "nbformat": 4,
 "nbformat_minor": 5
}
