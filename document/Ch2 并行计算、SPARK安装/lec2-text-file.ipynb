{
 "cells": [
  {
   "cell_type": "markdown",
   "id": "4c34a516",
   "metadata": {},
   "source": [
    "配置和启动 PySpark："
   ]
  },
  {
   "cell_type": "code",
   "execution_count": 1,
   "id": "dce079f4",
   "metadata": {},
   "outputs": [
    {
     "name": "stdout",
     "output_type": "stream",
     "text": [
      "<pyspark.sql.session.SparkSession object at 0x000001FAB9D38040>\n",
      "<SparkContext master=local[*] appName=Reading Text>\n"
     ]
    }
   ],
   "source": [
    "import findspark\n",
    "findspark.init()\n",
    "\n",
    "from pyspark.sql import SparkSession\n",
    "# 本地模式\n",
    "spark = SparkSession.builder.master(\"local[*]\").appName(\"Reading Text\").getOrCreate()\n",
    "sc = spark.sparkContext\n",
    "# sc.setLogLevel(\"ERROR\")\n",
    "print(spark)\n",
    "print(sc)"
   ]
  },
  {
   "cell_type": "markdown",
   "id": "6ad94d0c",
   "metadata": {},
   "source": [
    "查看环境变量："
   ]
  },
  {
   "cell_type": "code",
   "execution_count": 2,
   "id": "f05973e9",
   "metadata": {},
   "outputs": [
    {
     "name": "stdout",
     "output_type": "stream",
     "text": [
      "E:\\software\\hadoop\n",
      "E:\\software\\spark\n"
     ]
    },
    {
     "name": "stderr",
     "output_type": "stream",
     "text": [
      "Welcome to\n",
      "      ____              __\n",
      "     / __/__  ___ _____/ /__\n",
      "    _\\ \\/ _ \\/ _ `/ __/  '_/\n",
      "   /___/ .__/\\_,_/_/ /_/\\_\\   version 3.3.2\n",
      "      /_/\n",
      "                        \n",
      "Using Scala version 2.12.15, OpenJDK 64-Bit Server VM, 11.0.18\n",
      "Branch HEAD\n",
      "Compiled by user liangchi on 2023-02-10T19:57:40Z\n",
      "Revision 5103e00c4ce5fcc4264ca9c4df12295d42557af6\n",
      "Url https://github.com/apache/spark\n",
      "Type --help for more information.\n"
     ]
    }
   ],
   "source": [
    "import os\n",
    "\n",
    "print(os.getenv(\"HADOOP_HOME\"))\n",
    "print(os.getenv(\"SPARK_HOME\"))\n",
    "\n",
    "!pyspark --version"
   ]
  },
  {
   "cell_type": "markdown",
   "id": "f546b69b",
   "metadata": {},
   "source": [
    "利用 PySpark 读取文本文件。注意此时只是创建了一个对文件的描述，文件内容并没有加载到内存中。"
   ]
  },
  {
   "cell_type": "code",
   "execution_count": 3,
   "id": "f3267826",
   "metadata": {},
   "outputs": [],
   "source": [
    "file = sc.textFile(\"data/UNv1.0.en-zh.zh\")"
   ]
  },
  {
   "cell_type": "code",
   "execution_count": 5,
   "id": "289c5bce",
   "metadata": {},
   "outputs": [
    {
     "name": "stdout",
     "output_type": "stream",
     "text": [
      "data/UNv1.0.en-zh.zh MapPartitionsRDD[1] at textFile at NativeMethodAccessorImpl.java:0\n"
     ]
    }
   ],
   "source": [
    "print(file)"
   ]
  },
  {
   "cell_type": "markdown",
   "id": "d0138bf0",
   "metadata": {},
   "source": [
    "查看文件的行数："
   ]
  },
  {
   "cell_type": "code",
   "execution_count": 4,
   "id": "300572d6",
   "metadata": {},
   "outputs": [
    {
     "name": "stdout",
     "output_type": "stream",
     "text": [
      "15886041\n"
     ]
    }
   ],
   "source": [
    "print(file.count())"
   ]
  },
  {
   "cell_type": "markdown",
   "id": "60989a51",
   "metadata": {},
   "source": [
    "查看前5行："
   ]
  },
  {
   "cell_type": "code",
   "execution_count": 5,
   "id": "fc141ce2",
   "metadata": {
    "scrolled": true
   },
   "outputs": [
    {
     "name": "stdout",
     "output_type": "stream",
     "text": [
      "(0, '第918(1994)号决议')\n",
      "(1, '1994年5月17日安全理事会第3377次会议通过')\n",
      "(2, '安全理事会，')\n",
      "(3, '重申其以往关于卢旺达局势的所有决议，特别是成立联合国卢旺达援助团(联卢援助团)的1993年10月5日第872(1993)号决议，延长联卢援助团任务期限至1994年7月29日的1994年4月5日第909(1994)号决议，以及调整联卢援助团的任务规定的1994年4月21日第912(1994)号决议，')\n",
      "(4, '回顾安理会主席以安理会名义在1994年4月7日发表的声明(S/PRST/ 1994/16)和在1994年4月30日发表的声明(S/PRST/1994/21)，')\n"
     ]
    }
   ],
   "source": [
    "text1 = file.take(5)\n",
    "print(*enumerate(text1), sep=\"\\n\")"
   ]
  },
  {
   "cell_type": "markdown",
   "id": "a5b96235",
   "metadata": {},
   "source": [
    "查看随机抽取的10行（可能会比较慢！访问 http://localhost:4040 查看进度）："
   ]
  },
  {
   "cell_type": "code",
   "execution_count": 6,
   "id": "4bc4f968",
   "metadata": {},
   "outputs": [
    {
     "name": "stdout",
     "output_type": "stream",
     "text": [
      "(0, '第八编. 共同支助事务')\n",
      "(1, '14. 在提出这一建议的同时，我必须提请注意观察员部队经费短缺问题。')\n",
      "(2, '报告期间内，在国家政策、立法和做法方面是否发生了不利于第十三条所载权利的变化？')\n",
      "(3, '议程项目39')\n",
      "(4, '三. 审议缔约国根据《公约》第九条提交的报告、评论和资料 25-40 9')\n",
      "(5, '第十七届会议')\n",
      "(6, '4. 2004年9月21日至25日，特别报告员在联合国人权事务高级专员办事处(人权高专办)简要介绍了情况。')\n",
      "(7, 'IMF')\n",
      "(8, '因此，有必要调整观察员部队的核定兵力，增加10名军事特遣队人员。')\n",
      "(9, '《民法》中，组织、协会、企业、基金会及其他具有私营性质的实体被定义为私营法人。')\n"
     ]
    }
   ],
   "source": [
    "text2 = file.takeSample(withReplacement=False, num=10, seed=123)\n",
    "print(*enumerate(text2), sep=\"\\n\")"
   ]
  },
  {
   "cell_type": "markdown",
   "id": "5e40965f",
   "metadata": {},
   "source": [
    "利用 Filter 操作筛选符合条件的行："
   ]
  },
  {
   "cell_type": "code",
   "execution_count": 7,
   "id": "993272a0",
   "metadata": {},
   "outputs": [],
   "source": [
    "# 所有包含“乌克兰”的行\n",
    "ukraine = file.filter(lambda x: x.__contains__(\"乌克兰\"))"
   ]
  },
  {
   "cell_type": "code",
   "execution_count": 8,
   "id": "445d14dd",
   "metadata": {},
   "outputs": [
    {
     "name": "stdout",
     "output_type": "stream",
     "text": [
      "PythonRDD[3] at RDD at PythonRDD.scala:53\n"
     ]
    }
   ],
   "source": [
    "print(ukraine)"
   ]
  },
  {
   "cell_type": "markdown",
   "id": "9d683323",
   "metadata": {},
   "source": [
    "注意，运行上述语句并不会直接进行计算，而只是把要进行的操作保存了下来。只有当真正需要获取结果时计算才会发生，比如下面获取前5行的操作："
   ]
  },
  {
   "cell_type": "code",
   "execution_count": 8,
   "id": "417be1ed",
   "metadata": {},
   "outputs": [
    {
     "name": "stdout",
     "output_type": "stream",
     "text": [
      "(0, '根据乌克兰和格鲁吉亚共和国政府的请求，美国航天局与空间雷达实验室 2号协同工作的和科学家于1994年10月得到了有关航天飞机的数据，将这些数据转送了两国。')\n",
      "(1, '这个机构使用卫星图象、作物模型以及遥感气候数据支持国务院对前苏联各国的粮食需要，特别是遭受干旱的乌克兰作出的评价。')\n",
      "(2, '最近签订的协议包括1994年6月30日与俄罗斯联邦签订的协议和1994年9月16日与乌克兰签订的协议。')\n",
      "(3, '白俄罗斯的种族比例如下:白俄罗斯人,78%;俄罗斯人,13%;波兰人,4%;乌克兰人,3%;犹太人1%;其它民族,1%。')\n",
      "(4, '乌克兰 第十三次报告 1994年1月5日 -')\n"
     ]
    }
   ],
   "source": [
    "text3 = ukraine.take(5)\n",
    "print(*enumerate(text3), sep=\"\\n\")"
   ]
  },
  {
   "cell_type": "markdown",
   "id": "d20359c4",
   "metadata": {},
   "source": [
    "Filter 操作的参数是一个函数，该函数输入一个字符串，输出 `True` 或 `False` 的取值。上面该函数通过 lambda 表达式实现，也可以使用定义好的函数："
   ]
  },
  {
   "cell_type": "code",
   "execution_count": 9,
   "id": "9adc1475",
   "metadata": {},
   "outputs": [
    {
     "name": "stdout",
     "output_type": "stream",
     "text": [
      "(0, '最近签订的协议包括1994年6月30日与俄罗斯联邦签订的协议和1994年9月16日与乌克兰签订的协议。')\n",
      "(1, '白俄罗斯的种族比例如下:白俄罗斯人,78%;俄罗斯人,13%;波兰人,4%;乌克兰人,3%;犹太人1%;其它民族,1%。')\n",
      "(2, '为了根据俄罗斯和乌克兰的本国及国际方案对地球表面进行观测，包括对自然环境进行环境监测，并且为了获得北极地区冰帽状况以及太平洋暗礁地带状况的最新情报，于1995年8月31日发射了一颗Sich-1号卫星（乌克兰）。')\n",
      "(3, '该空间站装备的科学仪器是由以下国家的科学家和专家设计的：奥地利、比利时、加拿大、古巴、捷克共和国、芬兰、法国、德国、希腊、匈牙利、意大利、吉尔吉斯斯坦、波兰、罗马尼亚、俄罗斯联邦、斯洛伐克、瑞典、乌克兰、大不列颠及北爱尔兰联合王国、乌兹别克斯坦以及欧洲航天局的成员国。')\n",
      "(4, '该航天器的初期轨道，其近地点为500公里，远地点为300,000公里，在预期三年的飞行期限间，达到运行轨道的稳定标准和从俄罗斯联邦与乌克兰地面站基本连续可见度标准，达到从发射后一年近地点高度迅速变换达到40,000公里的高度。')\n"
     ]
    }
   ],
   "source": [
    "def my_filter(x):\n",
    "    return x.__contains__(\"乌克兰\") and x.__contains__(\"俄罗斯\")\n",
    "\n",
    "ukraine2 = file.filter(my_filter)\n",
    "text4 = ukraine2.take(5)\n",
    "print(*enumerate(text4), sep=\"\\n\")"
   ]
  },
  {
   "cell_type": "markdown",
   "id": "a9c172fc",
   "metadata": {},
   "source": [
    "Map 操作可以对数据的每一行进行变换，例如将字符串分割成若干字串的列表："
   ]
  },
  {
   "cell_type": "code",
   "execution_count": 10,
   "id": "b725d6c0",
   "metadata": {},
   "outputs": [
    {
     "name": "stdout",
     "output_type": "stream",
     "text": [
      "(0, ['第918(1994)号决议'])\n",
      "(1, ['1994年5月17日安全理事会第3377次会议通过'])\n",
      "(2, ['安全理事会', ''])\n",
      "(3, ['重申其以往关于卢旺达局势的所有决议', '特别是成立联合国卢旺达援助团(联卢援助团)的1993年10月5日第872(1993)号决议', '延长联卢援助团任务期限至1994年7月29日的1994年4月5日第909(1994)号决议', '以及调整联卢援助团的任务规定的1994年4月21日第912(1994)号决议', ''])\n",
      "(4, ['回顾安理会主席以安理会名义在1994年4月7日发表的声明(S/PRST/ 1994/16)和在1994年4月30日发表的声明(S/PRST/1994/21)', ''])\n"
     ]
    }
   ],
   "source": [
    "split = file.map(lambda x: x.split(\"，\"))\n",
    "text5 = split.take(5)\n",
    "print(*enumerate(text5), sep=\"\\n\")"
   ]
  },
  {
   "cell_type": "markdown",
   "id": "0afb7064",
   "metadata": {},
   "source": [
    "Flat map 可以把上述列表展开："
   ]
  },
  {
   "cell_type": "code",
   "execution_count": 11,
   "id": "1d5f286d",
   "metadata": {},
   "outputs": [
    {
     "name": "stdout",
     "output_type": "stream",
     "text": [
      "(0, '第918(1994)号决议')\n",
      "(1, '1994年5月17日安全理事会第3377次会议通过')\n",
      "(2, '安全理事会')\n",
      "(3, '')\n",
      "(4, '重申其以往关于卢旺达局势的所有决议')\n",
      "(5, '特别是成立联合国卢旺达援助团(联卢援助团)的1993年10月5日第872(1993)号决议')\n",
      "(6, '延长联卢援助团任务期限至1994年7月29日的1994年4月5日第909(1994)号决议')\n",
      "(7, '以及调整联卢援助团的任务规定的1994年4月21日第912(1994)号决议')\n",
      "(8, '')\n",
      "(9, '回顾安理会主席以安理会名义在1994年4月7日发表的声明(S/PRST/ 1994/16)和在1994年4月30日发表的声明(S/PRST/1994/21)')\n"
     ]
    }
   ],
   "source": [
    "split2 = file.flatMap(lambda x: x.split(\"，\"))\n",
    "text6 = split2.take(10)\n",
    "print(*enumerate(text6), sep=\"\\n\")"
   ]
  },
  {
   "cell_type": "markdown",
   "id": "3794bc52",
   "metadata": {},
   "source": [
    "关闭 Spark："
   ]
  },
  {
   "cell_type": "code",
   "execution_count": 12,
   "id": "11dddac6",
   "metadata": {},
   "outputs": [],
   "source": [
    "sc.stop()"
   ]
  }
 ],
 "metadata": {
  "kernelspec": {
   "display_name": "Python 3 (ipykernel)",
   "language": "python",
   "name": "python3"
  },
  "language_info": {
   "codemirror_mode": {
    "name": "ipython",
    "version": 3
   },
   "file_extension": ".py",
   "mimetype": "text/x-python",
   "name": "python",
   "nbconvert_exporter": "python",
   "pygments_lexer": "ipython3",
   "version": "3.8.5"
  }
 },
 "nbformat": 4,
 "nbformat_minor": 5
}
