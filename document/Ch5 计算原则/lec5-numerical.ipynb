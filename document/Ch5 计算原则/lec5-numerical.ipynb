{
 "cells": [
  {
   "cell_type": "markdown",
   "id": "63a29840",
   "metadata": {},
   "source": [
    "# 数值计算基础"
   ]
  },
  {
   "cell_type": "markdown",
   "id": "d761f5c6",
   "metadata": {},
   "source": [
    "### 原则1：矩阵相乘，小维度优先"
   ]
  },
  {
   "cell_type": "markdown",
   "id": "4330a894",
   "metadata": {},
   "source": [
    "矩阵 $A_{n\\times p}$，向量 $x_{p\\times 1}$，计算 $A^{T}Ax$。"
   ]
  },
  {
   "cell_type": "code",
   "execution_count": 1,
   "id": "54d9bba0",
   "metadata": {},
   "outputs": [],
   "source": [
    "import numpy as np\n",
    "np.set_printoptions(linewidth=100)\n",
    "\n",
    "np.random.seed(123)\n",
    "n = 2000\n",
    "p = 1000\n",
    "A = np.random.normal(size=(n, p))\n",
    "x = np.random.normal(size=p)"
   ]
  },
  {
   "cell_type": "markdown",
   "id": "b67ee1cd",
   "metadata": {},
   "source": [
    "方法1：先计算 $A^{T}A$，再与 $x$ 相乘："
   ]
  },
  {
   "cell_type": "code",
   "execution_count": 2,
   "id": "cc36a5cc",
   "metadata": {},
   "outputs": [
    {
     "name": "stdout",
     "output_type": "stream",
     "text": [
      "136 ms ± 13.1 ms per loop (mean ± std. dev. of 7 runs, 10 loops each)\n"
     ]
    }
   ],
   "source": [
    "%timeit A.transpose().dot(A).dot(x) # O(pnp + pp)"
   ]
  },
  {
   "cell_type": "markdown",
   "id": "8b44965a",
   "metadata": {},
   "source": [
    "方法2：先计算 $Ax$，再左乘 $A^{T}$："
   ]
  },
  {
   "cell_type": "code",
   "execution_count": 3,
   "id": "4dfebd79",
   "metadata": {},
   "outputs": [
    {
     "name": "stdout",
     "output_type": "stream",
     "text": [
      "4.12 ms ± 364 µs per loop (mean ± std. dev. of 7 runs, 100 loops each)\n"
     ]
    }
   ],
   "source": [
    "%timeit A.transpose().dot(A.dot(x)) # O(2np) "
   ]
  },
  {
   "cell_type": "markdown",
   "id": "c0b4b35d",
   "metadata": {},
   "source": [
    "经验法则：对于更一般的矩阵乘法 $A_{m\\times n}B_{n\\times p}C_{p\\times r}$，如果 $n\\approx p$ 且 $m>r$，则优先计算 $BC$，反之优先计算 $AB$。"
   ]
  },
  {
   "cell_type": "code",
   "execution_count": 4,
   "id": "b646dc1a",
   "metadata": {},
   "outputs": [],
   "source": [
    "np.random.seed(123)\n",
    "m = 1000\n",
    "n = 500\n",
    "p = 200\n",
    "r = 100\n",
    "A = np.random.normal(size=(m, n))\n",
    "B = np.random.normal(size=(n, p))\n",
    "C = np.random.normal(size=(p, r))"
   ]
  },
  {
   "cell_type": "code",
   "execution_count": 5,
   "id": "a7366799",
   "metadata": {},
   "outputs": [
    {
     "name": "stdout",
     "output_type": "stream",
     "text": [
      "18 ms ± 714 µs per loop (mean ± std. dev. of 7 runs, 100 loops each)\n"
     ]
    }
   ],
   "source": [
    "%timeit A.dot(B).dot(C)"
   ]
  },
  {
   "cell_type": "code",
   "execution_count": 6,
   "id": "0ae3d743",
   "metadata": {},
   "outputs": [
    {
     "name": "stdout",
     "output_type": "stream",
     "text": [
      "12.1 ms ± 808 µs per loop (mean ± std. dev. of 7 runs, 100 loops each)\n"
     ]
    }
   ],
   "source": [
    "%timeit A.dot(B.dot(C))"
   ]
  },
  {
   "cell_type": "markdown",
   "id": "8beec4f5",
   "metadata": {},
   "source": [
    "### 原则2：尽量避免显式矩阵求逆"
   ]
  },
  {
   "cell_type": "markdown",
   "id": "299cd239",
   "metadata": {},
   "source": [
    "矩阵 $A_{n\\times n}$，向量 $b_{n\\times 1}$，计算 $A^{-1}b$。"
   ]
  },
  {
   "cell_type": "code",
   "execution_count": 7,
   "id": "34cfe8fe",
   "metadata": {},
   "outputs": [],
   "source": [
    "np.random.seed(123)\n",
    "n = 1000\n",
    "A = np.random.normal(size=(n, n))\n",
    "b = np.random.normal(size=n)"
   ]
  },
  {
   "cell_type": "markdown",
   "id": "e9226f55",
   "metadata": {},
   "source": [
    "方法1：先计算 $A^{-1}$，再与 $b$ 相乘："
   ]
  },
  {
   "cell_type": "code",
   "execution_count": 8,
   "id": "9f16bb47",
   "metadata": {},
   "outputs": [
    {
     "name": "stdout",
     "output_type": "stream",
     "text": [
      "474 ms ± 74.3 ms per loop (mean ± std. dev. of 7 runs, 1 loop each)\n"
     ]
    }
   ],
   "source": [
    "%timeit np.linalg.inv(A).dot(b)"
   ]
  },
  {
   "cell_type": "markdown",
   "id": "729a7d01",
   "metadata": {},
   "source": [
    "方法2：解线性方程组 $Ax=b$："
   ]
  },
  {
   "cell_type": "code",
   "execution_count": 9,
   "id": "a78a2944",
   "metadata": {},
   "outputs": [
    {
     "name": "stdout",
     "output_type": "stream",
     "text": [
      "257 ms ± 51.5 ms per loop (mean ± std. dev. of 7 runs, 1 loop each)\n"
     ]
    }
   ],
   "source": [
    "%timeit np.linalg.solve(A, b)"
   ]
  },
  {
   "cell_type": "markdown",
   "id": "9caaf2e7",
   "metadata": {},
   "source": [
    "线性方程组右边也可以是矩阵，即 $A_{n\\times n}$，$B_{n\\times p}$，计算 $A^{-1}B$。"
   ]
  },
  {
   "cell_type": "code",
   "execution_count": 10,
   "id": "f47de328",
   "metadata": {},
   "outputs": [],
   "source": [
    "np.random.seed(123)\n",
    "n = 1000\n",
    "p = 100\n",
    "A = np.random.normal(size=(n, n))\n",
    "B = np.random.normal(size=(n, p))"
   ]
  },
  {
   "cell_type": "code",
   "execution_count": 11,
   "id": "76ee68c4",
   "metadata": {},
   "outputs": [
    {
     "name": "stdout",
     "output_type": "stream",
     "text": [
      "387 ms ± 39.3 ms per loop (mean ± std. dev. of 7 runs, 1 loop each)\n"
     ]
    }
   ],
   "source": [
    "%timeit np.linalg.inv(A).dot(B)"
   ]
  },
  {
   "cell_type": "code",
   "execution_count": 12,
   "id": "733872af",
   "metadata": {
    "scrolled": true
   },
   "outputs": [
    {
     "name": "stdout",
     "output_type": "stream",
     "text": [
      "259 ms ± 48.1 ms per loop (mean ± std. dev. of 7 runs, 1 loop each)\n"
     ]
    }
   ],
   "source": [
    "%timeit np.linalg.solve(A, B)"
   ]
  },
  {
   "cell_type": "markdown",
   "id": "53d291ae",
   "metadata": {},
   "source": [
    "### 原则3：利用矩阵的特殊结构"
   ]
  },
  {
   "cell_type": "markdown",
   "id": "ed6a814f",
   "metadata": {},
   "source": [
    "矩阵 $A_{n\\times n}$，对角矩阵 $W_{n\\times n}$，计算 $WA$ 和 $AW$。"
   ]
  },
  {
   "cell_type": "code",
   "execution_count": 2,
   "id": "3c6707f5",
   "metadata": {},
   "outputs": [],
   "source": [
    "np.random.seed(123)\n",
    "n = 1000\n",
    "A = np.random.normal(size=(n, n))\n",
    "w = np.random.normal(size=n)\n",
    "W = np.diag(w)"
   ]
  },
  {
   "cell_type": "code",
   "execution_count": 3,
   "id": "89a82929",
   "metadata": {},
   "outputs": [
    {
     "name": "stdout",
     "output_type": "stream",
     "text": [
      "37 ms ± 646 µs per loop (mean ± std. dev. of 7 runs, 10 loops each)\n"
     ]
    }
   ],
   "source": [
    "%timeit W.dot(A)"
   ]
  },
  {
   "cell_type": "code",
   "execution_count": 4,
   "id": "ed4b0a95",
   "metadata": {},
   "outputs": [
    {
     "name": "stdout",
     "output_type": "stream",
     "text": [
      "33 ms ± 713 µs per loop (mean ± std. dev. of 7 runs, 10 loops each)\n"
     ]
    }
   ],
   "source": [
    "%timeit A.dot(W)"
   ]
  },
  {
   "cell_type": "markdown",
   "id": "67fdd1cc",
   "metadata": {},
   "source": [
    "令 $w_{n\\times 1}$ 表示 $W$ 的对角元素，$WA$ 相当于将 $A$ 的每一列乘以 $w$，$AW$ 相当于将 $A$ 的每一行乘以 $w^{T}$。此时可利用 Numpy 的广播机制进行运算。"
   ]
  },
  {
   "cell_type": "code",
   "execution_count": 5,
   "id": "6e256194",
   "metadata": {},
   "outputs": [
    {
     "name": "stdout",
     "output_type": "stream",
     "text": [
      "5.15 ms ± 508 µs per loop (mean ± std. dev. of 7 runs, 100 loops each)\n"
     ]
    }
   ],
   "source": [
    "%timeit A * w.reshape(n, 1)"
   ]
  },
  {
   "cell_type": "code",
   "execution_count": 6,
   "id": "e6cc3a71",
   "metadata": {},
   "outputs": [
    {
     "name": "stdout",
     "output_type": "stream",
     "text": [
      "5.05 ms ± 261 µs per loop (mean ± std. dev. of 7 runs, 100 loops each)\n"
     ]
    }
   ],
   "source": [
    "%timeit A * w # 默认行向量，并非矩阵和向量乘法，利用广播"
   ]
  },
  {
   "cell_type": "markdown",
   "id": "a7691017",
   "metadata": {},
   "source": [
    "### 练习：回归分析"
   ]
  },
  {
   "cell_type": "markdown",
   "id": "82fad746",
   "metadata": {},
   "source": [
    "计算 $\\hat{y}=X(X^{T}X)^{-1}X^{T}y$"
   ]
  },
  {
   "cell_type": "code",
   "execution_count": null,
   "id": "8d9b17f6",
   "metadata": {},
   "outputs": [],
   "source": [
    "np.random.seed(123)\n",
    "n = 2000\n",
    "p = 500\n",
    "X = np.random.normal(size=(n, p))\n",
    "y = np.random.normal(size=n)"
   ]
  }
 ],
 "metadata": {
  "kernelspec": {
   "display_name": "Python 3 (ipykernel)",
   "language": "python",
   "name": "python3"
  },
  "language_info": {
   "codemirror_mode": {
    "name": "ipython",
    "version": 3
   },
   "file_extension": ".py",
   "mimetype": "text/x-python",
   "name": "python",
   "nbconvert_exporter": "python",
   "pygments_lexer": "ipython3",
   "version": "3.8.5"
  }
 },
 "nbformat": 4,
 "nbformat_minor": 5
}
