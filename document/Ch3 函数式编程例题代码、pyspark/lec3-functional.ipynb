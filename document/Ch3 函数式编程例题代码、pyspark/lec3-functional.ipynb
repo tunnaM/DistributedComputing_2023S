{
 "cells": [
  {
   "cell_type": "markdown",
   "id": "dfef0fe6",
   "metadata": {},
   "source": [
    "## 例1：迭代器"
   ]
  },
  {
   "cell_type": "markdown",
   "id": "ac0339f4",
   "metadata": {},
   "source": [
    "“索引式”访问元素："
   ]
  },
  {
   "cell_type": "code",
   "execution_count": 2,
   "id": "b30f4cb9",
   "metadata": {},
   "outputs": [
    {
     "name": "stdout",
     "output_type": "stream",
     "text": [
      "1\n",
      "1\n",
      "2\n",
      "a\n",
      "3.14\n"
     ]
    }
   ],
   "source": [
    "lst = [1, 1, 2, \"a\", 3.14]\n",
    "for i in range(len(lst)):\n",
    "    print(lst[i])"
   ]
  },
  {
   "cell_type": "markdown",
   "id": "a50ce66c",
   "metadata": {},
   "source": [
    "迭代器式访问："
   ]
  },
  {
   "cell_type": "code",
   "execution_count": 3,
   "id": "9bb41a05",
   "metadata": {
    "scrolled": true
   },
   "outputs": [
    {
     "name": "stdout",
     "output_type": "stream",
     "text": [
      "1\n",
      "1\n",
      "2\n",
      "a\n",
      "3.14\n"
     ]
    }
   ],
   "source": [
    "it = iter(lst)\n",
    "print(next(it))\n",
    "print(next(it))\n",
    "print(next(it))\n",
    "print(next(it))\n",
    "print(next(it))"
   ]
  },
  {
   "cell_type": "markdown",
   "id": "b78adf8b",
   "metadata": {},
   "source": [
    "如果继续运行，将出现 StopIteration 错误："
   ]
  },
  {
   "cell_type": "code",
   "execution_count": 4,
   "id": "4aaaef69",
   "metadata": {},
   "outputs": [
    {
     "ename": "StopIteration",
     "evalue": "",
     "output_type": "error",
     "traceback": [
      "\u001b[1;31m---------------------------------------------------------------------------\u001b[0m",
      "\u001b[1;31mStopIteration\u001b[0m                             Traceback (most recent call last)",
      "Input \u001b[1;32mIn [4]\u001b[0m, in \u001b[0;36m<cell line: 1>\u001b[1;34m()\u001b[0m\n\u001b[1;32m----> 1\u001b[0m \u001b[38;5;28mprint\u001b[39m(\u001b[38;5;28;43mnext\u001b[39;49m\u001b[43m(\u001b[49m\u001b[43mit\u001b[49m\u001b[43m)\u001b[49m)\n",
      "\u001b[1;31mStopIteration\u001b[0m: "
     ]
    }
   ],
   "source": [
    "print(next(it))"
   ]
  },
  {
   "cell_type": "markdown",
   "id": "dbac13cd",
   "metadata": {},
   "source": [
    "迭代器遍历："
   ]
  },
  {
   "cell_type": "code",
   "execution_count": 6,
   "id": "85665f47",
   "metadata": {},
   "outputs": [],
   "source": [
    "it = iter(lst)"
   ]
  },
  {
   "cell_type": "code",
   "execution_count": 7,
   "id": "40e90b92",
   "metadata": {},
   "outputs": [
    {
     "name": "stdout",
     "output_type": "stream",
     "text": [
      "1\n",
      "1\n",
      "2\n",
      "a\n",
      "3.14\n"
     ]
    }
   ],
   "source": [
    "for e in lst: # 类似for循环写法\n",
    "    print(e)"
   ]
  },
  {
   "cell_type": "markdown",
   "id": "f5eabb59",
   "metadata": {},
   "source": [
    "有些集合无法用索引进行访问："
   ]
  },
  {
   "cell_type": "code",
   "execution_count": 8,
   "id": "0896c3d5",
   "metadata": {},
   "outputs": [
    {
     "name": "stdout",
     "output_type": "stream",
     "text": [
      "{3.14, 1, 2, 'a'}\n"
     ]
    }
   ],
   "source": [
    "st = set(lst) # 集合唯一性 没有顺序\n",
    "print(st)"
   ]
  },
  {
   "cell_type": "markdown",
   "id": "a7ac272f",
   "metadata": {},
   "source": [
    "以下将出现错误："
   ]
  },
  {
   "cell_type": "code",
   "execution_count": 9,
   "id": "c613ecc9",
   "metadata": {},
   "outputs": [
    {
     "ename": "TypeError",
     "evalue": "'set' object is not subscriptable",
     "output_type": "error",
     "traceback": [
      "\u001b[1;31m---------------------------------------------------------------------------\u001b[0m",
      "\u001b[1;31mTypeError\u001b[0m                                 Traceback (most recent call last)",
      "Input \u001b[1;32mIn [9]\u001b[0m, in \u001b[0;36m<cell line: 1>\u001b[1;34m()\u001b[0m\n\u001b[1;32m----> 1\u001b[0m \u001b[38;5;28mprint\u001b[39m(\u001b[43mst\u001b[49m\u001b[43m[\u001b[49m\u001b[38;5;241;43m0\u001b[39;49m\u001b[43m]\u001b[49m)\n",
      "\u001b[1;31mTypeError\u001b[0m: 'set' object is not subscriptable"
     ]
    }
   ],
   "source": [
    "print(st[0])"
   ]
  },
  {
   "cell_type": "markdown",
   "id": "34501266",
   "metadata": {},
   "source": [
    "但可以用迭代器："
   ]
  },
  {
   "cell_type": "code",
   "execution_count": 10,
   "id": "b7efbb43",
   "metadata": {},
   "outputs": [
    {
     "name": "stdout",
     "output_type": "stream",
     "text": [
      "3.14\n",
      "1\n",
      "\n",
      "3.14\n",
      "1\n",
      "2\n",
      "a\n"
     ]
    }
   ],
   "source": [
    "it = iter(st)\n",
    "print(next(it))\n",
    "print(next(it))\n",
    "print() # 空行可以这样写\n",
    "# for循环\n",
    "for e in st:\n",
    "    print(e)"
   ]
  },
  {
   "cell_type": "markdown",
   "id": "509f9c4a",
   "metadata": {},
   "source": [
    "## 例2：计算文件行数"
   ]
  },
  {
   "cell_type": "markdown",
   "id": "916f073e",
   "metadata": {},
   "source": [
    "文件可以作为一个迭代器："
   ]
  },
  {
   "cell_type": "code",
   "execution_count": 1,
   "id": "be5d40ed",
   "metadata": {},
   "outputs": [
    {
     "data": {
      "text/plain": [
       "<_io.TextIOWrapper name='data/UNv1.0.en-zh.zh' mode='r' encoding='utf-8'>"
      ]
     },
     "execution_count": 1,
     "metadata": {},
     "output_type": "execute_result"
    }
   ],
   "source": [
    "file = open(\"data/UNv1.0.en-zh.zh\", encoding=\"utf-8\")\n",
    "file"
   ]
  },
  {
   "cell_type": "code",
   "execution_count": 3,
   "id": "91927290",
   "metadata": {},
   "outputs": [
    {
     "data": {
      "text/plain": [
       "26"
      ]
     },
     "execution_count": 3,
     "metadata": {},
     "output_type": "execute_result"
    }
   ],
   "source": [
    "len(next(file)) # 每次提取一条字符"
   ]
  },
  {
   "cell_type": "code",
   "execution_count": 4,
   "id": "272c273c",
   "metadata": {},
   "outputs": [
    {
     "name": "stdout",
     "output_type": "stream",
     "text": [
      "第918(1994)号决议\n",
      "\n",
      "1994年5月17日安全理事会第3377次会议通过\n",
      "\n"
     ]
    }
   ],
   "source": [
    "file = open(\"data/UNv1.0.en-zh.zh\", encoding=\"utf-8\")\n",
    "print(next(file))\n",
    "print(next(file))\n",
    "file.close()"
   ]
  },
  {
   "cell_type": "markdown",
   "id": "463d94fd",
   "metadata": {},
   "source": [
    "遍历文件的每一行："
   ]
  },
  {
   "cell_type": "code",
   "execution_count": 16,
   "id": "4f13de42",
   "metadata": {},
   "outputs": [
    {
     "name": "stdout",
     "output_type": "stream",
     "text": [
      "15886041\n"
     ]
    }
   ],
   "source": [
    "file = open(\"data/UNv1.0.en-zh.zh\", encoding=\"utf-8\")\n",
    "count = 0\n",
    "for line in file: # 没用文件内容，移动的步骤是我们需要的信息\n",
    "    count = count + 1\n",
    "file.close()\n",
    "print(count)"
   ]
  },
  {
   "cell_type": "markdown",
   "id": "2431836d",
   "metadata": {},
   "source": [
    "一种更推荐的语法："
   ]
  },
  {
   "cell_type": "code",
   "execution_count": 20,
   "id": "15163b2b",
   "metadata": {},
   "outputs": [
    {
     "name": "stdout",
     "output_type": "stream",
     "text": [
      "701876199\n"
     ]
    }
   ],
   "source": [
    "count = 0\n",
    "with open(\"data/UNv1.0.en-zh.zh\", encoding=\"utf-8\") as file: # 结束后自动关闭close\n",
    "    for line in file:\n",
    "        count = count + len(line)\n",
    "print(count)"
   ]
  },
  {
   "cell_type": "markdown",
   "id": "5668bc3c",
   "metadata": {},
   "source": [
    "## 例3：计算序列样本方差"
   ]
  },
  {
   "cell_type": "markdown",
   "id": "4df193b2",
   "metadata": {},
   "source": [
    "生成数据："
   ]
  },
  {
   "cell_type": "code",
   "execution_count": 22,
   "id": "e57cab57",
   "metadata": {},
   "outputs": [],
   "source": [
    "import math\n",
    "vec = [math.sin(i + math.exp(i)) for i in range(100)]"
   ]
  },
  {
   "cell_type": "markdown",
   "id": "ed6d8b51",
   "metadata": {},
   "source": [
    "简单做法：先计算均值，再计算方差："
   ]
  },
  {
   "cell_type": "code",
   "execution_count": 23,
   "id": "3ad4aa2b",
   "metadata": {},
   "outputs": [
    {
     "name": "stdout",
     "output_type": "stream",
     "text": [
      "0.4639116338164097\n"
     ]
    }
   ],
   "source": [
    "# 记录样本量\n",
    "count = 0\n",
    "# 所有元素之和\n",
    "vec_sum = 0.0\n",
    "for e in vec:\n",
    "    vec_sum = vec_sum + e\n",
    "    count = count + 1\n",
    "# 计算均值\n",
    "mean = vec_sum / count\n",
    "# 计算方差\n",
    "vec_var = 0.0\n",
    "for e in vec:\n",
    "    vec_var = vec_var + (e - mean) ** 2\n",
    "vec_var = vec_var / (count - 1)\n",
    "print(vec_var)"
   ]
  },
  {
   "cell_type": "markdown",
   "id": "90eb3fa7",
   "metadata": {},
   "source": [
    "一次遍历方法：$(n-1)S^2=\\sum_i (x_i-\\bar{x})^2=\\sum_i x_i^2-n\\bar{x}^2$"
   ]
  },
  {
   "cell_type": "code",
   "execution_count": 24,
   "id": "d1c1fdc2",
   "metadata": {},
   "outputs": [
    {
     "name": "stdout",
     "output_type": "stream",
     "text": [
      "0.4639116338164096\n"
     ]
    }
   ],
   "source": [
    "count = 0\n",
    "ss = 0.0\n",
    "s = 0.0\n",
    "for e in vec:\n",
    "    ss = ss + e * e\n",
    "    s = s + e\n",
    "    count = count + 1\n",
    "mean = s / count\n",
    "vec_var = (ss - count * mean * mean) / (count - 1)\n",
    "print(vec_var)"
   ]
  },
  {
   "cell_type": "markdown",
   "id": "9d241c2a",
   "metadata": {},
   "source": [
    "## 例4：随机抽样"
   ]
  },
  {
   "cell_type": "markdown",
   "id": "6f548ed4",
   "metadata": {},
   "source": [
    "$w=(w_1,\\ldots,w_n)$，$v=(v_1,\\ldots,v_n)$，每个 $v_i$ 以 $w_i/\\sum_j w_j$ 的概率被抽到。"
   ]
  },
  {
   "cell_type": "code",
   "execution_count": 27,
   "id": "a57d63aa",
   "metadata": {},
   "outputs": [],
   "source": [
    "# 生成数据\n",
    "import string\n",
    "wvec = list(range(1, 27))\n",
    "vvec = list(string.ascii_uppercase)"
   ]
  },
  {
   "cell_type": "markdown",
   "id": "d926d685",
   "metadata": {},
   "source": [
    "#### 知识点1：同时迭代两个集合"
   ]
  },
  {
   "cell_type": "code",
   "execution_count": 26,
   "id": "fbbbb9f0",
   "metadata": {},
   "outputs": [
    {
     "name": "stdout",
     "output_type": "stream",
     "text": [
      "(1, 'A')\n",
      "(2, 'B')\n",
      "\n",
      "w is 1, v is A\n",
      "w is 2, v is B\n",
      "w is 3, v is C\n",
      "w is 4, v is D\n",
      "w is 5, v is E\n",
      "w is 6, v is F\n",
      "w is 7, v is G\n",
      "w is 8, v is H\n",
      "w is 9, v is I\n",
      "w is 10, v is J\n",
      "w is 11, v is K\n",
      "w is 12, v is L\n",
      "w is 13, v is M\n",
      "w is 14, v is N\n",
      "w is 15, v is O\n",
      "w is 16, v is P\n",
      "w is 17, v is Q\n",
      "w is 18, v is R\n",
      "w is 19, v is S\n",
      "w is 20, v is T\n",
      "w is 21, v is U\n",
      "w is 22, v is V\n",
      "w is 23, v is W\n",
      "w is 24, v is X\n",
      "w is 25, v is Y\n",
      "w is 26, v is Z\n"
     ]
    }
   ],
   "source": [
    "it = zip(wvec, vvec)\n",
    "print(next(it))\n",
    "print(next(it))\n",
    "print()\n",
    "\n",
    "for w, v in zip(wvec, vvec):\n",
    "    # print(w, v)\n",
    "    print(f\"w is {w}, v is {v}\")"
   ]
  },
  {
   "cell_type": "markdown",
   "id": "c935e2c8",
   "metadata": {},
   "source": [
    "解法："
   ]
  },
  {
   "cell_type": "code",
   "execution_count": 28,
   "id": "15462efc",
   "metadata": {},
   "outputs": [
    {
     "name": "stdout",
     "output_type": "stream",
     "text": [
      "24\n",
      "Y\n"
     ]
    }
   ],
   "source": [
    "# 设置随机数种子\n",
    "import random\n",
    "random.seed(123)\n",
    "\n",
    "D = 0.0\n",
    "i = 0        # 迭代器中每个元素的索引\n",
    "loc = 0      # 最终取出的 v 元素的位置（索引）\n",
    "item = None  # 最终取出的 v 元素\n",
    "for w, v in zip(wvec, vvec):\n",
    "    D = D + w\n",
    "    prob = w / D\n",
    "    # 以这一概率选择 v\n",
    "    if random.random() <= prob:\n",
    "        loc = i\n",
    "        item = v\n",
    "    i = i + 1\n",
    "print(loc)\n",
    "print(item)"
   ]
  },
  {
   "cell_type": "markdown",
   "id": "230a73fb",
   "metadata": {},
   "source": [
    "#### 知识点2：迭代集合的同时获取索引"
   ]
  },
  {
   "cell_type": "code",
   "execution_count": 29,
   "id": "ee2089bc",
   "metadata": {},
   "outputs": [
    {
     "name": "stdout",
     "output_type": "stream",
     "text": [
      "(0, 1)\n",
      "(1, 2)\n",
      "\n",
      "(0, (1, 'A'))\n",
      "(1, (2, 'B'))\n"
     ]
    }
   ],
   "source": [
    "it = enumerate(wvec)\n",
    "print(next(it))\n",
    "print(next(it))\n",
    "print()\n",
    "it = enumerate(zip(wvec, vvec))\n",
    "print(next(it))\n",
    "print(next(it))"
   ]
  },
  {
   "cell_type": "markdown",
   "id": "2d5cbbe9",
   "metadata": {},
   "source": [
    "注意此处迭代元素的写法："
   ]
  },
  {
   "cell_type": "code",
   "execution_count": null,
   "id": "e69f457b",
   "metadata": {},
   "outputs": [],
   "source": []
  },
  {
   "cell_type": "code",
   "execution_count": 30,
   "id": "fadf13d6",
   "metadata": {},
   "outputs": [
    {
     "name": "stdout",
     "output_type": "stream",
     "text": [
      "i is 0, w is 1, v is A\n",
      "i is 1, w is 2, v is B\n",
      "i is 2, w is 3, v is C\n",
      "i is 3, w is 4, v is D\n",
      "i is 4, w is 5, v is E\n",
      "i is 5, w is 6, v is F\n",
      "i is 6, w is 7, v is G\n",
      "i is 7, w is 8, v is H\n",
      "i is 8, w is 9, v is I\n",
      "i is 9, w is 10, v is J\n",
      "i is 10, w is 11, v is K\n",
      "i is 11, w is 12, v is L\n",
      "i is 12, w is 13, v is M\n",
      "i is 13, w is 14, v is N\n",
      "i is 14, w is 15, v is O\n",
      "i is 15, w is 16, v is P\n",
      "i is 16, w is 17, v is Q\n",
      "i is 17, w is 18, v is R\n",
      "i is 18, w is 19, v is S\n",
      "i is 19, w is 20, v is T\n",
      "i is 20, w is 21, v is U\n",
      "i is 21, w is 22, v is V\n",
      "i is 22, w is 23, v is W\n",
      "i is 23, w is 24, v is X\n",
      "i is 24, w is 25, v is Y\n",
      "i is 25, w is 26, v is Z\n"
     ]
    }
   ],
   "source": [
    "for i, (w, v) in enumerate(zip(wvec, vvec)):\n",
    "    print(f\"i is {i}, w is {w}, v is {v}\")"
   ]
  },
  {
   "cell_type": "markdown",
   "id": "dc89e85f",
   "metadata": {},
   "source": [
    "改写之前的方法，省去 `i` 的手动更新："
   ]
  },
  {
   "cell_type": "code",
   "execution_count": 31,
   "id": "c5cf797d",
   "metadata": {},
   "outputs": [],
   "source": [
    "def random_select(wvec, vvec):\n",
    "    D = 0.0\n",
    "    loc = 0  # 最终取出的 v 元素的位置（索引）\n",
    "    item = None  # 最终取出的 v 元素\n",
    "    for i, (w, v) in enumerate(zip(wvec, vvec)):\n",
    "        D = D + w\n",
    "        prob = w / D\n",
    "        # 以这一概率选择 v\n",
    "        if random.random() <= prob:\n",
    "            loc = i\n",
    "            item = v\n",
    "    return loc, item"
   ]
  },
  {
   "cell_type": "markdown",
   "id": "1ecb86a5",
   "metadata": {},
   "source": [
    "测试抽样概率："
   ]
  },
  {
   "cell_type": "code",
   "execution_count": 32,
   "id": "b467c45b",
   "metadata": {},
   "outputs": [
    {
     "name": "stdout",
     "output_type": "stream",
     "text": [
      "Y: 744\n",
      "V: 618\n",
      "L: 351\n",
      "Q: 506\n",
      "X: 679\n",
      "E: 123\n",
      "Z: 731\n",
      "R: 495\n",
      "U: 569\n",
      "W: 637\n",
      "S: 551\n",
      "O: 428\n",
      "C: 70\n",
      "M: 403\n",
      "N: 433\n",
      "K: 298\n",
      "T: 533\n",
      "I: 276\n",
      "P: 445\n",
      "J: 327\n",
      "D: 120\n",
      "F: 182\n",
      "G: 182\n",
      "H: 220\n",
      "B: 56\n",
      "A: 23\n"
     ]
    }
   ],
   "source": [
    "import collections\n",
    "random.seed(123)\n",
    "res = [random_select(wvec, vvec)[1] for i in range(10000)]\n",
    "# 计算频率\n",
    "elements_count = collections.Counter(res)\n",
    "for key, value in elements_count.items():\n",
    "    print(f\"{key}: {value}\")"
   ]
  },
  {
   "cell_type": "markdown",
   "id": "af6004e1",
   "metadata": {},
   "source": [
    "按 key 排序："
   ]
  },
  {
   "cell_type": "code",
   "execution_count": 33,
   "id": "396adfe3",
   "metadata": {},
   "outputs": [
    {
     "name": "stdout",
     "output_type": "stream",
     "text": [
      "[('A', 23), ('B', 56), ('C', 70), ('D', 120), ('E', 123), ('F', 182), ('G', 182), ('H', 220), ('I', 276), ('J', 327), ('K', 298), ('L', 351), ('M', 403), ('N', 433), ('O', 428), ('P', 445), ('Q', 506), ('R', 495), ('S', 551), ('T', 533), ('U', 569), ('V', 618), ('W', 637), ('X', 679), ('Y', 744), ('Z', 731)]\n"
     ]
    }
   ],
   "source": [
    "freq = list(elements_count.items())\n",
    "freq.sort()\n",
    "print(freq)"
   ]
  },
  {
   "cell_type": "markdown",
   "id": "2b3b300a",
   "metadata": {},
   "source": [
    "作图："
   ]
  },
  {
   "cell_type": "code",
   "execution_count": 34,
   "id": "94435352",
   "metadata": {},
   "outputs": [
    {
     "data": {
      "image/png": "[encoded data removed]",
      "text/plain": [
       "<Figure size 432x288 with 1 Axes>"
      ]
     },
     "metadata": {
      "needs_background": "light"
     },
     "output_type": "display_data"
    }
   ],
   "source": [
    "import matplotlib.pyplot as plt\n",
    "freqs = [v for k, v in freq]\n",
    "plt.plot(freqs)\n",
    "plt.show()"
   ]
  },
  {
   "cell_type": "markdown",
   "id": "e0a85ecf",
   "metadata": {},
   "source": [
    "## 例5：Reduce"
   ]
  },
  {
   "cell_type": "code",
   "execution_count": 12,
   "id": "6a4ad58f",
   "metadata": {},
   "outputs": [
    {
     "name": "stdout",
     "output_type": "stream",
     "text": [
      "15\n"
     ]
    }
   ],
   "source": [
    "def add(x ,y):\n",
    "    return x + y\n",
    "\n",
    "import functools # 加载这个包\n",
    "x = [1, 2, 3, 4, 5]\n",
    "it = iter(x)\n",
    "xsum = functools.reduce(add, it)\n",
    "print(xsum)"
   ]
  },
  {
   "cell_type": "markdown",
   "id": "74281fd5",
   "metadata": {},
   "source": [
    "`reduce` 的第三个参数可以设定规约的初值："
   ]
  },
  {
   "cell_type": "code",
   "execution_count": 37,
   "id": "99a2a35f",
   "metadata": {},
   "outputs": [
    {
     "name": "stdout",
     "output_type": "stream",
     "text": [
      "120\n"
     ]
    }
   ],
   "source": [
    "def mult(x, y):\n",
    "    return x * y\n",
    "\n",
    "it = iter(x)\n",
    "xprod = functools.reduce(mult, it, 1)\n",
    "print(xprod)"
   ]
  },
  {
   "cell_type": "markdown",
   "id": "973e3ea0",
   "metadata": {},
   "source": [
    "## 例6：Filter"
   ]
  },
  {
   "cell_type": "markdown",
   "id": "6f49a2b7",
   "metadata": {},
   "source": [
    "`it` 是原始的迭代器："
   ]
  },
  {
   "cell_type": "code",
   "execution_count": 38,
   "id": "79082e1a",
   "metadata": {},
   "outputs": [
    {
     "name": "stdout",
     "output_type": "stream",
     "text": [
      "0\n",
      "1\n",
      "2\n"
     ]
    }
   ],
   "source": [
    "x = list(range(10))\n",
    "it = iter(x)\n",
    "print(next(it))  # 0\n",
    "print(next(it))  # 1\n",
    "print(next(it))  # 2"
   ]
  },
  {
   "cell_type": "markdown",
   "id": "8316cca9",
   "metadata": {},
   "source": [
    "`it_filtered` 是“过滤”后的迭代器："
   ]
  },
  {
   "cell_type": "code",
   "execution_count": 39,
   "id": "f4543b6d",
   "metadata": {},
   "outputs": [
    {
     "name": "stdout",
     "output_type": "stream",
     "text": [
      "0\n",
      "2\n",
      "4\n"
     ]
    }
   ],
   "source": [
    "def is_even(x):\n",
    "    return x % 2 == 0\n",
    "\n",
    "it = iter(x)\n",
    "it_filtered = filter(is_even, it)\n",
    "print(next(it_filtered))  # 0\n",
    "print(next(it_filtered))  # 2\n",
    "print(next(it_filtered))  # 4"
   ]
  },
  {
   "cell_type": "markdown",
   "id": "c7d87560",
   "metadata": {},
   "source": [
    "## 例7：Map"
   ]
  },
  {
   "cell_type": "markdown",
   "id": "a97a1270",
   "metadata": {},
   "source": [
    "`it` 是原始的迭代器："
   ]
  },
  {
   "cell_type": "code",
   "execution_count": 2,
   "id": "084d12e4",
   "metadata": {},
   "outputs": [
    {
     "name": "stdout",
     "output_type": "stream",
     "text": [
      "0\n",
      "1\n",
      "2\n"
     ]
    }
   ],
   "source": [
    "x = list(range(10))\n",
    "it = iter(x)\n",
    "print(next(it))  # 0\n",
    "print(next(it))  # 1\n",
    "print(next(it))  # 2"
   ]
  },
  {
   "cell_type": "markdown",
   "id": "ad9888b2",
   "metadata": {},
   "source": [
    "`it_mapped` 是变换后的迭代器："
   ]
  },
  {
   "cell_type": "code",
   "execution_count": 6,
   "id": "a72872ba",
   "metadata": {
    "scrolled": true
   },
   "outputs": [
    {
     "name": "stdout",
     "output_type": "stream",
     "text": [
      "(0, 0)\n",
      "(1, 1)\n",
      "(4, 2)\n"
     ]
    }
   ],
   "source": [
    "def square(x):\n",
    "    return x * x#, x # 同时返回元组\n",
    "\n",
    "it = iter(x)\n",
    "it_mapped = map(square, it) # map输入输出可以不是同一类型\n",
    "print(next(it_mapped))  # 0\n",
    "print(next(it_mapped))  # 1\n",
    "print(next(it_mapped))  # 4"
   ]
  },
  {
   "cell_type": "markdown",
   "id": "3eddedd9",
   "metadata": {},
   "source": [
    "## 例8：islice"
   ]
  },
  {
   "cell_type": "markdown",
   "id": "e71846c5",
   "metadata": {},
   "source": [
    "`it` 是原始的迭代器，`it_n` 是长度截断的迭代器："
   ]
  },
  {
   "cell_type": "code",
   "execution_count": 7,
   "id": "0e62ca46",
   "metadata": {},
   "outputs": [
    {
     "name": "stdout",
     "output_type": "stream",
     "text": [
      "0\n",
      "1\n",
      "2\n",
      "3\n",
      "4\n"
     ]
    }
   ],
   "source": [
    "import itertools\n",
    "x = list(range(100))\n",
    "it = iter(x)\n",
    "it_n = itertools.islice(it, 5)\n",
    "for e in it_n:\n",
    "    print(e)"
   ]
  },
  {
   "cell_type": "markdown",
   "id": "444ca37a",
   "metadata": {},
   "source": [
    "## 例9：组合使用，Lambda 表达式"
   ]
  },
  {
   "cell_type": "code",
   "execution_count": 8,
   "id": "f4152fe5",
   "metadata": {},
   "outputs": [
    {
     "name": "stdout",
     "output_type": "stream",
     "text": [
      "[0, 4, 16, 36, 64, 100, 144, 196, 256, 324]\n"
     ]
    }
   ],
   "source": [
    "import itertools\n",
    "it = iter(range(10000))\n",
    "it_new = filter(lambda x: x % 2 == 0, it)\n",
    "it_new = map(lambda x: x * x, it_new)\n",
    "it_new = itertools.islice(it_new, 10)\n",
    "print(list(it_new))"
   ]
  },
  {
   "cell_type": "markdown",
   "id": "dd179052",
   "metadata": {},
   "source": [
    "## 练习"
   ]
  },
  {
   "cell_type": "markdown",
   "id": "e996348c",
   "metadata": {},
   "source": [
    "使用 Map/Reduce 等函数式编程工具计算向量的均值，规定只能使用迭代器**一次**，**不能使用 for 循环**，且不知道向量的长度。"
   ]
  },
  {
   "cell_type": "code",
   "execution_count": 13,
   "id": "2f4fb846",
   "metadata": {},
   "outputs": [],
   "source": [
    "import math\n",
    "vec = [math.sin(i + math.exp(i)) for i in range(100)]\n",
    "it = iter(vec)"
   ]
  },
  {
   "cell_type": "code",
   "execution_count": 16,
   "id": "75ac8150",
   "metadata": {},
   "outputs": [
    {
     "name": "stdout",
     "output_type": "stream",
     "text": [
      "-0.026577815770465873\n",
      "0.46773473930329096\n"
     ]
    }
   ],
   "source": [
    "def add(x, y):\n",
    "   return x[0] + y[0], x[1] + y[1], x[2] + y[2]\n",
    "\n",
    "it_new = map(lambda x: (1, x, x*x), it)\n",
    "count, s, ss = functools.reduce(add, it_new)\n",
    "mean = s / count\n",
    "vec_var = (ss - count * mean * mean) / (count - 1)\n",
    "print(mean)\n",
    "print(vec_var)"
   ]
  },
  {
   "cell_type": "markdown",
   "id": "6e61caa8",
   "metadata": {},
   "source": [
    "同样的要求，计算样本方差？"
   ]
  },
  {
   "cell_type": "code",
   "execution_count": null,
   "id": "697a61e7",
   "metadata": {},
   "outputs": [],
   "source": []
  }
 ],
 "metadata": {
  "kernelspec": {
   "display_name": "Python 3 (ipykernel)",
   "language": "python",
   "name": "python3"
  },
  "language_info": {
   "codemirror_mode": {
    "name": "ipython",
    "version": 3
   },
   "file_extension": ".py",
   "mimetype": "text/x-python",
   "name": "python",
   "nbconvert_exporter": "python",
   "pygments_lexer": "ipython3",
   "version": "3.8.5"
  }
 },
 "nbformat": 4,
 "nbformat_minor": 5
}
