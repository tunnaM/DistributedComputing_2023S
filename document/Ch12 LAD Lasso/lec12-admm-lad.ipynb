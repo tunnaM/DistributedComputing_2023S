{
 "cells": [
  {
   "cell_type": "markdown",
   "id": "294f54c3",
   "metadata": {},
   "source": [
    "# ADMM 算法"
   ]
  },
  {
   "cell_type": "markdown",
   "id": "7fbf4b67",
   "metadata": {},
   "source": [
    "### ADMM 算法"
   ]
  },
  {
   "cell_type": "markdown",
   "id": "abb2fb3a",
   "metadata": {},
   "source": [
    "ADMM 可以用来求解形如\n",
    "$$\\begin{align*}\n",
    "\\min_{x,z}\\  & f(x)+g(z)\\\\\n",
    "\\mathrm{s.t.}\\  & Ax+Bz=c\n",
    "\\end{align*}$$\n",
    "的优化问题，其中 $f$ 和 $g$ 是凸函数。"
   ]
  },
  {
   "cell_type": "markdown",
   "id": "975f1368",
   "metadata": {},
   "source": [
    "ADMM 的迭代公式为\n",
    "$$\n",
    "\\begin{align*}\n",
    "x^{k+1} & =\\underset{x}{\\arg\\min}\\ f(x)+\\frac{\\rho}{2}\\Vert Ax+Bz^{k}-c+u^{k}\\Vert^{2}\\\\\n",
    "z^{k+1} & =\\underset{z}{\\arg\\min}\\ g(z)+\\frac{\\rho}{2}\\Vert Ax^{k+1}+Bz-c+u^{k}\\Vert^{2}\\\\\n",
    "u^{k+1} & =u^{k}+Ax^{k+1}+Bz^{k+1}-c.\n",
    "\\end{align*}\n",
    "$$"
   ]
  },
  {
   "cell_type": "markdown",
   "id": "a9e0c954",
   "metadata": {},
   "source": [
    "定义原问题残差 $r^{k+1}=Ax^{k+1}+Bz^{k+1}-c$ 和对偶问题残差 $s^{k+1}=\\rho A'B(z^{k+1}-z^{k})$。当 $||r^k||$ 和 $||s^k||$ 小于某个阈值时即可认为算法收敛。"
   ]
  },
  {
   "cell_type": "markdown",
   "id": "dd303e5e",
   "metadata": {},
   "source": [
    "### Least Absolute Deviation (LAD)"
   ]
  },
  {
   "cell_type": "markdown",
   "id": "187e244a",
   "metadata": {},
   "source": [
    "LAD 是一种稳健回归方法，它与线性回归中的最小二乘方法（OLS）类似，但用残差的绝对值之和来替代平方和。为了与 ADMM 算法的记号匹配，我们用 $A\\in\\mathbb{R}^{n\\times p}$ 表示自变量矩阵，$b\\in\\mathbb{R}^n$ 表示因变量向量，要估计的回归系数为 $x\\in\\mathbb{R}^p$。于是 LAD 的目标函数为 $$\\Vert Ax-b\\Vert_1,$$ 其中 $\\Vert v\\Vert_1$ 表示向量 $v=(v_1,\\ldots,v_n)'$ 的 $L^1$ 范数，即 $\\Vert v\\Vert_1=|v_1|+\\cdots+|v_n|$。"
   ]
  },
  {
   "cell_type": "markdown",
   "id": "c1e2c671",
   "metadata": {},
   "source": [
    "LAD 可以改写为 ADMM 的形式：$f(x)=0$，$g(z)=||z||_1$，$B=-I$，$c=b$。其迭代公式为\n",
    "\n",
    "$$\n",
    "\\begin{align*}\n",
    "x^{k+1} & =(A'A)^{-1}A'(b+z^{k}-u^{k})\\\\\n",
    "z^{k+1} & =S_{1/\\rho}(Ax^{k+1}-b+u^{k})\\\\\n",
    "u^{k+1} & =u^{k}+Ax^{k+1}-z^{k+1}-b,\n",
    "\\end{align*}\n",
    "$$\n",
    "\n",
    "其中 $S_{\\kappa}(a)$ 为 soft-thresholding 运算符，定义为\n",
    "\n",
    "$$\n",
    "S_{\\kappa}(a)=\\begin{cases}\n",
    "a-\\kappa, & a>\\kappa\\\\\n",
    "0, & |a|\\le\\kappa\\\\\n",
    "a+\\kappa, & a<-\\kappa\n",
    "\\end{cases},\n",
    "$$\n",
    "\n",
    "一种紧凑的表达是 $S_{\\kappa}(a)=\\mathrm{sign}(a)\\cdot\\max\\{0,|a|-\\kappa\\}$。"
   ]
  },
  {
   "cell_type": "markdown",
   "id": "060ae327",
   "metadata": {},
   "source": [
    "相应地，原问题残差为 $r^{k+1}=Ax^{k+1}-z^{k+1}-b$，对偶问题残差为 $s^{k+1}=-\\rho A'(z^{k+1}-z^{k})$。"
   ]
  },
  {
   "cell_type": "markdown",
   "id": "71a98268",
   "metadata": {},
   "source": [
    "### 利用 ADMM 求解 LAD"
   ]
  },
  {
   "cell_type": "code",
   "execution_count": null,
   "id": "fb556efa",
   "metadata": {},
   "outputs": [],
   "source": [
    "import numpy as np\n",
    "np.set_printoptions(linewidth=100)"
   ]
  },
  {
   "cell_type": "markdown",
   "id": "b67ee1cd",
   "metadata": {},
   "source": [
    "先生成模拟数据："
   ]
  },
  {
   "cell_type": "code",
   "execution_count": null,
   "id": "cc36a5cc",
   "metadata": {},
   "outputs": [],
   "source": [
    "np.random.seed(123)\n",
    "n = 1000\n",
    "p = 10\n",
    "A = np.random.normal(size=(n, p))\n",
    "xtrue = np.random.normal(size=p)\n",
    "b = A.dot(xtrue) + np.random.normal(size=n)"
   ]
  },
  {
   "cell_type": "code",
   "execution_count": null,
   "id": "966ad3f5",
   "metadata": {},
   "outputs": [
    {
     "data": {
      "text/plain": [
       "array([-1.24096967, -0.31294679, -0.84894679,  2.37795259,  0.65750062,  0.21308689, -0.49097031,\n",
       "       -1.0815104 ,  0.00480111, -0.36079657])"
      ]
     },
     "execution_count": 3,
     "metadata": {},
     "output_type": "execute_result"
    }
   ],
   "source": [
    "xtrue"
   ]
  },
  {
   "cell_type": "markdown",
   "id": "0814eb19",
   "metadata": {},
   "source": [
    "设定 $x$、$z$ 和 $u$ 的初值："
   ]
  },
  {
   "cell_type": "code",
   "execution_count": null,
   "id": "6d6b2a04",
   "metadata": {},
   "outputs": [],
   "source": [
    "# 这里后续记得修改\n",
    "x = np.zeros(p)\n",
    "z = np.zeros(n)\n",
    "u = np.zeros(n)"
   ]
  },
  {
   "cell_type": "markdown",
   "id": "87fa8c5d",
   "metadata": {},
   "source": [
    "设定 $\\rho$ 的取值（理论上可以是任意的正数）："
   ]
  },
  {
   "cell_type": "code",
   "execution_count": null,
   "id": "e805e762",
   "metadata": {},
   "outputs": [],
   "source": [
    "rho = 1.0 # 实验，rho=10或者。。。"
   ]
  },
  {
   "cell_type": "markdown",
   "id": "efc03d10",
   "metadata": {},
   "source": [
    "编写 soft-thresholding 函数，使其可以直接作用于向量："
   ]
  },
  {
   "cell_type": "code",
   "execution_count": null,
   "id": "9d989402",
   "metadata": {},
   "outputs": [
    {
     "data": {
      "text/plain": [
       "array([-1.5, -0.5, -0. ,  0. ,  0. ,  0.5,  1.5])"
      ]
     },
     "execution_count": 6,
     "metadata": {},
     "output_type": "execute_result"
    }
   ],
   "source": [
    "def soft_thresholding(a, k):\n",
    "    return np.sign(a) * np.maximum(0.0, np.abs(a) - k)\n",
    "    \n",
    "soft_thresholding([-3, -2, -1, 0, 1, 2, 3], 1.5)"
   ]
  },
  {
   "cell_type": "markdown",
   "id": "8b44965a",
   "metadata": {},
   "source": [
    "演示一步 $x$ 的迭代："
   ]
  },
  {
   "cell_type": "code",
   "execution_count": null,
   "id": "80eb4c10",
   "metadata": {},
   "outputs": [
    {
     "data": {
      "text/plain": [
       "array([-1.24034079, -0.25873666, -0.90518866,  2.33812078,  0.69147325,  0.15743223, -0.4450978 ,\n",
       "       -1.12812669, -0.02567582, -0.36984311])"
      ]
     },
     "execution_count": 7,
     "metadata": {},
     "output_type": "execute_result"
    }
   ],
   "source": [
    "xnew = np.linalg.solve(A.T.dot(A), A.T.dot(b + z - u)) # 不要写大型循环，\n",
    "xnew"
   ]
  },
  {
   "cell_type": "markdown",
   "id": "cf2075a0",
   "metadata": {},
   "source": [
    "演示一步 $z$ 的迭代："
   ]
  },
  {
   "cell_type": "code",
   "execution_count": null,
   "id": "79842807",
   "metadata": {},
   "outputs": [
    {
     "data": {
      "text/plain": [
       "array([-0.        , -0.01952984,  0.        ,  0.73800732,  0.        , -0.        ,  0.87067037,\n",
       "        0.72896027, -0.44397696, -0.        ])"
      ]
     },
     "execution_count": 8,
     "metadata": {},
     "output_type": "execute_result"
    }
   ],
   "source": [
    "znew = soft_thresholding(A.dot(xnew) - b + u, 1.0 / rho) # 不要重复计算某个东西\n",
    "znew[:10]"
   ]
  },
  {
   "cell_type": "markdown",
   "id": "247bdd42",
   "metadata": {},
   "source": [
    "演示一步 $u$ 的迭代："
   ]
  },
  {
   "cell_type": "code",
   "execution_count": null,
   "id": "16f67905",
   "metadata": {},
   "outputs": [
    {
     "data": {
      "text/plain": [
       "array([-0.14818386, -1.        ,  0.37729366,  1.        ,  0.22272854, -0.99080063,  1.        ,\n",
       "        1.        , -1.        , -0.38022739])"
      ]
     },
     "execution_count": 10,
     "metadata": {},
     "output_type": "execute_result"
    }
   ],
   "source": [
    "unew = u + A.dot(xnew) - znew - b \n",
    "# A.dot(xnew)上一步也有，不要重复计算\n",
    "# A.dot(xnew) - znew - b 与后面计算rk相同 所以rk = unew - u\n",
    "unew[:10]"
   ]
  },
  {
   "cell_type": "markdown",
   "id": "2f04331e",
   "metadata": {},
   "source": [
    "注意，在 $z$ 和 $u$ 的更新中都出现了 `A.dot(xnew)`，因此可以将其结果保存下来，避免重复计算。"
   ]
  },
  {
   "cell_type": "markdown",
   "id": "8854d08c",
   "metadata": {},
   "source": [
    "计算原问题残差 $r^{k+1}=Ax^{k+1}-z^{k+1}-b$，其本质上就是 `unew - u`。"
   ]
  },
  {
   "cell_type": "code",
   "execution_count": null,
   "id": "19702c9c",
   "metadata": {},
   "outputs": [
    {
     "data": {
      "text/plain": [
       "22.870132559316538"
      ]
     },
     "execution_count": 11,
     "metadata": {},
     "output_type": "execute_result"
    }
   ],
   "source": [
    "resid_r = unew - u\n",
    "np.linalg.norm(resid_r)"
   ]
  },
  {
   "cell_type": "markdown",
   "id": "f2916def",
   "metadata": {},
   "source": [
    "计算对偶问题残差 $s^{k+1}=-\\rho A'(z^{k+1}-z^{k})$。"
   ]
  },
  {
   "cell_type": "code",
   "execution_count": null,
   "id": "a38f341f",
   "metadata": {},
   "outputs": [
    {
     "data": {
      "text/plain": [
       "11.613498072547548"
      ]
     },
     "execution_count": 12,
     "metadata": {},
     "output_type": "execute_result"
    }
   ],
   "source": [
    "resid_s = -rho * A.T.dot(znew - z)\n",
    "np.linalg.norm(resid_s)"
   ]
  },
  {
   "cell_type": "markdown",
   "id": "f71b68f3",
   "metadata": {},
   "source": [
    "接下来将整个过程写入一个循环，同时设定最大迭代次数为10000，收敛的阈值为0.001。"
   ]
  },
  {
   "cell_type": "code",
   "execution_count": null,
   "id": "4dfebd79",
   "metadata": {
    "scrolled": true
   },
   "outputs": [
    {
     "name": "stdout",
     "output_type": "stream",
     "text": [
      "Iteration 0, ||r|| = 0.000115, ||s|| = 0.000975\n"
     ]
    }
   ],
   "source": [
    "max_iter = 10000\n",
    "tol = 0.001\n",
    "\n",
    "for i in range(max_iter):\n",
    "    # x 更新\n",
    "    xnew = np.linalg.solve(A.T.dot(A), A.T.dot(b + z - u))\n",
    "    # z 更新\n",
    "    Axnew = A.dot(xnew)\n",
    "    znew = soft_thresholding(Axnew - b + u, 1.0 / rho)\n",
    "    # u 更新\n",
    "    unew = u + Axnew - znew - b\n",
    "    # 计算残差大小\n",
    "    resid_r_norm = np.linalg.norm(unew - u)\n",
    "    resid_s_norm = rho * np.linalg.norm(A.T.dot(znew - z))\n",
    "    # 更新 x、z 和 u 的取值\n",
    "    x = xnew\n",
    "    z = znew\n",
    "    u = unew\n",
    "    # 打印残差信息，判断是否收敛\n",
    "    if i % 100 == 0:\n",
    "        print(f\"Iteration {i}, ||r|| = {resid_r_norm:.6f}, ||s|| = {resid_s_norm:.6f}\")\n",
    "    if resid_r_norm <= tol and resid_s_norm <= tol:\n",
    "        break"
   ]
  },
  {
   "cell_type": "code",
   "execution_count": null,
   "id": "70a673cb",
   "metadata": {},
   "outputs": [
    {
     "data": {
      "text/plain": [
       "array([-1.19230848, -0.28642899, -0.89053513,  2.35251214,  0.66217182,  0.14198784, -0.43247972,\n",
       "       -1.11299057, -0.01374415, -0.38485577])"
      ]
     },
     "execution_count": 14,
     "metadata": {},
     "output_type": "execute_result"
    }
   ],
   "source": [
    "x"
   ]
  },
  {
   "cell_type": "code",
   "execution_count": null,
   "id": "c7d82d89",
   "metadata": {},
   "outputs": [
    {
     "data": {
      "text/plain": [
       "array([-1.24096967, -0.31294679, -0.84894679,  2.37795259,  0.65750062,  0.21308689, -0.49097031,\n",
       "       -1.0815104 ,  0.00480111, -0.36079657])"
      ]
     },
     "execution_count": 15,
     "metadata": {},
     "output_type": "execute_result"
    }
   ],
   "source": [
    "xtrue"
   ]
  },
  {
   "cell_type": "markdown",
   "id": "744ca389",
   "metadata": {},
   "source": [
    "**注意：**注意到在每一次迭代中都要计算 $(A'A)^{-1}v$，其中 $v$ 是某个向量。如果直接使用 `np.linalg.solve()`，计算量会非常大。一种更好的方法是先对 $A'A$ 进行 Cholesky 分解（$A'A$ 是正定矩阵），然后再解线性方程组。"
   ]
  },
  {
   "cell_type": "code",
   "execution_count": null,
   "id": "781f80ab",
   "metadata": {},
   "outputs": [
    {
     "name": "stdout",
     "output_type": "stream",
     "text": [
      "[-0.00062024 -0.00065258  0.00037566 -0.00177019  0.0011255   0.00068691 -0.00143911 -0.00131038\n",
      "  0.00226992  0.00014166]\n",
      "[-0.00062024 -0.00065258  0.00037566 -0.00177019  0.0011255   0.00068691 -0.00143911 -0.00131038\n",
      "  0.00226992  0.00014166]\n",
      "\n",
      "[ 0.0003871   0.00219593 -0.00098795 -0.00114172 -0.00035525 -0.0006054   0.00044722  0.00079882\n",
      "  0.00227984  0.00074191]\n",
      "[ 0.0003871   0.00219593 -0.00098795 -0.00114172 -0.00035525 -0.0006054   0.00044722  0.00079882\n",
      "  0.00227984  0.00074191]\n"
     ]
    }
   ],
   "source": [
    "from scipy.linalg import cho_factor, cho_solve\n",
    "\n",
    "# 使用 Cholesky 求解线性方程组\n",
    "c, lower = cho_factor(A.T.dot(A))\n",
    "v1 = np.random.normal(size=p)\n",
    "v2 = np.random.normal(size=p)\n",
    "res1 = cho_solve((c, lower), v1)\n",
    "res2 = cho_solve((c, lower), v2)\n",
    "\n",
    "# 验证结果\n",
    "print(res1)\n",
    "print(np.linalg.solve(A.T.dot(A), v1))\n",
    "print()\n",
    "print(res2)\n",
    "print(np.linalg.solve(A.T.dot(A), v2))"
   ]
  },
  {
   "cell_type": "code",
   "execution_count": null,
   "id": "98a0862b",
   "metadata": {},
   "outputs": [
    {
     "name": "stdout",
     "output_type": "stream",
     "text": [
      "Iteration 0, ||r|| = 0.000116, ||s|| = 0.000961\n"
     ]
    }
   ],
   "source": [
    "max_iter = 10000\n",
    "tol = 0.001\n",
    "\n",
    "for i in range(max_iter):\n",
    "    # x 更新\n",
    "    xnew = cho_solve((c, lower), A.T.dot(b + z - u))\n",
    "    # z 更新\n",
    "    Axnew = A.dot(xnew)\n",
    "    znew = soft_thresholding(Axnew - b + u, 1.0 / rho)\n",
    "    # u 更新\n",
    "    unew = u + Axnew - znew - b\n",
    "    # 计算残差大小\n",
    "    resid_r_norm = np.linalg.norm(unew - u)\n",
    "    resid_s_norm = rho * np.linalg.norm(A.T.dot(znew - z))\n",
    "    # 更新 x、z 和 u 的取值\n",
    "    x = xnew\n",
    "    z = znew\n",
    "    u = unew\n",
    "    # 打印残差信息，判断是否收敛\n",
    "    if i % 100 == 0:\n",
    "        print(f\"Iteration {i}, ||r|| = {resid_r_norm:.6f}, ||s|| = {resid_s_norm:.6f}\")\n",
    "    if resid_r_norm <= tol and resid_s_norm <= tol:\n",
    "        break"
   ]
  },
  {
   "cell_type": "code",
   "execution_count": null,
   "id": "6c79172e",
   "metadata": {},
   "outputs": [],
   "source": [
    "## 此处插入代码作答\n",
    "def update_z(A, b, x, u, rho):\n",
    "    # 插入代码\n",
    "    a = A.dot(x) - b + u\n",
    "    k= 1/rho\n",
    "    znew = np.sign(a) * np.maximum(0.0, np.abs(a) - k)\n",
    "    return znew"
   ]
  },
  {
   "cell_type": "code",
   "execution_count": null,
   "id": "d3ad6333",
   "metadata": {},
   "outputs": [],
   "source": [
    "## 此处插入代码作答\n",
    "def update_x(A, b, z, u):\n",
    "    # 插入代码\n",
    "    xnew = np.linalg.solve(A.T.dot(A), A.T.dot(b+z-u))\n",
    "    return xnew"
   ]
  },
  {
   "cell_type": "code",
   "execution_count": null,
   "id": "9319b55c",
   "metadata": {},
   "outputs": [],
   "source": [
    "## 此处插入代码作答\n",
    "from scipy.linalg import cho_factor, cho_solve\n",
    "\n",
    "def admm_lad(A, b, rho=1.0, maxit=10000, eps=1e-3, verbose=0):\n",
    "    ##初始化\n",
    "    n, p = np.shape(A)\n",
    "    x = np.zeros(p)\n",
    "    z = np.zeros(n)\n",
    "    u = np.zeros(n)\n",
    "    ##使用Cholesky分解\n",
    "    c, lower = cho_factor(A.T.dot(A))\n",
    "    ##更新迭代\n",
    "    for i in range(maxit):\n",
    "        # x 更新\n",
    "        #xnew = update_x(A, b, z, u)\n",
    "        xnew = cho_solve((c,lower), A.T.dot(b+z-u))\n",
    "        # z 更新\n",
    "        znew = update_z(A, b, xnew, u, rho)\n",
    "        # u 更新\n",
    "        unew = u + A.dot(xnew) - znew - b\n",
    "        # 计算残差大小\n",
    "        resid_r_norm = np.linalg.norm(unew - u)\n",
    "        resid_s_norm = rho * np.linalg.norm(A.T.dot(znew - z))\n",
    "        # 更新 x、z 和 u 的取值\n",
    "        x = xnew\n",
    "        z = znew\n",
    "        u = unew\n",
    "        # 打印残差信息，判断是否收敛\n",
    "        if i % 1000 == 0 and verbose > 0:\n",
    "            print(f\"Iteration {i}, ||r|| = {resid_r_norm:.6f}, ||s|| = {resid_s_norm:.6f}\")\n",
    "        if resid_r_norm <= eps and resid_s_norm <= eps:\n",
    "            break\n",
    "    return i+1, x\n"
   ]
  },
  {
   "cell_type": "code",
   "execution_count": null,
   "id": "322b0b10",
   "metadata": {},
   "outputs": [],
   "source": []
  },
  {
   "cell_type": "code",
   "execution_count": null,
   "id": "1fe1801a",
   "metadata": {},
   "outputs": [],
   "source": []
  }
 ],
 "metadata": {
  "kernelspec": {
   "display_name": "Python 3 (ipykernel)",
   "language": "python",
   "name": "python3"
  },
  "language_info": {
   "codemirror_mode": {
    "name": "ipython",
    "version": 3
   },
   "file_extension": ".py",
   "mimetype": "text/x-python",
   "name": "python",
   "nbconvert_exporter": "python",
   "pygments_lexer": "ipython3",
   "version": "3.8.5"
  }
 },
 "nbformat": 4,
 "nbformat_minor": 5
}
