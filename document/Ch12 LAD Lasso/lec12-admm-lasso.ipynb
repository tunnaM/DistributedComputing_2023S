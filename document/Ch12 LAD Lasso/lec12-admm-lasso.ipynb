{
 "cells": [
  {
   "cell_type": "markdown",
   "id": "294f54c3",
   "metadata": {},
   "source": [
    "# ADMM 算法"
   ]
  },
  {
   "cell_type": "markdown",
   "id": "7fbf4b67",
   "metadata": {},
   "source": [
    "### ADMM 算法"
   ]
  },
  {
   "cell_type": "markdown",
   "id": "abb2fb3a",
   "metadata": {},
   "source": [
    "ADMM 可以用来求解形如\n",
    "$$\\begin{align*}\n",
    "\\min_{x,z}\\  & f(x)+g(z)\\\\\n",
    "\\mathrm{s.t.}\\  & Ax+Bz=c\n",
    "\\end{align*}$$\n",
    "的优化问题，其中 $f$ 和 $g$ 是凸函数。"
   ]
  },
  {
   "cell_type": "markdown",
   "id": "975f1368",
   "metadata": {},
   "source": [
    "ADMM 的迭代公式为\n",
    "$$\n",
    "\\begin{align*}\n",
    "x^{k+1} & =\\underset{x}{\\arg\\min}\\ f(x)+\\frac{\\rho}{2}\\Vert Ax+Bz^{k}-c+u^{k}\\Vert^{2}\\\\\n",
    "z^{k+1} & =\\underset{z}{\\arg\\min}\\ g(z)+\\frac{\\rho}{2}\\Vert Ax^{k+1}+Bz-c+u^{k}\\Vert^{2}\\\\\n",
    "u^{k+1} & =u^{k}+Ax^{k+1}+Bz^{k+1}-c.\n",
    "\\end{align*}\n",
    "$$"
   ]
  },
  {
   "cell_type": "markdown",
   "id": "a9e0c954",
   "metadata": {},
   "source": [
    "定义原问题残差 $r^{k+1}=Ax^{k+1}+Bz^{k+1}-c$ 和对偶问题残差 $s^{k+1}=\\rho A'B(z^{k+1}-z^{k})$。当 $||r^k||$ 和 $||s^k||$ 小于某个阈值时即可认为算法收敛。"
   ]
  },
  {
   "cell_type": "markdown",
   "id": "dd303e5e",
   "metadata": {},
   "source": [
    "### Lasso"
   ]
  },
  {
   "cell_type": "markdown",
   "id": "187e244a",
   "metadata": {},
   "source": [
    "Lasso 是一种带有变量选择效果的回归方法，它与线性回归中的最小二乘方法（OLS）类似，但加上了对回归系数的 $L^1$ 范数惩罚项。为了与 ADMM 算法的记号匹配，我们用 $M\\in\\mathbb{R}^{n\\times p}$ 表示自变量矩阵，$b\\in\\mathbb{R}^n$ 表示因变量向量，要估计的回归系数为 $x\\in\\mathbb{R}^p$。于是 Lasso 的目标函数为 $$\\frac{1}{2}\\Vert Mx-b\\Vert^2+\\lambda \\Vert x\\Vert_1,$$ 其中 $\\Vert v\\Vert_1$ 表示向量 $v=(v_1,\\ldots,v_n)'$ 的 $L^1$ 范数，即 $\\Vert v\\Vert_1=|v_1|+\\cdots+|v_n|$。"
   ]
  },
  {
   "cell_type": "markdown",
   "id": "c1e2c671",
   "metadata": {},
   "source": [
    "Lasso 可以改写为 ADMM 的形式：$f(x)=(1/2)\\cdot\\Vert Mx-b\\Vert^2$，$g(z)=\\lambda ||z||_1$，约束中 $A=I_p$, $B=-I_p$，$c=0$。其迭代公式为\n",
    "\n",
    "$$\n",
    "\\begin{align*}\n",
    "x^{k+1} & =(M'M+\\rho I)^{-1}(M'b+\\rho(z^{k}-u^{k}))\\\\\n",
    "z^{k+1} & =S_{\\lambda/\\rho}(x^{k+1}+u^{k})\\\\\n",
    "u^{k+1} & =u^{k}+x^{k+1}-z^{k+1},\n",
    "\\end{align*}\n",
    "$$\n",
    "\n",
    "其中 $S_{\\kappa}(a)$ 为 soft-thresholding 运算符，定义为\n",
    "\n",
    "$$\n",
    "S_{\\kappa}(a)=\\begin{cases}\n",
    "a-\\kappa, & a>\\kappa\\\\\n",
    "0, & |a|\\le\\kappa\\\\\n",
    "a+\\kappa, & a<-\\kappa\n",
    "\\end{cases},\n",
    "$$\n",
    "\n",
    "一种紧凑的表达是 $S_{\\kappa}(a)=\\mathrm{sign}(a)\\cdot\\max\\{0,|a|-\\kappa\\}$。"
   ]
  },
  {
   "cell_type": "markdown",
   "id": "060ae327",
   "metadata": {},
   "source": [
    "相应地，原问题残差为 $r^{k+1}=x^{k+1}-z^{k+1}$，对偶问题残差为 $s^{k+1}=-\\rho (z^{k+1}-z^{k})$。"
   ]
  },
  {
   "cell_type": "markdown",
   "id": "71a98268",
   "metadata": {},
   "source": [
    "### 利用 ADMM 求解 Lasso"
   ]
  },
  {
   "cell_type": "code",
   "execution_count": 3,
   "id": "fb556efa",
   "metadata": {},
   "outputs": [],
   "source": [
    "import numpy as np\n",
    "np.set_printoptions(linewidth=100)"
   ]
  },
  {
   "cell_type": "markdown",
   "id": "b67ee1cd",
   "metadata": {},
   "source": [
    "生成模拟数据："
   ]
  },
  {
   "cell_type": "code",
   "execution_count": null,
   "id": "cc36a5cc",
   "metadata": {},
   "outputs": [
    {
     "data": {
      "text/plain": [
       "array([-1.05417044, -0.78301134,  1.82790084,  1.7468072 ,  1.3282585 , -0.43277314, -0.6686141 ,\n",
       "       -0.47208845,  1.05554064,  0.67905585,  0.        ,  0.        ,  0.        ,  0.        ,\n",
       "        0.        ,  0.        ,  0.        ,  0.        ,  0.        ,  0.        ,  0.        ,\n",
       "        0.        ,  0.        ,  0.        ,  0.        ,  0.        ,  0.        ,  0.        ,\n",
       "        0.        ,  0.        ])"
      ]
     },
     "execution_count": 4,
     "metadata": {},
     "output_type": "execute_result"
    }
   ],
   "source": [
    "np.random.seed(123)\n",
    "n = 1000\n",
    "p = 30\n",
    "nz = 10\n",
    "M = np.random.normal(size=(n, p)) # M = A\n",
    "# 真实的 x 只有前10个元素非零，其余均为0\n",
    "xtrue = np.random.normal(size=nz)\n",
    "xtrue = np.concatenate((xtrue, np.zeros(p - nz)))\n",
    "b = M.dot(xtrue) + np.random.normal(size=n)\n",
    "xtrue"
   ]
  },
  {
   "cell_type": "markdown",
   "id": "0814eb19",
   "metadata": {},
   "source": [
    "将 $\\lambda$ 设为 $\\lambda=0.01n$，编写 ADMM 算法来对 Lasso 问题进行求解。"
   ]
  },
  {
   "cell_type": "code",
   "execution_count": 5,
   "id": "82b73ea6",
   "metadata": {},
   "outputs": [],
   "source": [
    "lam = 0.01 * n"
   ]
  },
  {
   "cell_type": "markdown",
   "id": "d819fa74",
   "metadata": {},
   "source": [
    "设定 𝑥、𝑧 和 𝑢 的初值："
   ]
  },
  {
   "cell_type": "code",
   "execution_count": 10,
   "id": "92672927",
   "metadata": {},
   "outputs": [],
   "source": [
    "x = np.zeros(p)\n",
    "z = np.zeros(p)\n",
    "u = np.zeros(p)"
   ]
  },
  {
   "cell_type": "markdown",
   "id": "0c8cd634",
   "metadata": {},
   "source": [
    "设定 𝜌 的取值（理论上可以是任意的正数）："
   ]
  },
  {
   "cell_type": "code",
   "execution_count": 7,
   "id": "8666e9da",
   "metadata": {},
   "outputs": [],
   "source": [
    "rho = 1.0 "
   ]
  },
  {
   "cell_type": "markdown",
   "id": "c9dbce15",
   "metadata": {},
   "source": [
    "编写 soft-thresholding 函数，使其可以直接作用于向量："
   ]
  },
  {
   "cell_type": "code",
   "execution_count": 8,
   "id": "44008c35",
   "metadata": {},
   "outputs": [
    {
     "data": {
      "text/plain": [
       "array([-1.5, -0.5, -0. ,  0. ,  0. ,  0.5,  1.5])"
      ]
     },
     "execution_count": 8,
     "metadata": {},
     "output_type": "execute_result"
    }
   ],
   "source": [
    "def soft_thresholding(a, k):\n",
    "    return np.sign(a) * np.maximum(0.0, np.abs(a) - k)\n",
    "    \n",
    "soft_thresholding([-3, -2, -1, 0, 1, 2, 3], 1.5)"
   ]
  },
  {
   "cell_type": "markdown",
   "id": "069642d9",
   "metadata": {},
   "source": [
    "演示一步𝑥的迭代："
   ]
  },
  {
   "cell_type": "code",
   "execution_count": 11,
   "id": "e383797d",
   "metadata": {},
   "outputs": [
    {
     "data": {
      "text/plain": [
       "array([-1.12672886, -0.78338621,  1.81712861,  1.76873077,  1.31667535, -0.41171736, -0.62774124,\n",
       "       -0.49119182,  1.01766884,  0.69460945, -0.00379547, -0.03955283,  0.03138226,  0.00605927,\n",
       "        0.03499658, -0.02064702,  0.03643848, -0.04799411,  0.01243125,  0.02168373,  0.04973613,\n",
       "        0.0236359 ,  0.02654542,  0.07400461, -0.0323586 ,  0.02629139,  0.00622242, -0.02120399,\n",
       "        0.0170705 , -0.00448481])"
      ]
     },
     "execution_count": 11,
     "metadata": {},
     "output_type": "execute_result"
    }
   ],
   "source": [
    "xnew = np.linalg.solve(M.T.dot(M)+rho*np.eye(p), M.T.dot(b)+rho*(z - u)) # 不要写大型循环，\n",
    "xnew"
   ]
  },
  {
   "cell_type": "markdown",
   "id": "ff14ebea",
   "metadata": {},
   "source": [
    "演示一步 𝑧 的迭代："
   ]
  },
  {
   "cell_type": "code",
   "execution_count": 20,
   "id": "415570a6",
   "metadata": {},
   "outputs": [
    {
     "data": {
      "text/plain": [
       "array([-0., -0.,  0.,  0.,  0., -0., -0., -0.,  0.,  0., -0., -0.,  0.,  0.,  0., -0.,  0., -0.,\n",
       "        0.,  0.,  0.,  0.,  0.,  0., -0.,  0.,  0., -0.,  0., -0.])"
      ]
     },
     "execution_count": 20,
     "metadata": {},
     "output_type": "execute_result"
    }
   ],
   "source": [
    "znew = soft_thresholding(xnew + u, lam / rho) # 不要重复计算某个东西\n",
    "znew"
   ]
  },
  {
   "cell_type": "markdown",
   "id": "1300b43b",
   "metadata": {},
   "source": [
    "演示一步 𝑢 的迭代："
   ]
  },
  {
   "cell_type": "code",
   "execution_count": 21,
   "id": "1879278f",
   "metadata": {},
   "outputs": [
    {
     "data": {
      "text/plain": [
       "array([-1.12672886, -0.78338621,  1.81712861,  1.76873077,  1.31667535, -0.41171736, -0.62774124,\n",
       "       -0.49119182,  1.01766884,  0.69460945, -0.00379547, -0.03955283,  0.03138226,  0.00605927,\n",
       "        0.03499658, -0.02064702,  0.03643848, -0.04799411,  0.01243125,  0.02168373,  0.04973613,\n",
       "        0.0236359 ,  0.02654542,  0.07400461, -0.0323586 ,  0.02629139,  0.00622242, -0.02120399,\n",
       "        0.0170705 , -0.00448481])"
      ]
     },
     "execution_count": 21,
     "metadata": {},
     "output_type": "execute_result"
    }
   ],
   "source": [
    "unew = u + xnew - znew\n",
    "unew"
   ]
  },
  {
   "cell_type": "markdown",
   "id": "1377e217",
   "metadata": {},
   "source": [
    "计算原问题残差 $r^{k+1}=x^{k+1}-z^{k+1}$，其本质上就是 `unew - u`。"
   ]
  },
  {
   "cell_type": "code",
   "execution_count": 16,
   "id": "f73c6665",
   "metadata": {},
   "outputs": [
    {
     "data": {
      "text/plain": [
       "3.5200059369810304"
      ]
     },
     "execution_count": 16,
     "metadata": {},
     "output_type": "execute_result"
    }
   ],
   "source": [
    "resid_r = unew - u\n",
    "np.linalg.norm(resid_r)"
   ]
  },
  {
   "cell_type": "markdown",
   "id": "09fb7557",
   "metadata": {},
   "source": [
    "计算对偶问题残差 $s^{k+1}=-\\rho A'(z^{k+1}-z^{k})$。"
   ]
  },
  {
   "cell_type": "code",
   "execution_count": 17,
   "id": "a267854c",
   "metadata": {},
   "outputs": [
    {
     "data": {
      "text/plain": [
       "0.0"
      ]
     },
     "execution_count": 17,
     "metadata": {},
     "output_type": "execute_result"
    }
   ],
   "source": [
    "resid_s = -rho * (znew - z)\n",
    "np.linalg.norm(resid_s)"
   ]
  },
  {
   "cell_type": "code",
   "execution_count": 23,
   "id": "bbe676ab",
   "metadata": {},
   "outputs": [
    {
     "name": "stdout",
     "output_type": "stream",
     "text": [
      "Iteration 0, ||r|| = 3.520006, ||s|| = 0.000000\n",
      "Iteration 100, ||r|| = 0.129868, ||s|| = 0.000014\n",
      "Iteration 200, ||r|| = 0.100437, ||s|| = 0.000012\n",
      "Iteration 300, ||r|| = 0.069206, ||s|| = 0.000011\n",
      "Iteration 400, ||r|| = 0.041848, ||s|| = 0.000007\n",
      "Iteration 500, ||r|| = 0.030335, ||s|| = 0.000006\n",
      "Iteration 600, ||r|| = 0.023931, ||s|| = 0.000215\n",
      "Iteration 700, ||r|| = 0.011848, ||s|| = 0.000002\n",
      "Iteration 800, ||r|| = 0.006923, ||s|| = 0.000001\n",
      "Iteration 900, ||r|| = 0.006265, ||s|| = 0.000001\n",
      "Iteration 1000, ||r|| = 0.005670, ||s|| = 0.000001\n",
      "Iteration 1100, ||r|| = 0.005132, ||s|| = 0.000001\n",
      "Iteration 1200, ||r|| = 0.004645, ||s|| = 0.000001\n",
      "Iteration 1300, ||r|| = 0.004204, ||s|| = 0.000001\n",
      "Iteration 1400, ||r|| = 0.003805, ||s|| = 0.000001\n",
      "Iteration 1500, ||r|| = 0.003445, ||s|| = 0.000001\n",
      "Iteration 1600, ||r|| = 0.003118, ||s|| = 0.000001\n",
      "Iteration 1700, ||r|| = 0.002822, ||s|| = 0.000000\n",
      "Iteration 1800, ||r|| = 0.002555, ||s|| = 0.000000\n",
      "Iteration 1900, ||r|| = 0.001568, ||s|| = 0.000000\n",
      "Iteration 2000, ||r|| = 0.001416, ||s|| = 0.000000\n",
      "Iteration 2100, ||r|| = 0.001279, ||s|| = 0.000000\n",
      "Iteration 2200, ||r|| = 0.001155, ||s|| = 0.000000\n",
      "Iteration 2300, ||r|| = 0.001043, ||s|| = 0.000000\n"
     ]
    }
   ],
   "source": [
    "max_iter = 10000\n",
    "tol = 0.001\n",
    "MTM_pho = M.T.dot(M)+rho*np.eye(p)\n",
    "\n",
    "\n",
    "for i in range(max_iter):\n",
    "    # x 更新\n",
    "    xnew = np.linalg.solve(MTM_pho, M.T.dot(b)+rho*(z - u))\n",
    "    # z 更新\n",
    "    znew = soft_thresholding(xnew + u, lam / rho)\n",
    "    # u 更新\n",
    "    unew = u + xnew - znew\n",
    "    # 计算残差大小\n",
    "    resid_r_norm = np.linalg.norm(unew - u)\n",
    "    resid_s_norm = rho * np.linalg.norm(znew - z)\n",
    "    # 更新 x、z 和 u 的取值\n",
    "    x = xnew\n",
    "    z = znew\n",
    "    u = unew\n",
    "    # 打印残差信息，判断是否收敛\n",
    "    if i % 100 == 0:\n",
    "        print(f\"Iteration {i}, ||r|| = {resid_r_norm:.6f}, ||s|| = {resid_s_norm:.6f}\")\n",
    "    if resid_r_norm <= tol and resid_s_norm <= tol:\n",
    "        break"
   ]
  },
  {
   "cell_type": "code",
   "execution_count": 24,
   "id": "5e678a45",
   "metadata": {},
   "outputs": [
    {
     "data": {
      "text/plain": [
       "array([-1.11994625e+00, -7.75665313e-01,  1.81095466e+00,  1.75936757e+00,  1.31168505e+00,\n",
       "       -4.01678107e-01, -6.19517515e-01, -4.85216828e-01,  1.00954251e+00,  6.85583755e-01,\n",
       "       -2.25490602e-04, -2.97250900e-02,  2.40073271e-02,  7.38205063e-04,  2.71655144e-02,\n",
       "       -1.06604280e-02,  2.65468210e-02, -3.70551913e-02,  1.83798119e-03,  1.35241530e-02,\n",
       "        3.83247661e-02,  1.21210117e-02,  1.70710398e-02,  6.45411795e-02, -2.12076991e-02,\n",
       "        1.62502629e-02,  6.00482416e-04, -1.08612299e-02,  7.94383401e-03, -2.07260485e-04])"
      ]
     },
     "execution_count": 24,
     "metadata": {},
     "output_type": "execute_result"
    }
   ],
   "source": [
    "x"
   ]
  },
  {
   "cell_type": "code",
   "execution_count": 25,
   "id": "72f7c444",
   "metadata": {},
   "outputs": [
    {
     "data": {
      "text/plain": [
       "array([-1.11994625, -0.77566531,  1.81095466,  1.75936757,  1.31168505, -0.40167811, -0.61951751,\n",
       "       -0.48521683,  1.00954251,  0.68558375, -0.        , -0.02972509,  0.02400733,  0.        ,\n",
       "        0.02716551, -0.01066043,  0.02654682, -0.03705519,  0.00183798,  0.01352415,  0.03832477,\n",
       "        0.01212101,  0.01707104,  0.06454118, -0.0212077 ,  0.01625026,  0.        , -0.01086123,\n",
       "        0.00794383, -0.        ])"
      ]
     },
     "execution_count": 25,
     "metadata": {},
     "output_type": "execute_result"
    }
   ],
   "source": [
    "z"
   ]
  },
  {
   "cell_type": "code",
   "execution_count": 26,
   "id": "585356a0",
   "metadata": {},
   "outputs": [
    {
     "data": {
      "text/plain": [
       "array([-1.05417044, -0.78301134,  1.82790084,  1.7468072 ,  1.3282585 , -0.43277314, -0.6686141 ,\n",
       "       -0.47208845,  1.05554064,  0.67905585,  0.        ,  0.        ,  0.        ,  0.        ,\n",
       "        0.        ,  0.        ,  0.        ,  0.        ,  0.        ,  0.        ,  0.        ,\n",
       "        0.        ,  0.        ,  0.        ,  0.        ,  0.        ,  0.        ,  0.        ,\n",
       "        0.        ,  0.        ])"
      ]
     },
     "execution_count": 26,
     "metadata": {},
     "output_type": "execute_result"
    }
   ],
   "source": [
    "xtrue"
   ]
  },
  {
   "cell_type": "code",
   "execution_count": null,
   "id": "c5689cb5",
   "metadata": {},
   "outputs": [],
   "source": []
  },
  {
   "cell_type": "code",
   "execution_count": null,
   "id": "76aeb346",
   "metadata": {},
   "outputs": [],
   "source": []
  },
  {
   "cell_type": "markdown",
   "id": "744ca389",
   "metadata": {},
   "source": [
    "**注意：**注意到在每一次迭代中都要计算 $(M'M+\\rho I)^{-1}v$，其中 $v$ 是某个向量。如果直接使用 `np.linalg.solve()`，计算量会非常大。一种更好的方法是先对 $M'M+\\rho I$ 进行 Cholesky 分解（$M'M+\\rho I$ 是正定矩阵），然后再解线性方程组。"
   ]
  },
  {
   "cell_type": "code",
   "execution_count": 6,
   "id": "f572461a",
   "metadata": {},
   "outputs": [],
   "source": [
    "rho = 1.0 # 实验，rho=10或者。"
   ]
  },
  {
   "cell_type": "code",
   "execution_count": null,
   "id": "3ff5e324",
   "metadata": {},
   "outputs": [],
   "source": []
  },
  {
   "cell_type": "code",
   "execution_count": null,
   "id": "247eab79",
   "metadata": {},
   "outputs": [],
   "source": []
  },
  {
   "cell_type": "code",
   "execution_count": null,
   "id": "38eea574",
   "metadata": {},
   "outputs": [],
   "source": []
  },
  {
   "cell_type": "code",
   "execution_count": null,
   "id": "2fa88416",
   "metadata": {},
   "outputs": [],
   "source": []
  },
  {
   "cell_type": "code",
   "execution_count": null,
   "id": "2283f823",
   "metadata": {},
   "outputs": [],
   "source": []
  },
  {
   "cell_type": "code",
   "execution_count": null,
   "id": "06d0ec83",
   "metadata": {},
   "outputs": [],
   "source": []
  }
 ],
 "metadata": {
  "kernelspec": {
   "display_name": "Python 3 (ipykernel)",
   "language": "python",
   "name": "python3"
  },
  "language_info": {
   "codemirror_mode": {
    "name": "ipython",
    "version": 3
   },
   "file_extension": ".py",
   "mimetype": "text/x-python",
   "name": "python",
   "nbconvert_exporter": "python",
   "pygments_lexer": "ipython3",
   "version": "3.8.5"
  }
 },
 "nbformat": 4,
 "nbformat_minor": 5
}
