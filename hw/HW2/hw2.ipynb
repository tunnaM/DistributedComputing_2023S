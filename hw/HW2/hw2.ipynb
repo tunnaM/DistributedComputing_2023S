{
 "cells": [
  {
   "cell_type": "markdown",
   "id": "c0831998",
   "metadata": {},
   "source": [
    "## 作业2：PySpark 安装与运行"
   ]
  },
  {
   "cell_type": "markdown",
   "id": "4c34a516",
   "metadata": {},
   "source": [
    "1. 参照课堂介绍的方法安装好 PySpark，使用如下命令检查环境变量："
   ]
  },
  {
   "cell_type": "code",
   "execution_count": 1,
   "id": "f05973e9",
   "metadata": {},
   "outputs": [
    {
     "name": "stdout",
     "output_type": "stream",
     "text": [
      "E:\\software\\hadoop\n",
      "E:\\software\\spark\n"
     ]
    },
    {
     "name": "stderr",
     "output_type": "stream",
     "text": [
      "Welcome to\n",
      "      ____              __\n",
      "     / __/__  ___ _____/ /__\n",
      "    _\\ \\/ _ \\/ _ `/ __/  '_/\n",
      "   /___/ .__/\\_,_/_/ /_/\\_\\   version 3.3.2\n",
      "      /_/\n",
      "                        \n",
      "Using Scala version 2.12.15, OpenJDK 64-Bit Server VM, 11.0.18\n",
      "Branch HEAD\n",
      "Compiled by user liangchi on 2023-02-10T19:57:40Z\n",
      "Revision 5103e00c4ce5fcc4264ca9c4df12295d42557af6\n",
      "Url https://github.com/apache/spark\n",
      "Type --help for more information.\n"
     ]
    }
   ],
   "source": [
    "import os\n",
    "\n",
    "print(os.getenv(\"HADOOP_HOME\"))\n",
    "print(os.getenv(\"SPARK_HOME\"))\n",
    "\n",
    "!pyspark --version"
   ]
  },
  {
   "cell_type": "markdown",
   "id": "eeb6b374",
   "metadata": {},
   "source": [
    "2. 配置和启动 PySpark。使用合适的命令以**单机模式**启动 PySpark，并 **使用 4 个 CPU 核心**。"
   ]
  },
  {
   "cell_type": "code",
   "execution_count": 2,
   "id": "dce079f4",
   "metadata": {},
   "outputs": [
    {
     "name": "stdout",
     "output_type": "stream",
     "text": [
      "<pyspark.sql.session.SparkSession object at 0x0000025C3944C520>\n",
      "<SparkContext master=local[4] appName=Reading Text>\n"
     ]
    }
   ],
   "source": [
    "import findspark\n",
    "findspark.init()\n",
    "\n",
    "from pyspark.sql import SparkSession\n",
    "# 单机模式\n",
    "spark = SparkSession.builder.master(\"local[4]\").appName(\"Reading Text\").getOrCreate()\n",
    "sc = spark.sparkContext\n",
    "# sc.setLogLevel(\"ERROR\")\n",
    "print(spark)\n",
    "print(sc)"
   ]
  },
  {
   "cell_type": "markdown",
   "id": "6ad94d0c",
   "metadata": {},
   "source": [
    "3. 读取文件 `UNv1.0.en-zh.en`（注意不是 `UNv1.0.en-zh.zh`），打印其前10行。"
   ]
  },
  {
   "cell_type": "code",
   "execution_count": 4,
   "id": "872a7eec",
   "metadata": {},
   "outputs": [
    {
     "name": "stdout",
     "output_type": "stream",
     "text": [
      "(0, 'RESOLUTION 918 (1994)')\n",
      "(1, 'Adopted by the Security Council at its 3377th meeting, on 17 May 1994')\n",
      "(2, 'The Security Council,')\n",
      "(3, 'Reaffirming all its previous resolutions on the situation in Rwanda, in particular its resolution 872 (1993) of 5 October 1993 by which it established the United Nations Assistance Mission for Rwanda (UNAMIR), its resolution 909 (1994) of 5 April 1994 which extended the mandate of UNAMIR until 29 July 1994, and its resolution 912 (1994) of 21 April 1994 by which it adjusted the mandate of UNAMIR,')\n",
      "(4, 'Recalling the statements made by the President of the Council on 7 April 1994 (S/PRST/1994/16) and 30 April 1994 (S/PRST/1994/21),')\n",
      "(5, 'Having considered the report of the Secretary-General dated 13 May 1994 (S/1994/565),')\n",
      "(6, 'Reaffirming its resolution 868 (1993) of 29 September 1993 on the security of United Nations operations,')\n",
      "(7, 'Strongly condemning the ongoing violence in Rwanda and particularly condemning the very numerous killings of civilians which have taken place in Rwanda and the impunity with which armed individuals have been able to operate and continue operating therein,')\n",
      "(8, 'Stressing the importance of the Arusha Peace Agreement to the peaceful resolution of the conflict in Rwanda and the necessity for all parties to recommit themselves to its full implementation,')\n",
      "(9, 'Commending the efforts of the Organization of African Unity (OAU) and its organs, as well as the efforts of the Tanzanian Facilitator, in providing diplomatic, political, and humanitarian support for the implementation of the relevant resolutions of the Council,')\n"
     ]
    }
   ],
   "source": [
    "# 读取文件 UNv1.0.en-zh.en\n",
    "file = sc.textFile(\"data/UNv1.0.en-zh.en\")\n",
    "# 打印其前10行\n",
    "text1 = file.take(10)\n",
    "print(*enumerate(text1), sep=\"\\n\")"
   ]
  },
  {
   "cell_type": "markdown",
   "id": "f546b69b",
   "metadata": {},
   "source": [
    "4. 编写程序，计算有多少行文本包含字符串“China”。提示：将 `filter()` 与 `count()` 操作进行组合。"
   ]
  },
  {
   "cell_type": "code",
   "execution_count": 6,
   "id": "f3267826",
   "metadata": {},
   "outputs": [
    {
     "name": "stdout",
     "output_type": "stream",
     "text": [
      "73090\n"
     ]
    }
   ],
   "source": [
    "# 所有包含“China”的行\n",
    "ukraine = file.filter(lambda x: x.__contains__(\"China\"))\n",
    "# 计算有多少行文本包含字符串“China”\n",
    "print(ukraine.count())"
   ]
  },
  {
   "cell_type": "markdown",
   "id": "d0138bf0",
   "metadata": {},
   "source": [
    "5. 类似地，打印出前5行同时包含“China”和\"United States\"的文本。"
   ]
  },
  {
   "cell_type": "code",
   "execution_count": 7,
   "id": "300572d6",
   "metadata": {},
   "outputs": [
    {
     "name": "stdout",
     "output_type": "stream",
     "text": [
      "(0, 'A growing number of workers in countries and areas such as Barbados, India, Jamaica, Republic of Korea and Taiwan Province of China were telecommunicating to other countries such as the United States and Japan.')\n",
      "(1, 'The participants came from the following countries: Argentina, Belarus, China, Czech Republic, Egypt, Ethiopia, Germany, Ghana, Guinea, India, Israel, Italy, Jordan, Nigeria, Romania, Russian Federation, Sri Lanka, United States of America, Viet Nam, Zaire and Zimbabwe.')\n",
      "(2, 'Representatives of the following Member States attended the session: Argentina, Australia, Austria, Belgium, Brazil, Bulgaria, Canada, Chile, China, Colombia, Cuba, Czech Republic, Ecuador, France, Germany, Greece, Hungary, India, Indonesia, Iran (Islamic Republic of), Iraq, Italy, Japan, Kazakstan, Lebanon, Mexico, Morocco, Nicaragua, Nigeria, Pakistan, Philippines, Poland, Portugal, Republic of Korea, Romania, Russian Federation, South Africa, Spain, Sudan, Sweden, Syrian Arab Republic, Turkey, Ukraine, United Kingdom of Great Britain and Northern Ireland and United States of America.')\n",
      "(3, 'General statements were made by the following delegations: Argentina, Austria, Brazil, Bulgaria, Canada, Chile, China, Czech Republic, Ecuador, Germany, Hungary, India, Indonesia, Italy, Lebanon, Morocco, Nigeria, Pakistan, Philippines, Romania, Russian Federation, South Africa, Syrian Arab Republic, Turkey, United Kingdom and United States.')\n",
      "(4, 'The Subcommittee took note of the continuing programmes of Argentina, Australia, Austria, Brazil, Canada, China, France, Germany, India, Indonesia, Japan, Morocco, Russian Federation, Ukraine, United States and ESA for remote sensing satellites.')\n"
     ]
    }
   ],
   "source": [
    "def my_filter(x):\n",
    "    return x.__contains__(\"China\") and x.__contains__(\"United States\")\n",
    "\n",
    "ukraine2 = file.filter(my_filter)\n",
    "text2 = ukraine2.take(5)\n",
    "print(*enumerate(text2), sep=\"\\n\")"
   ]
  },
  {
   "cell_type": "markdown",
   "id": "3794bc52",
   "metadata": {},
   "source": [
    "关闭 Spark："
   ]
  },
  {
   "cell_type": "code",
   "execution_count": 8,
   "id": "11dddac6",
   "metadata": {},
   "outputs": [],
   "source": [
    "sc.stop()"
   ]
  }
 ],
 "metadata": {
  "kernelspec": {
   "display_name": "Python 3 (ipykernel)",
   "language": "python",
   "name": "python3"
  },
  "language_info": {
   "codemirror_mode": {
    "name": "ipython",
    "version": 3
   },
   "file_extension": ".py",
   "mimetype": "text/x-python",
   "name": "python",
   "nbconvert_exporter": "python",
   "pygments_lexer": "ipython3",
   "version": "3.8.5"
  }
 },
 "nbformat": 4,
 "nbformat_minor": 5
}
