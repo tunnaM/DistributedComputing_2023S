{
 "cells": [
  {
   "cell_type": "markdown",
   "metadata": {},
   "source": [
    "# 作业5"
   ]
  },
  {
   "cell_type": "markdown",
   "metadata": {},
   "source": [
    "### 第1题"
   ]
  },
  {
   "cell_type": "markdown",
   "metadata": {},
   "source": [
    "利用 PySpark 实现一个分布式估计圆周率 $\\pi$ 的程序，原理如下："
   ]
  },
  {
   "cell_type": "markdown",
   "metadata": {},
   "source": [
    "在正方形 $\\{(x,y):-1\\le x \\le 1, -1\\le y \\le 1\\}$ 中随机生成 $N$ 个独立的均匀分布随机数 $(X_i,Y_i)$，其中每个点 $(X_i,Y_i)$ 落入圆 $R=\\{(x,y): x^2+y^2\\le 1\\}$ 的概率是 $\\pi/4$。因此，如果随机生成的 $N$ 个点中有 $n$ 个落入圆 $R$ 中，那么 $\\pi$ 的估计就是 $4n/N$。"
   ]
  },
  {
   "cell_type": "markdown",
   "metadata": {},
   "source": [
    "![](https://media.geeksforgeeks.org/wp-content/uploads/MonteCarlo.png)"
   ]
  },
  {
   "cell_type": "markdown",
   "metadata": {},
   "source": [
    "现在我们采用分布式的方法并行模拟大量的随机数。考虑将所有的点分成100组，每组生成10000个点，每组独立产生随机数并计算落入圆内的数量，最后将所有100组的结果汇总并得出最终 $\\pi$ 的估计。为了使结果可重复，第 $i$ 组在生成随机数时使用 $i$ 作为随机数种子。PySpark 使用本地模式，开启 8 个 CPU 核心。"
   ]
  },
  {
   "cell_type": "markdown",
   "metadata": {},
   "source": [
    "**提示**：使用标准方法启动 PySpark 后，可以利用 `sc.parallelize()` 从一个迭代器或列表生成 RDD，如 `sc.parallelize(range(10))` 和 `sc.parallelize([1, 2, 3])`。"
   ]
  },
  {
   "cell_type": "code",
   "execution_count": 11,
   "metadata": {},
   "outputs": [
    {
     "name": "stdout",
     "output_type": "stream",
     "text": [
      "<pyspark.sql.session.SparkSession object at 0x00000282C54FDE50>\n",
      "<SparkContext master=local[8] appName=Reading Text>\n"
     ]
    }
   ],
   "source": [
    "import findspark\n",
    "findspark.init()\n",
    "\n",
    "from pyspark.sql import SparkSession\n",
    "# 单机模式\n",
    "spark = SparkSession.builder.master(\"local[8]\").appName(\"Reading Text\").getOrCreate()\n",
    "sc = spark.sparkContext\n",
    "# sc.setLogLevel(\"ERROR\")\n",
    "print(spark)\n",
    "print(sc)"
   ]
  },
  {
   "cell_type": "code",
   "execution_count": 6,
   "metadata": {},
   "outputs": [
    {
     "data": {
      "text/plain": [
       "3.142256"
      ]
     },
     "execution_count": 6,
     "metadata": {},
     "output_type": "execute_result"
    }
   ],
   "source": [
    "import numpy as np\n",
    "m = 100\n",
    "p = 10000\n",
    "\n",
    "def square(i):\n",
    "    global p\n",
    "    np.random.seed(i+1)\n",
    "    x = np.random.uniform(low=-1, high=1, size=p)\n",
    "    y = np.random.uniform(low=-1, high=1, size=p)\n",
    "    num = np.sum(np.square(x) + np.square(y) <= 1)\n",
    "    return num, p\n",
    "\n",
    "rdd = sc.parallelize(range(m))\n",
    "n, N = rdd.map(square).reduce(lambda x, y: (x[0] + y[0], x[1] + y[1]))\n",
    "pi_hat = 4 * n / N\n",
    "pi_hat"
   ]
  },
  {
   "cell_type": "markdown",
   "metadata": {},
   "source": [
    "### 第2题"
   ]
  },
  {
   "cell_type": "markdown",
   "metadata": {},
   "source": [
    "在 `lec12-admm-lasso.ipynb` 的基础上，利用 ADMM 算法求解 Lasso 问题"
   ]
  },
  {
   "cell_type": "markdown",
   "metadata": {},
   "source": [
    "$$\\frac{1}{2}\\Vert y-X\\beta\\Vert^2+\\lambda \\Vert \\beta\\Vert_1,$$"
   ]
  },
  {
   "cell_type": "markdown",
   "metadata": {},
   "source": [
    "并将其封装成一个函数："
   ]
  },
  {
   "cell_type": "markdown",
   "metadata": {},
   "source": [
    "```python\n",
    "admm_lasso(X, y, lam, rho=1.0, maxit=10000, eps=1e-3, verbose=0)\n",
    "```"
   ]
  },
  {
   "cell_type": "markdown",
   "metadata": {},
   "source": [
    "1. 其中 `X` 是 $n\\times p$ 的自变量矩阵，`y` 是 $n\\times 1$ 的因变量向量，`lam` 是惩罚项参数 $\\lambda$，`rho` 是 ADMM 算法的 $\\rho$ 参数，`maxit` 是最大迭代次数，`eps` 是 ADMM 收敛的残差临界值，`verbose` 表示是否输出迭代信息，如果 $>0$，则每隔 1000 次迭代打印出当前的两类残差，如果 $\\le 0$ 否则不输出任何信息。\n",
    "2. 参考 `lec12-admm-lad.ipynb` 中的 Cholesky 分解方法，只对矩阵进行一次分解，从而在每次迭代中高效地求解线性方程组。\n",
    "3. 函数需返回两个量，第一个表示实际使用的迭代次数，第二个表示估计的回归系数。"
   ]
  },
  {
   "cell_type": "code",
   "execution_count": 1,
   "metadata": {},
   "outputs": [],
   "source": [
    "from scipy.linalg import cho_factor, cho_solve\n",
    "\n",
    "def soft_thresholding(a, k):\n",
    "    return np.sign(a) * np.maximum(0.0, np.abs(a) - k)\n",
    "\n",
    "def admm_lasso(X, y, lam, rho=1.0, maxit=10000, eps=1e-3, verbose=0):\n",
    "    p = X.shape[1]\n",
    "    z = np.zeros(p)\n",
    "    u = np.zeros(p)\n",
    "    # Cholesky 分解\n",
    "    c, lower = cho_factor(X.T.dot(X) + rho * np.eye(p))\n",
    "\n",
    "    for i in range(maxit):\n",
    "        # x 更新\n",
    "        xnew = cho_solve((c, lower), X.T.dot(y)+rho*(z - u))\n",
    "        # z 更新\n",
    "        znew = soft_thresholding(xnew + u, lam / rho)\n",
    "        # u 更新\n",
    "        unew = u + xnew - znew\n",
    "        # 计算残差大小\n",
    "        resid_r_norm = np.linalg.norm(unew - u)\n",
    "        resid_s_norm = rho * np.linalg.norm(znew - z)\n",
    "        # 更新 x、z 和 u 的取值\n",
    "        z = znew\n",
    "        u = unew\n",
    "        # 打印残差信息，判断是否收敛\n",
    "        if verbose > 0 and i % 1000 == 0:\n",
    "            print(f\"Iteration {i}, ||r|| = {resid_r_norm:.6f}, ||s|| = {resid_s_norm:.6f}\")\n",
    "        if resid_r_norm <= eps and resid_s_norm <= eps:\n",
    "            break\n",
    "    return i+1, z"
   ]
  },
  {
   "cell_type": "markdown",
   "metadata": {},
   "source": [
    "利用模拟训练集数据测试上述编写的函数："
   ]
  },
  {
   "cell_type": "code",
   "execution_count": 3,
   "metadata": {},
   "outputs": [
    {
     "data": {
      "text/plain": [
       "array([-1.05417044, -0.78301134,  1.82790084,  1.7468072 ,  1.3282585 ,\n",
       "       -0.43277314, -0.6686141 , -0.47208845,  1.05554064,  0.67905585,\n",
       "        0.14814832,  1.04294573,  0.28718991,  1.55577283,  0.97031604,\n",
       "        0.39737593,  1.15394013, -0.00333042,  1.30948521, -0.90230241,\n",
       "        0.        ,  0.        ,  0.        ,  0.        ,  0.        ,\n",
       "        0.        ,  0.        ,  0.        ,  0.        ,  0.        ])"
      ]
     },
     "execution_count": 3,
     "metadata": {},
     "output_type": "execute_result"
    }
   ],
   "source": [
    "import numpy as np\n",
    "np.random.seed(123)\n",
    "n = 1000\n",
    "p = 30\n",
    "nz = 20\n",
    "Xtrain = np.random.normal(size=(n, p))\n",
    "# 真实的 x 只有前20个元素非零，其余均为0\n",
    "beta = np.random.normal(size=nz)\n",
    "beta = np.concatenate((beta, np.zeros(p - nz)))\n",
    "ytrain = Xtrain.dot(beta) + np.random.normal(size=n)\n",
    "beta"
   ]
  },
  {
   "cell_type": "code",
   "execution_count": 4,
   "metadata": {},
   "outputs": [
    {
     "name": "stdout",
     "output_type": "stream",
     "text": [
      "Iteration 0, ||r|| = 4.571809, ||s|| = 0.000000\n",
      "Iteration 1000, ||r|| = 0.067950, ||s|| = 0.000009\n",
      "Iteration 2000, ||r|| = 0.019016, ||s|| = 0.000003\n",
      "Iteration 3000, ||r|| = 0.007483, ||s|| = 0.000001\n",
      "Iteration 4000, ||r|| = 0.002978, ||s|| = 0.000000\n",
      "Iteration 5000, ||r|| = 0.001199, ||s|| = 0.000000\n"
     ]
    },
    {
     "data": {
      "text/plain": [
       "(5202,\n",
       " array([-0.98844619, -0.72995199,  1.72843395,  1.66188615,  1.18779108,\n",
       "        -0.1944663 , -0.59471119, -0.39143086,  1.01063023,  0.57378667,\n",
       "         0.03363641,  0.93113597,  0.22189703,  1.51032137,  0.90777987,\n",
       "         0.29344991,  1.08151311, -0.        ,  1.17431918, -0.78857287,\n",
       "        -0.        ,  0.        , -0.        , -0.        , -0.        ,\n",
       "        -0.        , -0.        , -0.        ,  0.        , -0.        ]))"
      ]
     },
     "execution_count": 4,
     "metadata": {},
     "output_type": "execute_result"
    }
   ],
   "source": [
    "admm_lasso(Xtrain, ytrain, lam=0.1 * n, maxit=10000, eps=1e-3, verbose=1)"
   ]
  },
  {
   "cell_type": "code",
   "execution_count": 5,
   "metadata": {},
   "outputs": [
    {
     "data": {
      "text/plain": [
       "(1287,\n",
       " array([-1.07555904, -0.81446022,  1.79118556,  1.72909346,  1.27448621,\n",
       "        -0.30689747, -0.66946929, -0.4730217 ,  1.09124222,  0.66934076,\n",
       "         0.12487601,  1.02527211,  0.30210648,  1.58722372,  0.96866322,\n",
       "         0.38493746,  1.15919477, -0.03766987,  1.27397237, -0.90126783,\n",
       "        -0.0074241 ,  0.01919108, -0.06064217, -0.02572023, -0.01930401,\n",
       "        -0.03339472,  0.        , -0.01529796,  0.02225086, -0.02012609]))"
      ]
     },
     "execution_count": 5,
     "metadata": {},
     "output_type": "execute_result"
    }
   ],
   "source": [
    "admm_lasso(Xtrain, ytrain, lam=0.01 * n, maxit=10000, eps=1e-3, verbose=0)"
   ]
  },
  {
   "cell_type": "markdown",
   "metadata": {},
   "source": [
    "### 第3题"
   ]
  },
  {
   "cell_type": "markdown",
   "metadata": {},
   "source": [
    "利用第2题中编写的函数，对一个新的测试集数据做预测。首先生成模拟数据："
   ]
  },
  {
   "cell_type": "code",
   "execution_count": 6,
   "metadata": {},
   "outputs": [],
   "source": [
    "np.random.seed(123)\n",
    "ntest = 500\n",
    "p = 30\n",
    "Xtest = np.random.normal(size=(ntest, p))\n",
    "ytest = Xtest.dot(beta) + np.random.normal(size=ntest)"
   ]
  },
  {
   "cell_type": "markdown",
   "metadata": {},
   "source": [
    "取 $\\lambda=0.1 n$，利用训练集估计回归系数，然后对测试集的因变量做预测，计算预测结果的均方误差，即\n",
    "$$\n",
    "MSE=\\frac{1}{n_{test}}\\sum_{i=1}^{n_{test}}(\\hat{y}_i-y_i)^2,\n",
    "$$\n",
    "其中 $y_i$ 是第 $i$ 个测试集观测的因变量取值，$\\hat{y}_i=x_i'\\hat{\\beta}$ 是第 $i$ 个观测的因变量预测值。"
   ]
  },
  {
   "cell_type": "code",
   "execution_count": 7,
   "metadata": {},
   "outputs": [
    {
     "data": {
      "text/plain": [
       "1.1783546761616057"
      ]
     },
     "execution_count": 7,
     "metadata": {},
     "output_type": "execute_result"
    }
   ],
   "source": [
    "iter_num, beta_hat = admm_lasso(Xtrain, ytrain, lam=0.1 * n, maxit=10000, eps=1e-3, verbose=0)\n",
    "y_hat = Xtest.dot(beta_hat)\n",
    "MSE = np.mean(np.square(y_hat - ytest))\n",
    "MSE"
   ]
  },
  {
   "cell_type": "markdown",
   "metadata": {},
   "source": [
    "利用 PySpark 来并行地对 Lasso 模型的 $\\lambda$ 参数进行调优，并考察 $\\rho$ 参数对算法收敛速度的影响。取 $\\rho=0.1,0.2,\\ldots,1.0$，$\\lambda=0.1n,0.01n,0.001n$。对于 $\\rho$ 和 $\\lambda$ 的这 30 个组合，分别利用训练集拟合 Lasso 模型，返回迭代次数，并计算在测试集上的预测 MSE。最终输出如下的结果："
   ]
  },
  {
   "cell_type": "markdown",
   "metadata": {},
   "source": [
    "```\n",
    "rho = 0.1, lambda/n = 0.1, niter = ..., mse = ...\n",
    "rho = 0.1, lambda/n = 0.01, niter = ..., mse = ...\n",
    "...\n",
    "```"
   ]
  },
  {
   "cell_type": "markdown",
   "metadata": {},
   "source": [
    "**提示**：先生成 $\\rho$ 和 $\\lambda$ 所有组合的列表，类似于 `params = [(0.1, 0.1), (0.1, 0.01), (0.1, 0.001), (0.2, 0.1), ...]`，然后利用 `sc.parallelize(params)` 生成一个 RDD，最后对这个 RDD 进行 `map()` 和 `collect()` 操作。"
   ]
  },
  {
   "cell_type": "code",
   "execution_count": 20,
   "metadata": {},
   "outputs": [
    {
     "name": "stdout",
     "output_type": "stream",
     "text": [
      "rho = 0.1, lambda/n = 0.1, niter = 10000, mse = 1.1862413289385212\n",
      "rho = 0.1, lambda/n = 0.01, niter = 10000, mse = 1.0462119621406527\n",
      "rho = 0.1, lambda/n = 0.001, niter = 2469, mse = 1.054495641790964\n",
      "rho = 0.2, lambda/n = 0.1, niter = 10000, mse = 1.1784220082446604\n",
      "rho = 0.2, lambda/n = 0.01, niter = 6429, mse = 1.0462129060335947\n",
      "rho = 0.2, lambda/n = 0.001, niter = 1235, mse = 1.0544962286867647\n",
      "rho = 0.3, lambda/n = 0.1, niter = 10000, mse = 1.1783872213386157\n",
      "rho = 0.3, lambda/n = 0.01, niter = 4286, mse = 1.0462129058026297\n",
      "rho = 0.3, lambda/n = 0.001, niter = 824, mse = 1.0544803449550018\n",
      "rho = 0.4, lambda/n = 0.1, niter = 10000, mse = 1.1783671606734305\n",
      "rho = 0.4, lambda/n = 0.01, niter = 3215, mse = 1.0462129061369436\n",
      "rho = 0.4, lambda/n = 0.001, niter = 619, mse = 1.0544803244140812\n",
      "rho = 0.5, lambda/n = 0.1, niter = 10000, mse = 1.1783561563633667\n",
      "rho = 0.5, lambda/n = 0.01, niter = 2572, mse = 1.0462129059005953\n",
      "rho = 0.5, lambda/n = 0.001, niter = 496, mse = 1.0544803174526547\n",
      "rho = 0.6, lambda/n = 0.1, niter = 8668, mse = 1.178354681560138\n",
      "rho = 0.6, lambda/n = 0.01, niter = 2144, mse = 1.0462129068025539\n",
      "rho = 0.6, lambda/n = 0.001, niter = 414, mse = 1.0544803174512845\n",
      "rho = 0.7, lambda/n = 0.1, niter = 7430, mse = 1.1783546808962542\n",
      "rho = 0.7, lambda/n = 0.01, niter = 1838, mse = 1.046212907126468\n",
      "rho = 0.7, lambda/n = 0.001, niter = 355, mse = 1.05448031747506\n",
      "rho = 0.8, lambda/n = 0.1, niter = 6502, mse = 1.1783546774889173\n",
      "rho = 0.8, lambda/n = 0.01, niter = 1608, mse = 1.0462129063055532\n",
      "rho = 0.8, lambda/n = 0.001, niter = 311, mse = 1.054480317483943\n",
      "rho = 0.9, lambda/n = 0.1, niter = 5780, mse = 1.1783546754536953\n",
      "rho = 0.9, lambda/n = 0.01, niter = 1430, mse = 1.0462129077763411\n",
      "rho = 0.9, lambda/n = 0.001, niter = 277, mse = 1.0544803174700836\n",
      "rho = 1.0, lambda/n = 0.1, niter = 5202, mse = 1.1783546761616057\n",
      "rho = 1.0, lambda/n = 0.01, niter = 1287, mse = 1.046212907520017\n",
      "rho = 1.0, lambda/n = 0.001, niter = 249, mse = 1.0544803175552797\n"
     ]
    }
   ],
   "source": [
    "params = [(rho, lam) for rho in np.linspace(0.1, 1.0, num=10) for lam in [0.1, 0.01, 0.001]]\n",
    "\n",
    "rdd = sc.parallelize(params)\n",
    "\n",
    "def parmas_fit(param, Xtrain, ytrain, Xtest, ytest):\n",
    "    rho, lam = param\n",
    "    global n\n",
    "    niter, beta_hat = admm_lasso(Xtrain, ytrain, lam*n, rho, maxit=10000, eps=1e-3, verbose=0)\n",
    "    y_hat = Xtest.dot(beta_hat)\n",
    "    mse = np.mean(np.square(y_hat - ytest))\n",
    "    return niter, mse\n",
    "\n",
    "results = rdd.map(lambda p: parmas_fit(p, Xtrain, ytrain, Xtest, ytest)).collect()\n",
    "\n",
    "for (rho, lambda_n), (niter, mse) in zip(params, results):\n",
    "    print(f\"rho = {rho:.1f}, lambda/n = {lambda_n}, niter = {niter}, mse = {mse}\") "
   ]
  },
  {
   "cell_type": "code",
   "execution_count": null,
   "metadata": {},
   "outputs": [],
   "source": []
  }
 ],
 "metadata": {
  "kernelspec": {
   "display_name": "Python 3 (ipykernel)",
   "language": "python",
   "name": "python3"
  },
  "language_info": {
   "codemirror_mode": {
    "name": "ipython",
    "version": 3
   },
   "file_extension": ".py",
   "mimetype": "text/x-python",
   "name": "python",
   "nbconvert_exporter": "python",
   "pygments_lexer": "ipython3",
   "version": "3.8.5"
  }
 },
 "nbformat": 4,
 "nbformat_minor": 4
}
