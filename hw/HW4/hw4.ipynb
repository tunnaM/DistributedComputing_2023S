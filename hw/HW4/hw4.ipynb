{
 "cells": [
  {
   "cell_type": "markdown",
   "metadata": {},
   "source": [
    "# 作业4：线性模型的分布式算法"
   ]
  },
  {
   "cell_type": "markdown",
   "metadata": {},
   "source": [
    "### 第1题"
   ]
  },
  {
   "cell_type": "markdown",
   "metadata": {},
   "source": [
    "先利用如下代码生成模拟数据，并写入文件。数据中最后一列代表因变量 $Y$，其余列为自变量 $X$。"
   ]
  },
  {
   "cell_type": "code",
   "execution_count": 70,
   "metadata": {},
   "outputs": [],
   "source": [
    "import numpy as np\n",
    "np.set_printoptions(linewidth=100)\n",
    "\n",
    "np.random.seed(123)\n",
    "n = 100000\n",
    "p = 100\n",
    "x = np.random.normal(size=(n, p))\n",
    "beta = np.random.normal(size=p)\n",
    "y = 1.23 + x.dot(beta) + np.random.normal(scale=2.0, size=n)\n",
    "dat = np.hstack((x, y.reshape(n, 1)))\n",
    "np.savetxt(\"reg_data.txt\", dat, fmt=\"%.8f\", delimiter=\";\")"
   ]
  },
  {
   "cell_type": "markdown",
   "metadata": {},
   "source": [
    "请以单机模式启动 PySpark，使用4个 CPU 核心，并编写分布式程序，实现如下计算："
   ]
  },
  {
   "cell_type": "code",
   "execution_count": 73,
   "metadata": {},
   "outputs": [
    {
     "name": "stdout",
     "output_type": "stream",
     "text": [
      "<pyspark.sql.session.SparkSession object at 0x000001FC82F47AC0>\n",
      "<SparkContext master=local[4] appName=Reading Text>\n"
     ]
    }
   ],
   "source": [
    "import findspark\n",
    "findspark.init()\n",
    "\n",
    "from pyspark.sql import SparkSession\n",
    "# 单机模式\n",
    "spark = SparkSession.builder.master(\"local[4]\").appName(\"Reading Text\").getOrCreate()\n",
    "sc = spark.sparkContext\n",
    "# sc.setLogLevel(\"ERROR\")\n",
    "print(spark)\n",
    "print(sc)"
   ]
  },
  {
   "cell_type": "markdown",
   "metadata": {},
   "source": [
    "1. 打印数据的前5行，并将每行的字符串截断至80个字符："
   ]
  },
  {
   "cell_type": "code",
   "execution_count": 74,
   "metadata": {},
   "outputs": [
    {
     "name": "stdout",
     "output_type": "stream",
     "text": [
      "-1.08563060;0.99734545;0.28297850;-1.50629471;-0.57860025;1.65143654;-2.42667924…\n",
      "0.64205469;-1.97788793;0.71226464;2.59830393;-0.02462598;0.03414213;0.17954948;-…\n",
      "0.70331012;-0.59810533;2.20070210;0.68829693;-0.00630725;-0.20666230;-0.08652229…\n",
      "0.76505485;-0.82898883;-0.65915131;0.61112355;-0.14401335;1.31660560;-0.70434215…\n",
      "1.53409029;-0.52991410;-0.49097228;-1.30916531;-0.00866047;0.97681298;-1.7510703…\n"
     ]
    }
   ],
   "source": [
    "file1 = sc.textFile(\"reg_data.txt\")\n",
    "\n",
    "text = file1.map(lambda x: x[:80] + \"…\").take(5)\n",
    "print(*text, sep=\"\\n\")"
   ]
  },
  {
   "cell_type": "markdown",
   "metadata": {},
   "source": [
    "2. 将读取数据后得到的 RDD 按分区转为矩阵。使用默认分区数，无需重新分区。打印出转换后的第一个非空分区所包含的数据。"
   ]
  },
  {
   "cell_type": "code",
   "execution_count": 75,
   "metadata": {},
   "outputs": [
    {
     "name": "stdout",
     "output_type": "stream",
     "text": [
      "[[ -1.0856306    0.99734545   0.2829785  ...   0.37940061  -0.37917643   3.72488966]\n",
      " [  0.64205469  -1.97788793   0.71226464 ...  -0.34126172  -0.21794626  10.98088055]\n",
      " [  0.70331012  -0.59810533   2.2007021  ...   0.16054442   0.81976061 -12.63028846]\n",
      " ...\n",
      " [ -0.30751248   0.1323937    2.33256448 ...   0.37475498  -1.37608098 -13.52353737]\n",
      " [ -0.02266014  -0.3014796    2.34502536 ...  -2.06082696  -1.20995417 -10.00714174]\n",
      " [  0.02415432  -0.3896902   -0.07492828 ...  -0.41935638  -1.68496516   8.33748658]]\n"
     ]
    }
   ],
   "source": [
    "def str_to_vec(line):\n",
    "    str_vec = line.split(\";\")\n",
    "    num_vec = map(lambda s: float(s), str_vec) \n",
    "    return np.fromiter(num_vec, dtype=float)\n",
    "\n",
    "def part_to_mat(iterator):\t\n",
    "\titer_arr = map(str_to_vec, iterator)\n",
    "\tdat = list(iter_arr)\n",
    "\tif len(dat) < 1: \n",
    "\t\tmat = np.array([])\n",
    "\telse:\n",
    "\t\tmat = np.vstack(dat)\n",
    "\tyield mat\n",
    "\n",
    "dat1 = file1.mapPartitions(part_to_mat).filter(lambda x: x.shape[0] > 0)\n",
    "print(dat1.first())"
   ]
  },
  {
   "cell_type": "markdown",
   "metadata": {},
   "source": [
    "3. 估计线性回归模型 $Y=X\\beta+\\varepsilon$ 的回归系数，**同时包含截距项**。要求**只使用一次** `reduce()`。"
   ]
  },
  {
   "cell_type": "code",
   "execution_count": 76,
   "metadata": {},
   "outputs": [
    {
     "data": {
      "text/plain": [
       "array([[ 1.22841355],\n",
       "       [-0.58056172],\n",
       "       [-1.12947488],\n",
       "       [ 1.16031679],\n",
       "       [ 0.68276231],\n",
       "       [ 0.64063205],\n",
       "       [-1.69803101],\n",
       "       [ 0.87295008],\n",
       "       [-0.6827681 ],\n",
       "       [ 1.21323821],\n",
       "       [-0.18532546],\n",
       "       [-0.60313748],\n",
       "       [ 0.45016343],\n",
       "       [ 1.54732259],\n",
       "       [ 0.93536575],\n",
       "       [ 0.33661885],\n",
       "       [-0.62839196],\n",
       "       [-0.18223468],\n",
       "       [ 1.04004336],\n",
       "       [ 0.99530527],\n",
       "       [-0.22421889],\n",
       "       [ 0.26910036],\n",
       "       [-1.95584105],\n",
       "       [ 0.93200566],\n",
       "       [-0.46663344],\n",
       "       [-1.30308226],\n",
       "       [-1.07451859],\n",
       "       [-0.9200001 ],\n",
       "       [-0.4751849 ],\n",
       "       [-0.41498631],\n",
       "       [ 0.0893936 ],\n",
       "       [ 0.74250157],\n",
       "       [ 0.44142653],\n",
       "       [ 0.78310696],\n",
       "       [ 0.0968675 ],\n",
       "       [-0.20661749],\n",
       "       [ 1.36408459],\n",
       "       [-0.84452182],\n",
       "       [-1.56303708],\n",
       "       [-0.03391736],\n",
       "       [ 0.05672465],\n",
       "       [-0.01335776],\n",
       "       [-0.31919022],\n",
       "       [-1.7366497 ],\n",
       "       [-1.35682179],\n",
       "       [-1.60938262],\n",
       "       [-1.28888311],\n",
       "       [ 0.92820726],\n",
       "       [ 0.9148462 ],\n",
       "       [-0.87189391],\n",
       "       [-1.11327839],\n",
       "       [-0.65324334],\n",
       "       [-1.54752238],\n",
       "       [-1.48016168],\n",
       "       [-1.40044728],\n",
       "       [ 0.06124555],\n",
       "       [-2.06832355],\n",
       "       [ 0.23966887],\n",
       "       [-1.45310857],\n",
       "       [-0.4958114 ],\n",
       "       [-1.0917562 ],\n",
       "       [ 1.22608413],\n",
       "       [ 0.71866161],\n",
       "       [ 0.46548143],\n",
       "       [-0.21573557],\n",
       "       [ 1.19919219],\n",
       "       [-0.18470024],\n",
       "       [ 0.41716831],\n",
       "       [ 0.48748654],\n",
       "       [-0.28702665],\n",
       "       [-0.92945413],\n",
       "       [-2.54835305],\n",
       "       [ 1.21073672],\n",
       "       [-0.41380347],\n",
       "       [ 0.40696645],\n",
       "       [ 0.74054168],\n",
       "       [ 1.59228068],\n",
       "       [-0.35873326],\n",
       "       [ 0.41181034],\n",
       "       [-1.44030368],\n",
       "       [-0.47743396],\n",
       "       [-0.27652029],\n",
       "       [-1.65913574],\n",
       "       [ 1.16482342],\n",
       "       [ 0.42295274],\n",
       "       [ 0.22050512],\n",
       "       [-0.59462348],\n",
       "       [ 1.16788557],\n",
       "       [-2.2204779 ],\n",
       "       [-0.5005211 ],\n",
       "       [-1.10794934],\n",
       "       [ 1.6138532 ],\n",
       "       [-1.31890072],\n",
       "       [-0.06216637],\n",
       "       [ 2.21620451],\n",
       "       [ 1.48179503],\n",
       "       [ 0.54913153],\n",
       "       [-0.73276144],\n",
       "       [ 0.4414304 ],\n",
       "       [ 2.14035783],\n",
       "       [ 1.68434134]])"
      ]
     },
     "execution_count": 76,
     "metadata": {},
     "output_type": "execute_result"
    }
   ],
   "source": [
    "def insert_int(x):\n",
    "    return np.insert(x,0,np.ones(x.shape[0]),axis=1)\n",
    "\n",
    "dat1_int = dat1.map(insert_int)\n",
    "xtxy = dat1_int.\\\n",
    "    map(lambda part: part[:, :-1].transpose().dot(part)).\\\n",
    "    reduce(lambda x, y: x + y)\n",
    "beta_hat1 = np.linalg.solve(xtxy[:, :-1], xtxy[:, -1].reshape(p+1, 1))\n",
    "beta_hat1"
   ]
  },
  {
   "cell_type": "markdown",
   "metadata": {},
   "source": [
    "4. 设计一个分布式算法，计算回归模型的 $R^2$。"
   ]
  },
  {
   "cell_type": "code",
   "execution_count": 77,
   "metadata": {},
   "outputs": [
    {
     "data": {
      "text/plain": [
       "0.9654396241479573"
      ]
     },
     "execution_count": 77,
     "metadata": {},
     "output_type": "execute_result"
    }
   ],
   "source": [
    "rss, n, s, ss = dat1_int.\\\n",
    "    map(lambda x: (np.sum((x[:, :-1].dot(beta_hat1)-x[:, -1].reshape(x.shape[0], 1))*(x[:, :-1].dot(beta_hat1)-x[:, -1].reshape(x.shape[0], 1)), axis=0)[0], x.shape[0], np.sum(x[:, -1], axis=0), np.sum(x[:, -1]*x[:, -1], axis=0))).\\\n",
    "    reduce(lambda x, y:(x[0] + y[0], x[1] + y[1], x[2] + y[2], x[3] + y[3]))\n",
    "mean = s / n\n",
    "tss =  ss - n * mean * mean\n",
    "r2 = 1 - rss / tss\n",
    "r2"
   ]
  },
  {
   "cell_type": "markdown",
   "metadata": {},
   "source": [
    "### 第2题"
   ]
  },
  {
   "cell_type": "markdown",
   "metadata": {},
   "source": [
    "(a) 考虑 Softplus 函数 $$\\mathrm{softplus}(x)=\\log(1+e^x)$$\n",
    "\n",
    "请利用 Numpy 编写一个函数 `softplus(x)`，令其可以接收一个向量或矩阵 `x`，返回 Softplus 函数在 `x` 上的取值。"
   ]
  },
  {
   "cell_type": "code",
   "execution_count": 42,
   "metadata": {},
   "outputs": [],
   "source": [
    "import numpy as np\n",
    "\n",
    "def softplus(x):\n",
    "    return np.log(1.0 + np.exp(x))"
   ]
  },
  {
   "cell_type": "markdown",
   "metadata": {},
   "source": [
    "一个简单的测试："
   ]
  },
  {
   "cell_type": "code",
   "execution_count": 43,
   "metadata": {},
   "outputs": [
    {
     "name": "stdout",
     "output_type": "stream",
     "text": [
      "[0.00000000e+00 0.00000000e+00 4.53988992e-05 6.93147181e-01\n",
      " 1.31326169e+00 1.00000454e+01 1.00000000e+02            inf]\n"
     ]
    },
    {
     "name": "stderr",
     "output_type": "stream",
     "text": [
      "C:\\Users\\DELL\\AppData\\Local\\Temp\\ipykernel_5848\\4024026145.py:4: RuntimeWarning: overflow encountered in exp\n",
      "  return np.log(1.0 + np.exp(x))\n"
     ]
    }
   ],
   "source": [
    "x = np.array([-1000.0, -100.0, -10.0, 0.0, 1.0, 10.0, 100.0, 1000.0])\n",
    "\n",
    "# 上面编写的函数\n",
    "print(softplus(x))"
   ]
  },
  {
   "cell_type": "markdown",
   "metadata": {},
   "source": [
    "(b) 上述结果是否正常？如果出现异常取值，思考可能的原因是什么，并参照课件上的说明再次尝试编写 Softplus 函数。注意尽可能使用 Numpy 提供的向量化函数，避免使用循环。该函数需同时支持向量和矩阵参数。如果一切正常，可忽略此问题。"
   ]
  },
  {
   "cell_type": "code",
   "execution_count": 44,
   "metadata": {},
   "outputs": [],
   "source": [
    "def softplus(x):\n",
    "    return np.where(x>=0.0, x+np.log(1.0+np.exp(-x)), np.log(1.0+np.exp(x)))"
   ]
  },
  {
   "cell_type": "markdown",
   "metadata": {},
   "source": [
    "再次测试："
   ]
  },
  {
   "cell_type": "code",
   "execution_count": 45,
   "metadata": {},
   "outputs": [
    {
     "name": "stdout",
     "output_type": "stream",
     "text": [
      "[0.00000000e+00 0.00000000e+00 4.53988992e-05 6.93147181e-01\n",
      " 1.31326169e+00 1.00000454e+01 1.00000000e+02 1.00000000e+03]\n",
      "\n",
      "[[0.00000000e+00 0.00000000e+00]\n",
      " [4.53988992e-05 6.93147181e-01]\n",
      " [1.31326169e+00 1.00000454e+01]\n",
      " [1.00000000e+02 1.00000000e+03]]\n"
     ]
    },
    {
     "name": "stderr",
     "output_type": "stream",
     "text": [
      "C:\\Users\\DELL\\AppData\\Local\\Temp\\ipykernel_5848\\1524946306.py:2: RuntimeWarning: overflow encountered in exp\n",
      "  return np.where(x>=0.0, x+np.log(1.0+np.exp(-x)), np.log(1.0+np.exp(x)))\n"
     ]
    }
   ],
   "source": [
    "print(softplus(x))\n",
    "print()\n",
    "print(softplus(x.reshape(4, 2)))"
   ]
  },
  {
   "cell_type": "markdown",
   "metadata": {},
   "source": [
    "### 第3题"
   ]
  },
  {
   "cell_type": "markdown",
   "metadata": {},
   "source": [
    "利用如下代码生成模拟数据，其中数据第一列代表0-1因变量 $Y$，其余列为自变量 $X$。"
   ]
  },
  {
   "cell_type": "code",
   "execution_count": 2,
   "metadata": {},
   "outputs": [],
   "source": [
    "import numpy as np\n",
    "from scipy.special import expit\n",
    "\n",
    "np.random.seed(123)\n",
    "n = 100000\n",
    "p = 100\n",
    "x = np.random.normal(size=(n, p))\n",
    "beta = np.random.normal(size=p)\n",
    "prob = expit(-0.5 + x.dot(beta))  # p = 1 / (1 + exp(-x * beta))\n",
    "y = np.random.binomial(1, prob, size=n)\n",
    "dat = np.hstack((y.reshape(n, 1), x))\n",
    "np.savetxt(\"logistic_data.txt\", dat, fmt=\"%.8f\", delimiter=\"\\t\")"
   ]
  },
  {
   "cell_type": "markdown",
   "metadata": {},
   "source": [
    "1. 对上述数据建立 Logistic 回归模型。任选一种算法，估计 Logistic 回归的回归系数，**同时包含截距项**。请利用第2题中编写的 Softplus 函数，编写**数值稳定**的函数计算 Logistic 回归的目标函数和梯度。"
   ]
  },
  {
   "cell_type": "code",
   "execution_count": 3,
   "metadata": {},
   "outputs": [
    {
     "name": "stdout",
     "output_type": "stream",
     "text": [
      "0.00000000\t-1.08563060\t0.99734545\t0.28297850\t-1.50629471\t-0.57860025\t1.65143654\t…\n",
      "1.00000000\t0.64205469\t-1.97788793\t0.71226464\t2.59830393\t-0.02462598\t0.03414213\t0…\n",
      "0.00000000\t0.70331012\t-0.59810533\t2.20070210\t0.68829693\t-0.00630725\t-0.20666230\t…\n",
      "1.00000000\t0.76505485\t-0.82898883\t-0.65915131\t0.61112355\t-0.14401335\t1.31660560\t…\n",
      "0.00000000\t1.53409029\t-0.52991410\t-0.49097228\t-1.30916531\t-0.00866047\t0.97681298…\n"
     ]
    }
   ],
   "source": [
    "file2 = sc.textFile(\"logistic_data.txt\")\n",
    "\n",
    "text = file2.map(lambda x: x[:80] + \"…\").take(5)\n",
    "print(*text, sep=\"\\n\")"
   ]
  },
  {
   "cell_type": "code",
   "execution_count": 4,
   "metadata": {},
   "outputs": [
    {
     "name": "stdout",
     "output_type": "stream",
     "text": [
      "[[ 0.         -1.0856306   0.99734545 ... -1.36347154  0.37940061\n",
      "  -0.37917643]\n",
      " [ 1.          0.64205469 -1.97788793 ... -0.11085072 -0.34126172\n",
      "  -0.21794626]\n",
      " [ 0.          0.70331012 -0.59810533 ...  0.41569454  0.16054442\n",
      "   0.81976061]\n",
      " ...\n",
      " [ 0.          1.04458986  1.14392554 ... -0.74881808  0.1943679\n",
      "   1.79074125]\n",
      " [ 1.          0.57248339  0.59607894 ...  0.62412782 -0.67295588\n",
      "   0.63768066]\n",
      " [ 1.          0.8264917   1.31059787 ... -1.46128427 -1.11978035\n",
      "  -0.18945281]]\n"
     ]
    }
   ],
   "source": [
    "def str_to_vec(line):\n",
    "    str_vec = line.split(\"\\t\")\n",
    "    num_vec = map(lambda s: float(s), str_vec) \n",
    "    return np.fromiter(num_vec, dtype=float)\n",
    "\n",
    "def part_to_mat(iterator):\t\n",
    "\titer_arr = map(str_to_vec, iterator)\n",
    "\tdat = list(iter_arr)\n",
    "\tif len(dat) < 1: \n",
    "\t\tmat = np.array([])\n",
    "\telse:\n",
    "\t\tmat = np.vstack(dat)\n",
    "\tyield mat\n",
    "\n",
    "dat2 = file2.mapPartitions(part_to_mat).filter(lambda x: x.shape[0] > 0)\n",
    "print(dat2.first())"
   ]
  },
  {
   "cell_type": "code",
   "execution_count": 38,
   "metadata": {},
   "outputs": [],
   "source": [
    "def sigmoid(x):\n",
    "    e = np.exp(-np.abs(x))\n",
    "    numer = np.where(x>=0.0, 1.0, e)\n",
    "    denom = 1.0 + e\n",
    "    return numer / denom"
   ]
  },
  {
   "cell_type": "code",
   "execution_count": 37,
   "metadata": {},
   "outputs": [],
   "source": [
    "def compute_obj_grad(part_mat, beta_old):\n",
    "    # 提取 X 和 y\n",
    "    y = part_mat[:, 0]\n",
    "    x = part_mat[:, 1:]\n",
    "    # X * beta\n",
    "    xb = x.dot(beta_old)\n",
    "    # 目标函数：sum(y * log(prob) + (1 - y) * log(1 - prob))\n",
    "    obj = -np.sum(y.dot(xb - softplus(xb)) + (1.0 - y).dot(-softplus(xb)))\n",
    "    # 梯度： prob = rho(X * beta)    grad = X'(prob - y)\n",
    "    prob = sigmoid(xb)\n",
    "    grad = x.transpose().dot(prob - y)\n",
    "    # 该分块的样本量\n",
    "    ni = x.shape[0]\n",
    "    return ni, obj, grad"
   ]
  },
  {
   "cell_type": "code",
   "execution_count": 39,
   "metadata": {},
   "outputs": [],
   "source": [
    "import time\n",
    "from scipy.optimize import minimize\n",
    "\n",
    "def logistic_obj_grad(beta, *args): # 两个参数，被优化参数，额外参数，这里是rdd\n",
    "\tdat = args[0]\n",
    "\tn, objfn, grad = dat.map(lambda part: compute_obj_grad(part, beta)).\\\n",
    "\t\treduce(lambda x, y: (x[0] + y[0], x[1] + y[1], x[2] + y[2]))\n",
    "\tobjfn /= n\n",
    "\tgrad /= n\n",
    "\treturn objfn, grad # 返回目标函数值和梯度"
   ]
  },
  {
   "cell_type": "code",
   "execution_count": 40,
   "metadata": {},
   "outputs": [
    {
     "name": "stdout",
     "output_type": "stream",
     "text": [
      "\n",
      "finished in 259.05640506744385 seconds\n"
     ]
    },
    {
     "data": {
      "text/plain": [
       "array([-0.52096407, -0.59177173, -1.10420282,  1.15465979,  0.67279837,\n",
       "        0.63931167, -1.6821693 ,  0.86039376, -0.69835934,  1.22447244,\n",
       "       -0.21061684, -0.60144532,  0.44210763,  1.57505206,  0.93504873,\n",
       "        0.34281896, -0.63114241, -0.16737596,  1.0356489 ,  0.98851574,\n",
       "       -0.21738375,  0.26607561, -1.95464866,  0.93399867, -0.44098173,\n",
       "       -1.32384665, -1.06956504, -0.93362761, -0.4787895 , -0.40974567,\n",
       "        0.13046112,  0.72410855,  0.43208806,  0.78064181,  0.12354026,\n",
       "       -0.20115911,  1.34425446, -0.84670395, -1.57109919, -0.02173033,\n",
       "        0.04200446,  0.01756201, -0.33733729, -1.74369454, -1.32739765,\n",
       "       -1.60008818, -1.28377354,  0.93920707,  0.93256773, -0.84856473,\n",
       "       -1.0869967 , -0.65544294, -1.52634818, -1.4603491 , -1.4154007 ,\n",
       "        0.06736306, -2.06483804,  0.25381062, -1.44378436, -0.45925271,\n",
       "       -1.12439444,  1.242744  ,  0.72114862,  0.46169417, -0.20588668,\n",
       "        1.19789087, -0.17368835,  0.4262061 ,  0.4962246 , -0.29830192,\n",
       "       -0.93075875, -2.52157374,  1.21259758, -0.40380498,  0.41772271,\n",
       "        0.75209208,  1.59695568, -0.36536751,  0.40531936, -1.4316261 ,\n",
       "       -0.46411393, -0.29280559, -1.65345982,  1.14671761,  0.43074398,\n",
       "        0.22171134, -0.58293298,  1.16003302, -2.22281508, -0.4898503 ,\n",
       "       -1.09010863,  1.60996092, -1.30408346, -0.04626331,  2.22580335,\n",
       "        1.44925135,  0.5331417 , -0.71869563,  0.47183266,  2.13955323,\n",
       "        1.64522118])"
      ]
     },
     "execution_count": 40,
     "metadata": {},
     "output_type": "execute_result"
    }
   ],
   "source": [
    "def insert_int(x):\n",
    "    return np.insert(x,1,np.ones(x.shape[0]),axis=1)\n",
    "\n",
    "dat2_int = dat2.map(insert_int)\n",
    "# 根据数据动态获取维度，不要使用之前模拟时的变量\n",
    "p = dat2_int.first().shape[1] - 1\n",
    "# beta初始化为0向量\n",
    "beta_init = np.zeros(p)\n",
    "\n",
    "t1 = time.time()\n",
    "res = minimize(logistic_obj_grad, beta_init, args=(dat2_int,), method=\"L-BFGS-B\", jac=True, options={\"iprint\": 1})\n",
    "t2 = time.time() \n",
    "print(f\"\\nfinished in {t2 - t1} seconds\")\n",
    "\n",
    "beta_hat2 = res[\"x\"]\n",
    "beta_hat2"
   ]
  },
  {
   "cell_type": "markdown",
   "metadata": {},
   "source": [
    "2. 利用估计得到的 $\\hat{\\beta}$ 对原始数据进行预测，令 $\\hat{\\rho}_i$ 表示估计出的每个观测 $Y_i$ 取值为1的概率。为每个观测计算一个预测的0-1标签 $\\hat{l}_i$，规则如下：如果 $\\hat{\\rho}_i\\ge 0.5$，则 $\\hat{l}_i=1$，反之 $\\hat{l}_i=0$。利用分布式算法计算模型的预测准确度，即 $n^{-1}\\sum_{i=1}^n I(Y_i=\\hat{l}_i)$。$I(Y_i=\\hat{l}_i)$ 表示预测对取1，预测错取0。"
   ]
  },
  {
   "cell_type": "code",
   "execution_count": 68,
   "metadata": {},
   "outputs": [],
   "source": [
    "fore, n = dat2_int.\\\n",
    "    map(lambda x: (np.sum(np.where(np.random.binomial(1, sigmoid(x[:, 1:].dot(beta_hat2)), size=x.shape[0])==x[:, 0], 1, 0)), x.shape[0])).\\\n",
    "    reduce(lambda x, y:(x[0] + y[0], x[1] + y[1]))\n",
    "\n",
    "indicator = fore / n"
   ]
  },
  {
   "cell_type": "code",
   "execution_count": 69,
   "metadata": {},
   "outputs": [
    {
     "data": {
      "text/plain": [
       "0.92622"
      ]
     },
     "execution_count": 69,
     "metadata": {},
     "output_type": "execute_result"
    }
   ],
   "source": [
    "indicator"
   ]
  },
  {
   "cell_type": "code",
   "execution_count": 71,
   "metadata": {},
   "outputs": [],
   "source": [
    "sc.stop()"
   ]
  }
 ],
 "metadata": {
  "kernelspec": {
   "display_name": "Python 3 (ipykernel)",
   "language": "python",
   "name": "python3"
  },
  "language_info": {
   "codemirror_mode": {
    "name": "ipython",
    "version": 3
   },
   "file_extension": ".py",
   "mimetype": "text/x-python",
   "name": "python",
   "nbconvert_exporter": "python",
   "pygments_lexer": "ipython3",
   "version": "3.8.5"
  }
 },
 "nbformat": 4,
 "nbformat_minor": 4
}
