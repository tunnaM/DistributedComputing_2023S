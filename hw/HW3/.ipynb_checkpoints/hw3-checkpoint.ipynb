{
 "cells": [
  {
   "cell_type": "markdown",
   "id": "63a29840",
   "metadata": {},
   "source": [
    "# 作业3"
   ]
  },
  {
   "cell_type": "markdown",
   "id": "a132aded",
   "metadata": {},
   "source": [
    "### 第1题：Numpy 练习"
   ]
  },
  {
   "cell_type": "markdown",
   "id": "ba29b8fc",
   "metadata": {},
   "source": [
    "以下运算都可以调用相应的函数而避免使用显式循环。"
   ]
  },
  {
   "cell_type": "markdown",
   "id": "37a7c48d",
   "metadata": {},
   "source": [
    "(a) 生成1000个服从 (0, 1) 间均匀分布的随机数，赋值给变量 `x`，并打印其最后10个元素。"
   ]
  },
  {
   "cell_type": "code",
   "execution_count": 18,
   "id": "5a533062",
   "metadata": {},
   "outputs": [
    {
     "name": "stdout",
     "output_type": "stream",
     "text": [
      "[0.46335776 0.0583869  0.53865824 0.14603574 0.63408481 0.26439746\n",
      " 0.69091539 0.34714606 0.00416849 0.29489471]\n"
     ]
    }
   ],
   "source": [
    "import numpy as np\n",
    "np.random.seed(123)\n",
    "n = 1000\n",
    "\n",
    "x = np.random.uniform(size=n)\n",
    "\n",
    "print(x[-10:])"
   ]
  },
  {
   "cell_type": "markdown",
   "id": "9e1e545a",
   "metadata": {},
   "source": [
    "(b) 创建向量 `y`，令其在数学上等于 $y=-\\log(x)$，其中 $\\log$ 为自然对数，并打印其前10个元素。查找在 Python 中绘制图形的方法，绘制 `y` 的直方图。"
   ]
  },
  {
   "cell_type": "code",
   "execution_count": 19,
   "id": "2153476f",
   "metadata": {
    "scrolled": true
   },
   "outputs": [
    {
     "name": "stdout",
     "output_type": "stream",
     "text": [
      "[0.36173173 1.2512764  1.48345987 0.59544936 0.32924188 0.86013145\n",
      " 0.01942322 0.37858503 0.7320296  0.93619369]\n"
     ]
    },
    {
     "data": {
      "text/plain": [
       "(array([610., 249.,  79.,  37.,  15.,   7.,   2.,   0.,   0.,   1.]),\n",
       " array([1.08217937e-03, 9.41990243e-01, 1.88289831e+00, 2.82380637e+00,\n",
       "        3.76471443e+00, 4.70562250e+00, 5.64653056e+00, 6.58743862e+00,\n",
       "        7.52834669e+00, 8.46925475e+00, 9.41016282e+00]),\n",
       " <BarContainer object of 10 artists>)"
      ]
     },
     "execution_count": 19,
     "metadata": {},
     "output_type": "execute_result"
    },
    {
     "data": {
      "image/png": "[encoded data removed]",
      "text/plain": [
       "<Figure size 432x288 with 1 Axes>"
      ]
     },
     "metadata": {
      "needs_background": "light"
     },
     "output_type": "display_data"
    }
   ],
   "source": [
    "import matplotlib.pyplot as plt\n",
    "y = np.log(x) * (-1)\n",
    "print(y[:10])\n",
    "\n",
    "plt.hist(y)"
   ]
  },
  {
   "cell_type": "markdown",
   "id": "b361622f",
   "metadata": {},
   "source": [
    "(c) 猜测或证明 `y` 服从什么分布，并简要说明理由。"
   ]
  },
  {
   "cell_type": "markdown",
   "id": "fca4bb86",
   "metadata": {},
   "source": [
    "服从参数为1的指数分布。\n",
    "\n",
    "$X \\sim U(0,1)$，则\n",
    "\n",
    "$f(X)=\n",
    "\\left\\{\\begin{matrix}\n",
    " 1 & 0<x<1\\\\ \n",
    " 0 & otherwise\n",
    "\\end{matrix}\n",
    "\\right.$\n",
    "\n",
    "$\\because Y = -lnX$，则\n",
    "\n",
    "$F_{Y} (y) = P\\left \\{ Y\\le y \\right \\} \n",
    "\\newline =P\\left \\{ ln\\frac{1}{X}\\le y \\right \\}\n",
    "\\newline =P\\left \\{ X \\ge \\frac{1}{e^{y}} \\right \\}\n",
    "\\newline =1 - P\\left \\{ X < \\frac{1}{e^{y}} \\right \\}\n",
    "\\newline =1 - \\int_{0}^{\\frac{1}{e^{y}}} 1dx\n",
    "\\newline =1 - e^{-y} \\quad x>0$\n",
    "\n",
    "$\\therefore f_{y} (y) = \\left\\{\\begin{matrix}\n",
    " e^{-y} & y>0 \\\\\n",
    " 0 & otherwise\n",
    "\\end{matrix}\\right.$\n",
    "\n",
    "$\\therefore$ Y服从参数为1的指数分布。\n"
   ]
  },
  {
   "cell_type": "markdown",
   "id": "f5fd972a",
   "metadata": {},
   "source": [
    "(d) 将 `y` 转为 $200\\times 5$ 的矩阵，赋值给 `mat1`，元素**按行排列**。打印其前5行。"
   ]
  },
  {
   "cell_type": "code",
   "execution_count": 10,
   "id": "a9ea0f53",
   "metadata": {},
   "outputs": [
    {
     "data": {
      "text/plain": [
       "array([[0.36173173, 1.2512764 , 1.48345987, 0.59544936, 0.32924188],\n",
       "       [0.86013145, 0.01942322, 0.37858503, 0.7320296 , 0.93619369],\n",
       "       [1.06950597, 0.31601336, 0.82423073, 2.81879357, 0.92119209],\n",
       "       [0.30381768, 1.70105042, 1.74039117, 0.63195543, 0.63143593],\n",
       "       [0.4550741 , 0.16318763, 0.32233518, 0.49261984, 0.32511623]])"
      ]
     },
     "execution_count": 10,
     "metadata": {},
     "output_type": "execute_result"
    }
   ],
   "source": [
    "mat1 = y.reshape(200,5)\n",
    "mat1[0:5,]"
   ]
  },
  {
   "cell_type": "markdown",
   "id": "be5fb6a1",
   "metadata": {},
   "source": [
    "(e) 将 `y` 转为 $200\\times 5$ 的矩阵，赋值给 `mat2`，元素**按列排列**。打印其前5行。（提示：可以使用转置操作）"
   ]
  },
  {
   "cell_type": "code",
   "execution_count": 23,
   "id": "fe79fd31",
   "metadata": {},
   "outputs": [
    {
     "data": {
      "text/plain": [
       "array([[3.61731729e-01, 6.11316671e-01, 7.84669227e-01, 3.54734255e-01,\n",
       "        9.48826308e-01],\n",
       "       [1.25127640e+00, 2.70643486e+00, 1.27367300e+00, 3.45903001e-01,\n",
       "        5.87239562e-01],\n",
       "       [1.48345987e+00, 4.25619544e-01, 6.94662176e-02, 4.08853989e-02,\n",
       "        4.25847852e+00],\n",
       "       [5.95449364e-01, 3.92135109e-03, 1.15724396e+00, 1.31585080e-01,\n",
       "        1.65291009e-01],\n",
       "       [3.29241881e-01, 2.62147750e-01, 9.46242868e-02, 7.59159497e-01,\n",
       "        8.12969772e-02]])"
      ]
     },
     "execution_count": 23,
     "metadata": {},
     "output_type": "execute_result"
    }
   ],
   "source": [
    "mat2 = y.reshape(5,200).T\n",
    "mat2[0:5,]"
   ]
  },
  {
   "cell_type": "markdown",
   "id": "3f416e8d",
   "metadata": {},
   "source": [
    "(f) 计算 `mat1` 每一列的均值，得到一个长度为5的向量 `v`，将其打印出来。然后将 `mat1` 的每一列进行中心化（即减去各自的均值），赋给变量 `mat1_centered`。类似地，计算 `mat1_centered` 的列均值向量并打印出来。"
   ]
  },
  {
   "cell_type": "code",
   "execution_count": 24,
   "id": "d7e74a3e",
   "metadata": {},
   "outputs": [
    {
     "name": "stdout",
     "output_type": "stream",
     "text": [
      "[1.04853524 1.01995174 0.93937927 0.91263219 1.06584254]\n",
      "\n",
      "[-6.24500451e-16 -3.28626015e-16 -6.16173779e-17 -3.28626015e-16\n",
      "  7.66053887e-17]\n"
     ]
    }
   ],
   "source": [
    "v = np.mean(mat1, axis=0)\n",
    "print(v)\n",
    "print()\n",
    "\n",
    "mat1_centered = mat1 - v\n",
    "print(np.mean(mat1_centered, axis=0))"
   ]
  },
  {
   "cell_type": "markdown",
   "id": "d761f5c6",
   "metadata": {},
   "source": [
    "### 第2题：统计计算练习"
   ]
  },
  {
   "cell_type": "markdown",
   "id": "a7691017",
   "metadata": {},
   "source": [
    "(a) 生成一个 $10000\\times 1000$ 的矩阵 `X`，每个元素服从标准正态分布。生成一个长度为 10000 的向量 `y`，每个元素服从均值为0、方差为2的正态分布。生成一个长度为 10000 的向量 `w`，每个元素服从 $(1,5)$ 上的均匀分布。"
   ]
  },
  {
   "cell_type": "code",
   "execution_count": 26,
   "id": "e7d73695",
   "metadata": {},
   "outputs": [],
   "source": [
    "n = 10000\n",
    "m = 1000\n",
    "np.random.seed(123)\n",
    "X = np.random.normal(loc=0.0, scale=1.0, size=(n, m))\n",
    "y = np.random.normal(loc=0.0, scale=np.sqrt(2), size=n)\n",
    "w = np.random.uniform(1, 5, size=n)"
   ]
  },
  {
   "cell_type": "markdown",
   "id": "82fad746",
   "metadata": {},
   "source": [
    "(b) 使用恰当的方式计算 $\\hat{y}=X(X^{T}WX)^{-1}X^{T}Wy$，其中 `W` 是以 `w` 为对角线的对角矩阵。"
   ]
  },
  {
   "cell_type": "code",
   "execution_count": 28,
   "id": "8d9b17f6",
   "metadata": {},
   "outputs": [
    {
     "name": "stdout",
     "output_type": "stream",
     "text": [
      "running time: 5.023997068405151 seconds.\n"
     ]
    }
   ],
   "source": [
    "import time\n",
    "t1 = time.time()\n",
    "\n",
    "y_hat = X.dot(np.linalg.solve(X.T.dot(X * w.reshape(n, 1)), X.T.dot(y * w.reshape(n, 1))))\n",
    "\n",
    "t2 = time.time()\n",
    "print(f\"running time: {t2 - t1} seconds.\")"
   ]
  },
  {
   "cell_type": "markdown",
   "id": "6d7bed85",
   "metadata": {},
   "source": [
    "### 第3题：PySpark RDD 练习"
   ]
  },
  {
   "cell_type": "markdown",
   "id": "df963895",
   "metadata": {},
   "source": [
    "利用如下代码模拟生成一个 $100000\\times 10$ 的矩阵，并写入文件 `sim_data.txt`。"
   ]
  },
  {
   "cell_type": "code",
   "execution_count": 1,
   "id": "9314c6bf",
   "metadata": {},
   "outputs": [],
   "source": [
    "import numpy as np\n",
    "np.random.seed(123)\n",
    "dat = np.random.uniform(size=(100000, 10))\n",
    "np.savetxt(\"sim_data.txt\", dat, fmt=\"%.6f\", delimiter=\",\")"
   ]
  },
  {
   "cell_type": "markdown",
   "id": "ce5212ab",
   "metadata": {},
   "source": [
    "使用合适的命令以单机模式启动 PySpark，并使用4个 CPU 核心。"
   ]
  },
  {
   "cell_type": "code",
   "execution_count": 2,
   "id": "3dd407f9",
   "metadata": {},
   "outputs": [],
   "source": [
    "import findspark\n",
    "findspark.init()\n",
    "\n",
    "from pyspark.sql import SparkSession\n",
    "# 单机模式\n",
    "spark = SparkSession.builder.master(\"local[4]\").appName(\"Reading Text\").getOrCreate()\n",
    "sc = spark.sparkContext"
   ]
  },
  {
   "cell_type": "markdown",
   "id": "892f80cd",
   "metadata": {},
   "source": [
    "利用 PySpark 读取文件并打印出前5行："
   ]
  },
  {
   "cell_type": "code",
   "execution_count": 21,
   "id": "5f6f457d",
   "metadata": {},
   "outputs": [
    {
     "name": "stdout",
     "output_type": "stream",
     "text": [
      "0.696469,0.286139,0.226851,0.551315,0.719469,0.423106,0.980764,0.684830,0.480932,0.392118\n",
      "0.343178,0.729050,0.438572,0.059678,0.398044,0.737995,0.182492,0.175452,0.531551,0.531828\n",
      "0.634401,0.849432,0.724455,0.611024,0.722443,0.322959,0.361789,0.228263,0.293714,0.630976\n",
      "0.092105,0.433701,0.430863,0.493685,0.425830,0.312261,0.426351,0.893389,0.944160,0.501837\n",
      "0.623953,0.115618,0.317285,0.414826,0.866309,0.250455,0.483034,0.985560,0.519485,0.612895\n"
     ]
    }
   ],
   "source": [
    "file = sc.textFile(\"sim_data.txt\")\n",
    "text1 = file.take(5)\n",
    "print(*text1, sep=\"\\n\")"
   ]
  },
  {
   "cell_type": "markdown",
   "id": "6e6e6452",
   "metadata": {},
   "source": [
    "利用 `map()` 函数，生成一个元素类型为 Numpy 向量的 RDD，其每一个元素对应原始文本数据的每一行。打印出该 RDD 的前5个元素。"
   ]
  },
  {
   "cell_type": "code",
   "execution_count": 22,
   "id": "74296bda",
   "metadata": {},
   "outputs": [
    {
     "name": "stdout",
     "output_type": "stream",
     "text": [
      "[0.696469 0.286139 0.226851 0.551315 0.719469 0.423106 0.980764 0.68483\n",
      " 0.480932 0.392118]\n",
      "[0.343178 0.72905  0.438572 0.059678 0.398044 0.737995 0.182492 0.175452\n",
      " 0.531551 0.531828]\n",
      "[0.634401 0.849432 0.724455 0.611024 0.722443 0.322959 0.361789 0.228263\n",
      " 0.293714 0.630976]\n",
      "[0.092105 0.433701 0.430863 0.493685 0.42583  0.312261 0.426351 0.893389\n",
      " 0.94416  0.501837]\n",
      "[0.623953 0.115618 0.317285 0.414826 0.866309 0.250455 0.483034 0.98556\n",
      " 0.519485 0.612895]\n"
     ]
    }
   ],
   "source": [
    "def str_to_vec(line):\n",
    "    str_vec = line.split(\",\")\n",
    "    num_vec = map(lambda s: float(s), str_vec)\n",
    "    return np.fromiter(num_vec, dtype=float)\n",
    "\n",
    "file_arr = file.map(str_to_vec)\n",
    "text2 = file_arr.take(5)\n",
    "print(*text2, sep=\"\\n\")"
   ]
  },
  {
   "cell_type": "markdown",
   "id": "009cbfe6",
   "metadata": {},
   "source": [
    "利用 `map()` 和 `reduce()` 函数计算每一列的样本方差，并将结果打印出来。要求 `reduce()` 只能使用一次。"
   ]
  },
  {
   "cell_type": "code",
   "execution_count": 23,
   "id": "902b0f67",
   "metadata": {},
   "outputs": [
    {
     "name": "stdout",
     "output_type": "stream",
     "text": [
      "[-2.51062258e+09 -2.50387323e+09 -2.47381777e+09 -2.50038955e+09\n",
      " -2.50974895e+09 -2.49275408e+09 -2.50384515e+09 -2.48353870e+09\n",
      " -2.50279680e+09 -2.51234818e+09]\n"
     ]
    }
   ],
   "source": [
    "n, s, ss = file_arr.\\\n",
    "    map(lambda x:(1, x, x*x)).\\\n",
    "    reduce(lambda x, y:(x[0] +y[0], x[1] + y[1], x[2] + y[2]))\n",
    "mean = s / n\n",
    "vec_var =  (ss - n * s * s) / (n - 1)\n",
    "print(vec_var)"
   ]
  },
  {
   "cell_type": "markdown",
   "id": "447a674e",
   "metadata": {},
   "source": [
    "将原始文件的 RDD 划为10个分区，然后利用 `mapPartitions()` 函数将每个分区转成一个 Numpy 矩阵，过滤掉空的矩阵，最后得到一个元素类型为 Numpy 矩阵的 RDD。然后打印出该 RDD 的元素个数。"
   ]
  },
  {
   "cell_type": "code",
   "execution_count": 25,
   "id": "1fa333ff",
   "metadata": {},
   "outputs": [
    {
     "name": "stdout",
     "output_type": "stream",
     "text": [
      "10\n"
     ]
    }
   ],
   "source": [
    "file_p10 = file.repartition(10)\n",
    "\n",
    "def part_to_mat(iterator):\n",
    "    iter_arr = map(str_to_vec, iterator)\n",
    "    dat = list(iter_arr)\n",
    "    if len(dat) < 1:\n",
    "        mat = np.array([])\n",
    "    else:\n",
    "        mat = np.vstack(dat)\n",
    "    yield mat\n",
    "\n",
    "dat_p10_nonempty = file_p10.\\\n",
    "    mapPartitions(part_to_mat).\\\n",
    "    filter(lambda x: x.shape[0] > 0)\n",
    "\n",
    "print(dat_p10_nonempty.count())"
   ]
  },
  {
   "cell_type": "markdown",
   "id": "7739817d",
   "metadata": {},
   "source": [
    "利用上述 RDD 和 `map()`、`reduce()` 函数计算每一列的样本方差，并将结果打印出来。要求 `reduce()` 只能使用一次。"
   ]
  },
  {
   "cell_type": "code",
   "execution_count": 26,
   "id": "cb621557",
   "metadata": {},
   "outputs": [
    {
     "name": "stdout",
     "output_type": "stream",
     "text": [
      "[-2.51062258e+09 -2.50387323e+09 -2.47381777e+09 -2.50038955e+09\n",
      " -2.50974895e+09 -2.49275408e+09 -2.50384515e+09 -2.48353870e+09\n",
      " -2.50279680e+09 -2.51234818e+09]\n"
     ]
    }
   ],
   "source": [
    "n, s, ss = dat_p10_nonempty.\\\n",
    "    map(lambda x:(x.shape[0], np.sum(x, axis=0), np.sum(x*x, axis=0))).\\\n",
    "    reduce(lambda x, y:(x[0] + y[0], x[1] + y[1], x[2] + y[2]))\n",
    "mean = s / n\n",
    "vec_var =  (ss - n * s * s) / (n - 1)\n",
    "print(vec_var)"
   ]
  },
  {
   "cell_type": "code",
   "execution_count": 27,
   "id": "925d0104",
   "metadata": {},
   "outputs": [],
   "source": [
    "sc.stop()"
   ]
  }
 ],
 "metadata": {
  "kernelspec": {
   "display_name": "Python 3 (ipykernel)",
   "language": "python",
   "name": "python3"
  },
  "language_info": {
   "codemirror_mode": {
    "name": "ipython",
    "version": 3
   },
   "file_extension": ".py",
   "mimetype": "text/x-python",
   "name": "python",
   "nbconvert_exporter": "python",
   "pygments_lexer": "ipython3",
   "version": "3.8.5"
  }
 },
 "nbformat": 4,
 "nbformat_minor": 5
}
